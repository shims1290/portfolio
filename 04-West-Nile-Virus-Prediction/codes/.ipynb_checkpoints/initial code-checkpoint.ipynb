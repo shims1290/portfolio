{
 "cells": [
  {
   "cell_type": "markdown",
   "id": "879720e1",
   "metadata": {},
   "source": [
    "<img src=\"http://imgur.com/1ZcRyrc.png\" style=\"float: left; margin: 20px; height: 55px\">\n",
    "\n",
    "# Project 4 - West Nile Virus Prediction (Kaggle Competition)"
   ]
  },
  {
   "cell_type": "markdown",
   "id": "6b6955a9",
   "metadata": {},
   "source": [
    "## Libraries & Data Import"
   ]
  },
  {
   "cell_type": "code",
   "execution_count": 1,
   "id": "74e657a1",
   "metadata": {},
   "outputs": [],
   "source": [
    "import pandas as pd\n",
    "import numpy as np\n",
    "import matplotlib.pyplot as plt\n",
    "import seaborn as sns\n",
    "\n",
    "import warnings\n",
    "warnings.filterwarnings(\"ignore\")\n",
    "\n",
    "%matplotlib inline"
   ]
  },
  {
   "cell_type": "code",
   "execution_count": 2,
   "id": "600a076c",
   "metadata": {},
   "outputs": [],
   "source": [
    "# import datasets from Kaggle\n",
    "spray = pd.read_csv(\"../assets/spray.csv\")\n",
    "weather = pd.read_csv(\"../assets/weather.csv\")\n",
    "train = pd.read_csv(\"../assets/train.csv\")\n",
    "test = pd.read_csv(\"../assets/test.csv\")"
   ]
  },
  {
   "cell_type": "markdown",
   "id": "e7f859a5",
   "metadata": {},
   "source": [
    "## Data Overview"
   ]
  },
  {
   "cell_type": "code",
   "execution_count": 3,
   "id": "a095b753",
   "metadata": {
    "scrolled": true
   },
   "outputs": [
    {
     "data": {
      "text/html": [
       "<div>\n",
       "<style scoped>\n",
       "    .dataframe tbody tr th:only-of-type {\n",
       "        vertical-align: middle;\n",
       "    }\n",
       "\n",
       "    .dataframe tbody tr th {\n",
       "        vertical-align: top;\n",
       "    }\n",
       "\n",
       "    .dataframe thead th {\n",
       "        text-align: right;\n",
       "    }\n",
       "</style>\n",
       "<table border=\"1\" class=\"dataframe\">\n",
       "  <thead>\n",
       "    <tr style=\"text-align: right;\">\n",
       "      <th></th>\n",
       "      <th>Date</th>\n",
       "      <th>Time</th>\n",
       "      <th>Latitude</th>\n",
       "      <th>Longitude</th>\n",
       "    </tr>\n",
       "  </thead>\n",
       "  <tbody>\n",
       "    <tr>\n",
       "      <th>0</th>\n",
       "      <td>2011-08-29</td>\n",
       "      <td>6:56:58 PM</td>\n",
       "      <td>42.391623</td>\n",
       "      <td>-88.089163</td>\n",
       "    </tr>\n",
       "    <tr>\n",
       "      <th>1</th>\n",
       "      <td>2011-08-29</td>\n",
       "      <td>6:57:08 PM</td>\n",
       "      <td>42.391348</td>\n",
       "      <td>-88.089163</td>\n",
       "    </tr>\n",
       "    <tr>\n",
       "      <th>2</th>\n",
       "      <td>2011-08-29</td>\n",
       "      <td>6:57:18 PM</td>\n",
       "      <td>42.391022</td>\n",
       "      <td>-88.089157</td>\n",
       "    </tr>\n",
       "    <tr>\n",
       "      <th>3</th>\n",
       "      <td>2011-08-29</td>\n",
       "      <td>6:57:28 PM</td>\n",
       "      <td>42.390637</td>\n",
       "      <td>-88.089158</td>\n",
       "    </tr>\n",
       "    <tr>\n",
       "      <th>4</th>\n",
       "      <td>2011-08-29</td>\n",
       "      <td>6:57:38 PM</td>\n",
       "      <td>42.390410</td>\n",
       "      <td>-88.088858</td>\n",
       "    </tr>\n",
       "  </tbody>\n",
       "</table>\n",
       "</div>"
      ],
      "text/plain": [
       "         Date        Time   Latitude  Longitude\n",
       "0  2011-08-29  6:56:58 PM  42.391623 -88.089163\n",
       "1  2011-08-29  6:57:08 PM  42.391348 -88.089163\n",
       "2  2011-08-29  6:57:18 PM  42.391022 -88.089157\n",
       "3  2011-08-29  6:57:28 PM  42.390637 -88.089158\n",
       "4  2011-08-29  6:57:38 PM  42.390410 -88.088858"
      ]
     },
     "execution_count": 3,
     "metadata": {},
     "output_type": "execute_result"
    }
   ],
   "source": [
    "spray.head()"
   ]
  },
  {
   "cell_type": "code",
   "execution_count": 4,
   "id": "d99c0130",
   "metadata": {},
   "outputs": [
    {
     "name": "stdout",
     "output_type": "stream",
     "text": [
      "<class 'pandas.core.frame.DataFrame'>\n",
      "RangeIndex: 14835 entries, 0 to 14834\n",
      "Data columns (total 4 columns):\n",
      " #   Column     Non-Null Count  Dtype  \n",
      "---  ------     --------------  -----  \n",
      " 0   Date       14835 non-null  object \n",
      " 1   Time       14251 non-null  object \n",
      " 2   Latitude   14835 non-null  float64\n",
      " 3   Longitude  14835 non-null  float64\n",
      "dtypes: float64(2), object(2)\n",
      "memory usage: 463.7+ KB\n"
     ]
    }
   ],
   "source": [
    "# check for null values \n",
    "spray.info()"
   ]
  },
  {
   "cell_type": "code",
   "execution_count": 5,
   "id": "b7ad5036",
   "metadata": {},
   "outputs": [
    {
     "data": {
      "text/plain": [
       "(-88.0964683333333, -87.5867266666667, 41.713925, 42.3959833333333)"
      ]
     },
     "execution_count": 5,
     "metadata": {},
     "output_type": "execute_result"
    }
   ],
   "source": [
    "# define the bounding box, i.e. area defined by two longitudes & latitudes\n",
    "# coordinates will be used to access map from https://www.openstreetmap.org/\n",
    "BBox = ((spray.Longitude.min(), spray.Longitude.max(),\n",
    "        spray.Latitude.min(), spray.Latitude.max()))\n",
    "\n",
    "BBox"
   ]
  },
  {
   "cell_type": "code",
   "execution_count": 6,
   "id": "d803b572",
   "metadata": {},
   "outputs": [],
   "source": [
    "# read image from a file into an array & store \n",
    "spray_map = plt.imread(\"../images/spray_map.png\")"
   ]
  },
  {
   "cell_type": "code",
   "execution_count": 7,
   "id": "a605682f",
   "metadata": {},
   "outputs": [
    {
     "data": {
      "image/png": "[encoded data removed]",
      "text/plain": [
       "<Figure size 576x504 with 1 Axes>"
      ]
     },
     "metadata": {
      "needs_background": "light"
     },
     "output_type": "display_data"
    }
   ],
   "source": [
    "# plot the spray points on the map image \n",
    "fig, ax = plt.subplots(figsize=(8,7))\n",
    "\n",
    "ax.scatter(spray.Longitude, spray.Latitude, zorder=1, alpha=0.2, c=\"b\", s=2)\n",
    "\n",
    "ax.set_title(\"Plotting spray points on Chicago Map\")\n",
    "ax.set_xlabel(\"Longitude\")\n",
    "ax.set_ylabel(\"Latitude\")\n",
    "ax.set_xlim(BBox[0], BBox[1])\n",
    "ax.set_ylim(BBox[2], BBox[3])\n",
    "\n",
    "ax.imshow(spray_map, zorder=0, extent=BBox, aspect=\"equal\");"
   ]
  },
  {
   "cell_type": "markdown",
   "id": "d831fcfd",
   "metadata": {},
   "source": [
    "## Data Cleaning "
   ]
  },
  {
   "cell_type": "markdown",
   "id": "47f45a30",
   "metadata": {},
   "source": [
    "### There is a partial missing of 584 values under `Time` on 2011-09-07, i.e. data points not missing at random."
   ]
  },
  {
   "cell_type": "code",
   "execution_count": 8,
   "id": "96ac0a36",
   "metadata": {},
   "outputs": [
    {
     "data": {
      "text/plain": [
       "2011-09-07    584\n",
       "Name: Date, dtype: int64"
      ]
     },
     "execution_count": 8,
     "metadata": {},
     "output_type": "execute_result"
    }
   ],
   "source": [
    "# check the date for which there is missing time data \n",
    "spray.loc[spray[\"Time\"].isna()][\"Date\"].value_counts()"
   ]
  },
  {
   "cell_type": "code",
   "execution_count": 9,
   "id": "751014e0",
   "metadata": {},
   "outputs": [
    {
     "data": {
      "text/plain": [
       "7:44:32 PM    541\n",
       "7:43:40 PM      2\n",
       "8:50:10 PM      1\n",
       "8:46:22 PM      1\n",
       "8:24:00 PM      1\n",
       "             ... \n",
       "8:12:20 PM      1\n",
       "9:12:02 PM      1\n",
       "8:14:42 PM      1\n",
       "8:45:02 PM      1\n",
       "8:41:00 PM      1\n",
       "Name: Time, Length: 989, dtype: int64"
      ]
     },
     "execution_count": 9,
     "metadata": {},
     "output_type": "execute_result"
    }
   ],
   "source": [
    "# check if there are available time data for 2011-09-07\n",
    "spray.loc[spray[\"Date\"]==\"2011-09-07\"][\"Time\"].value_counts()"
   ]
  },
  {
   "cell_type": "code",
   "execution_count": 10,
   "id": "1502c8df",
   "metadata": {
    "scrolled": false
   },
   "outputs": [
    {
     "data": {
      "text/html": [
       "<div>\n",
       "<style scoped>\n",
       "    .dataframe tbody tr th:only-of-type {\n",
       "        vertical-align: middle;\n",
       "    }\n",
       "\n",
       "    .dataframe tbody tr th {\n",
       "        vertical-align: top;\n",
       "    }\n",
       "\n",
       "    .dataframe thead th {\n",
       "        text-align: right;\n",
       "    }\n",
       "</style>\n",
       "<table border=\"1\" class=\"dataframe\">\n",
       "  <thead>\n",
       "    <tr style=\"text-align: right;\">\n",
       "      <th></th>\n",
       "      <th>Date</th>\n",
       "      <th>Time</th>\n",
       "      <th>Latitude</th>\n",
       "      <th>Longitude</th>\n",
       "    </tr>\n",
       "  </thead>\n",
       "  <tbody>\n",
       "    <tr>\n",
       "      <th>1030</th>\n",
       "      <td>2011-09-07</td>\n",
       "      <td>NaN</td>\n",
       "      <td>41.987092</td>\n",
       "      <td>-87.794286</td>\n",
       "    </tr>\n",
       "    <tr>\n",
       "      <th>1031</th>\n",
       "      <td>2011-09-07</td>\n",
       "      <td>NaN</td>\n",
       "      <td>41.987620</td>\n",
       "      <td>-87.794382</td>\n",
       "    </tr>\n",
       "    <tr>\n",
       "      <th>1032</th>\n",
       "      <td>2011-09-07</td>\n",
       "      <td>NaN</td>\n",
       "      <td>41.988004</td>\n",
       "      <td>-87.794574</td>\n",
       "    </tr>\n",
       "    <tr>\n",
       "      <th>1033</th>\n",
       "      <td>2011-09-07</td>\n",
       "      <td>NaN</td>\n",
       "      <td>41.988292</td>\n",
       "      <td>-87.795486</td>\n",
       "    </tr>\n",
       "    <tr>\n",
       "      <th>1034</th>\n",
       "      <td>2011-09-07</td>\n",
       "      <td>NaN</td>\n",
       "      <td>41.988100</td>\n",
       "      <td>-87.796014</td>\n",
       "    </tr>\n",
       "    <tr>\n",
       "      <th>...</th>\n",
       "      <td>...</td>\n",
       "      <td>...</td>\n",
       "      <td>...</td>\n",
       "      <td>...</td>\n",
       "    </tr>\n",
       "    <tr>\n",
       "      <th>1609</th>\n",
       "      <td>2011-09-07</td>\n",
       "      <td>NaN</td>\n",
       "      <td>41.995876</td>\n",
       "      <td>-87.811615</td>\n",
       "    </tr>\n",
       "    <tr>\n",
       "      <th>1610</th>\n",
       "      <td>2011-09-07</td>\n",
       "      <td>NaN</td>\n",
       "      <td>41.995972</td>\n",
       "      <td>-87.810271</td>\n",
       "    </tr>\n",
       "    <tr>\n",
       "      <th>1611</th>\n",
       "      <td>2011-09-07</td>\n",
       "      <td>NaN</td>\n",
       "      <td>41.995684</td>\n",
       "      <td>-87.810319</td>\n",
       "    </tr>\n",
       "    <tr>\n",
       "      <th>1612</th>\n",
       "      <td>2011-09-07</td>\n",
       "      <td>NaN</td>\n",
       "      <td>41.994724</td>\n",
       "      <td>-87.810415</td>\n",
       "    </tr>\n",
       "    <tr>\n",
       "      <th>1613</th>\n",
       "      <td>2011-09-07</td>\n",
       "      <td>NaN</td>\n",
       "      <td>41.993092</td>\n",
       "      <td>-87.810415</td>\n",
       "    </tr>\n",
       "  </tbody>\n",
       "</table>\n",
       "<p>584 rows × 4 columns</p>\n",
       "</div>"
      ],
      "text/plain": [
       "            Date Time   Latitude  Longitude\n",
       "1030  2011-09-07  NaN  41.987092 -87.794286\n",
       "1031  2011-09-07  NaN  41.987620 -87.794382\n",
       "1032  2011-09-07  NaN  41.988004 -87.794574\n",
       "1033  2011-09-07  NaN  41.988292 -87.795486\n",
       "1034  2011-09-07  NaN  41.988100 -87.796014\n",
       "...          ...  ...        ...        ...\n",
       "1609  2011-09-07  NaN  41.995876 -87.811615\n",
       "1610  2011-09-07  NaN  41.995972 -87.810271\n",
       "1611  2011-09-07  NaN  41.995684 -87.810319\n",
       "1612  2011-09-07  NaN  41.994724 -87.810415\n",
       "1613  2011-09-07  NaN  41.993092 -87.810415\n",
       "\n",
       "[584 rows x 4 columns]"
      ]
     },
     "execution_count": 10,
     "metadata": {},
     "output_type": "execute_result"
    }
   ],
   "source": [
    "# print sample of observations with missing time data \n",
    "spray.loc[spray[\"Time\"].isna()]"
   ]
  },
  {
   "cell_type": "code",
   "execution_count": 11,
   "id": "ff43c09a",
   "metadata": {},
   "outputs": [
    {
     "data": {
      "text/html": [
       "<div>\n",
       "<style scoped>\n",
       "    .dataframe tbody tr th:only-of-type {\n",
       "        vertical-align: middle;\n",
       "    }\n",
       "\n",
       "    .dataframe tbody tr th {\n",
       "        vertical-align: top;\n",
       "    }\n",
       "\n",
       "    .dataframe thead th {\n",
       "        text-align: right;\n",
       "    }\n",
       "</style>\n",
       "<table border=\"1\" class=\"dataframe\">\n",
       "  <thead>\n",
       "    <tr style=\"text-align: right;\">\n",
       "      <th></th>\n",
       "      <th>Date</th>\n",
       "      <th>Time</th>\n",
       "      <th>Latitude</th>\n",
       "      <th>Longitude</th>\n",
       "    </tr>\n",
       "  </thead>\n",
       "  <tbody>\n",
       "    <tr>\n",
       "      <th>1026</th>\n",
       "      <td>2011-09-07</td>\n",
       "      <td>7:44:32 PM</td>\n",
       "      <td>41.986460</td>\n",
       "      <td>-87.794225</td>\n",
       "    </tr>\n",
       "    <tr>\n",
       "      <th>1027</th>\n",
       "      <td>2011-09-07</td>\n",
       "      <td>7:44:32 PM</td>\n",
       "      <td>41.986460</td>\n",
       "      <td>-87.794225</td>\n",
       "    </tr>\n",
       "    <tr>\n",
       "      <th>1028</th>\n",
       "      <td>2011-09-07</td>\n",
       "      <td>7:44:32 PM</td>\n",
       "      <td>41.986460</td>\n",
       "      <td>-87.794225</td>\n",
       "    </tr>\n",
       "    <tr>\n",
       "      <th>1029</th>\n",
       "      <td>2011-09-07</td>\n",
       "      <td>7:44:32 PM</td>\n",
       "      <td>41.986460</td>\n",
       "      <td>-87.794225</td>\n",
       "    </tr>\n",
       "    <tr>\n",
       "      <th>1030</th>\n",
       "      <td>2011-09-07</td>\n",
       "      <td>NaN</td>\n",
       "      <td>41.987092</td>\n",
       "      <td>-87.794286</td>\n",
       "    </tr>\n",
       "    <tr>\n",
       "      <th>...</th>\n",
       "      <td>...</td>\n",
       "      <td>...</td>\n",
       "      <td>...</td>\n",
       "      <td>...</td>\n",
       "    </tr>\n",
       "    <tr>\n",
       "      <th>1613</th>\n",
       "      <td>2011-09-07</td>\n",
       "      <td>NaN</td>\n",
       "      <td>41.993092</td>\n",
       "      <td>-87.810415</td>\n",
       "    </tr>\n",
       "    <tr>\n",
       "      <th>1614</th>\n",
       "      <td>2011-09-07</td>\n",
       "      <td>7:46:30 PM</td>\n",
       "      <td>41.973465</td>\n",
       "      <td>-87.827643</td>\n",
       "    </tr>\n",
       "    <tr>\n",
       "      <th>1615</th>\n",
       "      <td>2011-09-07</td>\n",
       "      <td>7:46:40 PM</td>\n",
       "      <td>41.973457</td>\n",
       "      <td>-87.828302</td>\n",
       "    </tr>\n",
       "    <tr>\n",
       "      <th>1616</th>\n",
       "      <td>2011-09-07</td>\n",
       "      <td>7:46:50 PM</td>\n",
       "      <td>41.973435</td>\n",
       "      <td>-87.829073</td>\n",
       "    </tr>\n",
       "    <tr>\n",
       "      <th>1617</th>\n",
       "      <td>2011-09-07</td>\n",
       "      <td>7:47:00 PM</td>\n",
       "      <td>41.973442</td>\n",
       "      <td>-87.829835</td>\n",
       "    </tr>\n",
       "  </tbody>\n",
       "</table>\n",
       "<p>592 rows × 4 columns</p>\n",
       "</div>"
      ],
      "text/plain": [
       "            Date        Time   Latitude  Longitude\n",
       "1026  2011-09-07  7:44:32 PM  41.986460 -87.794225\n",
       "1027  2011-09-07  7:44:32 PM  41.986460 -87.794225\n",
       "1028  2011-09-07  7:44:32 PM  41.986460 -87.794225\n",
       "1029  2011-09-07  7:44:32 PM  41.986460 -87.794225\n",
       "1030  2011-09-07         NaN  41.987092 -87.794286\n",
       "...          ...         ...        ...        ...\n",
       "1613  2011-09-07         NaN  41.993092 -87.810415\n",
       "1614  2011-09-07  7:46:30 PM  41.973465 -87.827643\n",
       "1615  2011-09-07  7:46:40 PM  41.973457 -87.828302\n",
       "1616  2011-09-07  7:46:50 PM  41.973435 -87.829073\n",
       "1617  2011-09-07  7:47:00 PM  41.973442 -87.829835\n",
       "\n",
       "[592 rows x 4 columns]"
      ]
     },
     "execution_count": 11,
     "metadata": {},
     "output_type": "execute_result"
    }
   ],
   "source": [
    "# print sample of observations with time data that are near the missing data \n",
    "spray.iloc[1026:1618, :]"
   ]
  },
  {
   "cell_type": "markdown",
   "id": "b2466288",
   "metadata": {},
   "source": [
    "### According to the DataFrame above, we observe that the `Time` is sorted in an ascending order. We can impute the missing values for index rows 1,030 to 1,613 by generating a series of time points at fixed frequency within the range of the observed timings for index rows 1,029 and 1,614.\n"
   ]
  },
  {
   "cell_type": "code",
   "execution_count": 12,
   "id": "673b706f",
   "metadata": {},
   "outputs": [],
   "source": [
    "## set the date to datetime format under pandas\n",
    "spray[\"Date\"] = pd.to_datetime(spray[\"Date\"]).apply(lambda x: x.strftime(\"%Y/%m/%d\"))\n",
    "spray[\"Time\"] = pd.to_datetime(spray[\"Time\"]).dt.time"
   ]
  },
  {
   "cell_type": "code",
   "execution_count": 13,
   "id": "9fb4ea10",
   "metadata": {
    "scrolled": true
   },
   "outputs": [
    {
     "data": {
      "text/html": [
       "<div>\n",
       "<style scoped>\n",
       "    .dataframe tbody tr th:only-of-type {\n",
       "        vertical-align: middle;\n",
       "    }\n",
       "\n",
       "    .dataframe tbody tr th {\n",
       "        vertical-align: top;\n",
       "    }\n",
       "\n",
       "    .dataframe thead th {\n",
       "        text-align: right;\n",
       "    }\n",
       "</style>\n",
       "<table border=\"1\" class=\"dataframe\">\n",
       "  <thead>\n",
       "    <tr style=\"text-align: right;\">\n",
       "      <th></th>\n",
       "      <th>0</th>\n",
       "    </tr>\n",
       "  </thead>\n",
       "  <tbody>\n",
       "    <tr>\n",
       "      <th>0</th>\n",
       "      <td>19:44:32</td>\n",
       "    </tr>\n",
       "    <tr>\n",
       "      <th>1</th>\n",
       "      <td>19:44:32</td>\n",
       "    </tr>\n",
       "    <tr>\n",
       "      <th>2</th>\n",
       "      <td>19:44:32</td>\n",
       "    </tr>\n",
       "    <tr>\n",
       "      <th>3</th>\n",
       "      <td>19:44:32</td>\n",
       "    </tr>\n",
       "    <tr>\n",
       "      <th>4</th>\n",
       "      <td>19:44:32</td>\n",
       "    </tr>\n",
       "  </tbody>\n",
       "</table>\n",
       "</div>"
      ],
      "text/plain": [
       "          0\n",
       "0  19:44:32\n",
       "1  19:44:32\n",
       "2  19:44:32\n",
       "3  19:44:32\n",
       "4  19:44:32"
      ]
     },
     "execution_count": 13,
     "metadata": {},
     "output_type": "execute_result"
    }
   ],
   "source": [
    "# generate the range of equally spaced time points (where the difference between any two adjacent points \n",
    "# is specified by the given frequency) such that they all satisfy start <[=] x <[=] end\n",
    "timings = pd.date_range(start=\"19:44:32\", end=\"19:46:30\", periods=584).strftime('%H:%M:%S')\n",
    "\n",
    "#store timings in a dataframe\n",
    "timings = pd.DataFrame(timings)\n",
    "timings.head()"
   ]
  },
  {
   "cell_type": "code",
   "execution_count": 14,
   "id": "53e56793",
   "metadata": {
    "scrolled": true
   },
   "outputs": [],
   "source": [
    "# identify the observations with NaT \n",
    "nulls = spray[pd.isnull(spray[\"Time\"])]\n",
    "\n",
    "# create loop to replace NaT with timings generated using the interpolation method \n",
    "for i, ni in enumerate(nulls.index[:len(timings)]):\n",
    "    spray[\"Time\"].loc[ni] = timings[0].iloc[i]"
   ]
  },
  {
   "cell_type": "code",
   "execution_count": 15,
   "id": "7c93f90a",
   "metadata": {},
   "outputs": [
    {
     "data": {
      "text/html": [
       "<div>\n",
       "<style scoped>\n",
       "    .dataframe tbody tr th:only-of-type {\n",
       "        vertical-align: middle;\n",
       "    }\n",
       "\n",
       "    .dataframe tbody tr th {\n",
       "        vertical-align: top;\n",
       "    }\n",
       "\n",
       "    .dataframe thead th {\n",
       "        text-align: right;\n",
       "    }\n",
       "</style>\n",
       "<table border=\"1\" class=\"dataframe\">\n",
       "  <thead>\n",
       "    <tr style=\"text-align: right;\">\n",
       "      <th></th>\n",
       "      <th>Date</th>\n",
       "      <th>Time</th>\n",
       "      <th>Latitude</th>\n",
       "      <th>Longitude</th>\n",
       "    </tr>\n",
       "  </thead>\n",
       "  <tbody>\n",
       "    <tr>\n",
       "      <th>1029</th>\n",
       "      <td>2011/09/07</td>\n",
       "      <td>19:44:32</td>\n",
       "      <td>41.986460</td>\n",
       "      <td>-87.794225</td>\n",
       "    </tr>\n",
       "    <tr>\n",
       "      <th>1030</th>\n",
       "      <td>2011/09/07</td>\n",
       "      <td>19:44:32</td>\n",
       "      <td>41.987092</td>\n",
       "      <td>-87.794286</td>\n",
       "    </tr>\n",
       "    <tr>\n",
       "      <th>1031</th>\n",
       "      <td>2011/09/07</td>\n",
       "      <td>19:44:32</td>\n",
       "      <td>41.987620</td>\n",
       "      <td>-87.794382</td>\n",
       "    </tr>\n",
       "    <tr>\n",
       "      <th>1032</th>\n",
       "      <td>2011/09/07</td>\n",
       "      <td>19:44:32</td>\n",
       "      <td>41.988004</td>\n",
       "      <td>-87.794574</td>\n",
       "    </tr>\n",
       "    <tr>\n",
       "      <th>1033</th>\n",
       "      <td>2011/09/07</td>\n",
       "      <td>19:44:32</td>\n",
       "      <td>41.988292</td>\n",
       "      <td>-87.795486</td>\n",
       "    </tr>\n",
       "    <tr>\n",
       "      <th>...</th>\n",
       "      <td>...</td>\n",
       "      <td>...</td>\n",
       "      <td>...</td>\n",
       "      <td>...</td>\n",
       "    </tr>\n",
       "    <tr>\n",
       "      <th>1610</th>\n",
       "      <td>2011/09/07</td>\n",
       "      <td>19:46:29</td>\n",
       "      <td>41.995972</td>\n",
       "      <td>-87.810271</td>\n",
       "    </tr>\n",
       "    <tr>\n",
       "      <th>1611</th>\n",
       "      <td>2011/09/07</td>\n",
       "      <td>19:46:29</td>\n",
       "      <td>41.995684</td>\n",
       "      <td>-87.810319</td>\n",
       "    </tr>\n",
       "    <tr>\n",
       "      <th>1612</th>\n",
       "      <td>2011/09/07</td>\n",
       "      <td>19:46:29</td>\n",
       "      <td>41.994724</td>\n",
       "      <td>-87.810415</td>\n",
       "    </tr>\n",
       "    <tr>\n",
       "      <th>1613</th>\n",
       "      <td>2011/09/07</td>\n",
       "      <td>19:46:30</td>\n",
       "      <td>41.993092</td>\n",
       "      <td>-87.810415</td>\n",
       "    </tr>\n",
       "    <tr>\n",
       "      <th>1614</th>\n",
       "      <td>2011/09/07</td>\n",
       "      <td>19:46:30</td>\n",
       "      <td>41.973465</td>\n",
       "      <td>-87.827643</td>\n",
       "    </tr>\n",
       "  </tbody>\n",
       "</table>\n",
       "<p>586 rows × 4 columns</p>\n",
       "</div>"
      ],
      "text/plain": [
       "            Date      Time   Latitude  Longitude\n",
       "1029  2011/09/07  19:44:32  41.986460 -87.794225\n",
       "1030  2011/09/07  19:44:32  41.987092 -87.794286\n",
       "1031  2011/09/07  19:44:32  41.987620 -87.794382\n",
       "1032  2011/09/07  19:44:32  41.988004 -87.794574\n",
       "1033  2011/09/07  19:44:32  41.988292 -87.795486\n",
       "...          ...       ...        ...        ...\n",
       "1610  2011/09/07  19:46:29  41.995972 -87.810271\n",
       "1611  2011/09/07  19:46:29  41.995684 -87.810319\n",
       "1612  2011/09/07  19:46:29  41.994724 -87.810415\n",
       "1613  2011/09/07  19:46:30  41.993092 -87.810415\n",
       "1614  2011/09/07  19:46:30  41.973465 -87.827643\n",
       "\n",
       "[586 rows x 4 columns]"
      ]
     },
     "execution_count": 15,
     "metadata": {},
     "output_type": "execute_result"
    }
   ],
   "source": [
    "# check that NaT values are filled correctly\n",
    "spray.iloc[1029:1615, :]"
   ]
  },
  {
   "cell_type": "code",
   "execution_count": 16,
   "id": "fc03266a",
   "metadata": {},
   "outputs": [
    {
     "data": {
      "image/png": "[encoded data removed]",
      "text/plain": [
       "<Figure size 1080x504 with 1 Axes>"
      ]
     },
     "metadata": {
      "needs_background": "light"
     },
     "output_type": "display_data"
    }
   ],
   "source": [
    "# draw a bar plot counting the number of sprays across the various dates (with count annotation)\n",
    "sizes = spray.groupby([\"Date\"]).size()\n",
    "sizes.plot(kind='barh',figsize=(15,7),title=\"Number of sprays across the respective dates in 2011 and 2013\")\n",
    "\n",
    "for y, x in enumerate(sizes):\n",
    "    plt.annotate(str(x), xy=(x, y), va='center')"
   ]
  },
  {
   "cell_type": "code",
   "execution_count": 17,
   "id": "772586c9",
   "metadata": {},
   "outputs": [],
   "source": [
    "spray[['Hour','Minute','Seconds']] = spray['Time'].astype(str).str.split(':', expand=True).astype(int)\n",
    "spray.drop(columns=['Minute','Seconds'], inplace=True)"
   ]
  },
  {
   "cell_type": "code",
   "execution_count": 18,
   "id": "ad985d19",
   "metadata": {},
   "outputs": [
    {
     "data": {
      "image/png": "[encoded data removed]",
      "text/plain": [
       "<Figure size 1152x360 with 1 Axes>"
      ]
     },
     "metadata": {
      "needs_background": "light"
     },
     "output_type": "display_data"
    }
   ],
   "source": [
    "# draw a histogram plot showing of the distribution of spray across time\n",
    "plt.figure(figsize=(16,5))\n",
    "plt.title(\"Distribution of spray by time (hour of the day)\")\n",
    "ax = sns.histplot(x=\"Hour\", data=spray, kde=True, bins=24, discrete=True, legend=False)\n",
    "ax.set_ylabel(\"Number of sprays\")\n",
    "ax.set_xlabel(\"Hour posted\")\n",
    "ax.set_xticks(np.arange(0,24,1)); "
   ]
  },
  {
   "cell_type": "markdown",
   "id": "c1686469",
   "metadata": {},
   "source": [
    "# Weather Dataset"
   ]
  },
  {
   "cell_type": "code",
   "execution_count": 19,
   "id": "feb454f1",
   "metadata": {
    "scrolled": false
   },
   "outputs": [
    {
     "data": {
      "text/html": [
       "<div>\n",
       "<style scoped>\n",
       "    .dataframe tbody tr th:only-of-type {\n",
       "        vertical-align: middle;\n",
       "    }\n",
       "\n",
       "    .dataframe tbody tr th {\n",
       "        vertical-align: top;\n",
       "    }\n",
       "\n",
       "    .dataframe thead th {\n",
       "        text-align: right;\n",
       "    }\n",
       "</style>\n",
       "<table border=\"1\" class=\"dataframe\">\n",
       "  <thead>\n",
       "    <tr style=\"text-align: right;\">\n",
       "      <th></th>\n",
       "      <th>Station</th>\n",
       "      <th>Date</th>\n",
       "      <th>Tmax</th>\n",
       "      <th>Tmin</th>\n",
       "      <th>Tavg</th>\n",
       "      <th>Depart</th>\n",
       "      <th>DewPoint</th>\n",
       "      <th>WetBulb</th>\n",
       "      <th>Heat</th>\n",
       "      <th>Cool</th>\n",
       "      <th>Sunrise</th>\n",
       "      <th>Sunset</th>\n",
       "      <th>CodeSum</th>\n",
       "      <th>Depth</th>\n",
       "      <th>Water1</th>\n",
       "      <th>SnowFall</th>\n",
       "      <th>PrecipTotal</th>\n",
       "      <th>StnPressure</th>\n",
       "      <th>SeaLevel</th>\n",
       "      <th>ResultSpeed</th>\n",
       "      <th>ResultDir</th>\n",
       "      <th>AvgSpeed</th>\n",
       "    </tr>\n",
       "  </thead>\n",
       "  <tbody>\n",
       "    <tr>\n",
       "      <th>0</th>\n",
       "      <td>1</td>\n",
       "      <td>2007-05-01</td>\n",
       "      <td>83</td>\n",
       "      <td>50</td>\n",
       "      <td>67</td>\n",
       "      <td>14</td>\n",
       "      <td>51</td>\n",
       "      <td>56</td>\n",
       "      <td>0</td>\n",
       "      <td>2</td>\n",
       "      <td>0448</td>\n",
       "      <td>1849</td>\n",
       "      <td></td>\n",
       "      <td>0</td>\n",
       "      <td>M</td>\n",
       "      <td>0.0</td>\n",
       "      <td>0.00</td>\n",
       "      <td>29.10</td>\n",
       "      <td>29.82</td>\n",
       "      <td>1.7</td>\n",
       "      <td>27</td>\n",
       "      <td>9.2</td>\n",
       "    </tr>\n",
       "    <tr>\n",
       "      <th>1</th>\n",
       "      <td>2</td>\n",
       "      <td>2007-05-01</td>\n",
       "      <td>84</td>\n",
       "      <td>52</td>\n",
       "      <td>68</td>\n",
       "      <td>M</td>\n",
       "      <td>51</td>\n",
       "      <td>57</td>\n",
       "      <td>0</td>\n",
       "      <td>3</td>\n",
       "      <td>-</td>\n",
       "      <td>-</td>\n",
       "      <td></td>\n",
       "      <td>M</td>\n",
       "      <td>M</td>\n",
       "      <td>M</td>\n",
       "      <td>0.00</td>\n",
       "      <td>29.18</td>\n",
       "      <td>29.82</td>\n",
       "      <td>2.7</td>\n",
       "      <td>25</td>\n",
       "      <td>9.6</td>\n",
       "    </tr>\n",
       "    <tr>\n",
       "      <th>2</th>\n",
       "      <td>1</td>\n",
       "      <td>2007-05-02</td>\n",
       "      <td>59</td>\n",
       "      <td>42</td>\n",
       "      <td>51</td>\n",
       "      <td>-3</td>\n",
       "      <td>42</td>\n",
       "      <td>47</td>\n",
       "      <td>14</td>\n",
       "      <td>0</td>\n",
       "      <td>0447</td>\n",
       "      <td>1850</td>\n",
       "      <td>BR</td>\n",
       "      <td>0</td>\n",
       "      <td>M</td>\n",
       "      <td>0.0</td>\n",
       "      <td>0.00</td>\n",
       "      <td>29.38</td>\n",
       "      <td>30.09</td>\n",
       "      <td>13.0</td>\n",
       "      <td>4</td>\n",
       "      <td>13.4</td>\n",
       "    </tr>\n",
       "    <tr>\n",
       "      <th>3</th>\n",
       "      <td>2</td>\n",
       "      <td>2007-05-02</td>\n",
       "      <td>60</td>\n",
       "      <td>43</td>\n",
       "      <td>52</td>\n",
       "      <td>M</td>\n",
       "      <td>42</td>\n",
       "      <td>47</td>\n",
       "      <td>13</td>\n",
       "      <td>0</td>\n",
       "      <td>-</td>\n",
       "      <td>-</td>\n",
       "      <td>BR HZ</td>\n",
       "      <td>M</td>\n",
       "      <td>M</td>\n",
       "      <td>M</td>\n",
       "      <td>0.00</td>\n",
       "      <td>29.44</td>\n",
       "      <td>30.08</td>\n",
       "      <td>13.3</td>\n",
       "      <td>2</td>\n",
       "      <td>13.4</td>\n",
       "    </tr>\n",
       "    <tr>\n",
       "      <th>4</th>\n",
       "      <td>1</td>\n",
       "      <td>2007-05-03</td>\n",
       "      <td>66</td>\n",
       "      <td>46</td>\n",
       "      <td>56</td>\n",
       "      <td>2</td>\n",
       "      <td>40</td>\n",
       "      <td>48</td>\n",
       "      <td>9</td>\n",
       "      <td>0</td>\n",
       "      <td>0446</td>\n",
       "      <td>1851</td>\n",
       "      <td></td>\n",
       "      <td>0</td>\n",
       "      <td>M</td>\n",
       "      <td>0.0</td>\n",
       "      <td>0.00</td>\n",
       "      <td>29.39</td>\n",
       "      <td>30.12</td>\n",
       "      <td>11.7</td>\n",
       "      <td>7</td>\n",
       "      <td>11.9</td>\n",
       "    </tr>\n",
       "  </tbody>\n",
       "</table>\n",
       "</div>"
      ],
      "text/plain": [
       "   Station        Date  Tmax  Tmin Tavg Depart  DewPoint WetBulb Heat Cool  \\\n",
       "0        1  2007-05-01    83    50   67     14        51      56    0    2   \n",
       "1        2  2007-05-01    84    52   68      M        51      57    0    3   \n",
       "2        1  2007-05-02    59    42   51     -3        42      47   14    0   \n",
       "3        2  2007-05-02    60    43   52      M        42      47   13    0   \n",
       "4        1  2007-05-03    66    46   56      2        40      48    9    0   \n",
       "\n",
       "  Sunrise Sunset CodeSum Depth Water1 SnowFall PrecipTotal StnPressure  \\\n",
       "0    0448   1849             0      M      0.0        0.00       29.10   \n",
       "1       -      -             M      M        M        0.00       29.18   \n",
       "2    0447   1850      BR     0      M      0.0        0.00       29.38   \n",
       "3       -      -   BR HZ     M      M        M        0.00       29.44   \n",
       "4    0446   1851             0      M      0.0        0.00       29.39   \n",
       "\n",
       "  SeaLevel  ResultSpeed  ResultDir AvgSpeed  \n",
       "0    29.82          1.7         27      9.2  \n",
       "1    29.82          2.7         25      9.6  \n",
       "2    30.09         13.0          4     13.4  \n",
       "3    30.08         13.3          2     13.4  \n",
       "4    30.12         11.7          7     11.9  "
      ]
     },
     "execution_count": 19,
     "metadata": {},
     "output_type": "execute_result"
    }
   ],
   "source": [
    "#Station 1: CHICAGO O'HARE INTERNATIONAL AIRPORT Lat: 41.995 Lon: -87.933 Elev: 662 ft. above sea level\n",
    "#Station 2: CHICAGO MIDWAY INTL ARPT Lat: 41.786 Lon: -87.752 Elev: 612 ft. above sea level\n",
    "pd.set_option('display.max_columns', None)\n",
    "weather.head()"
   ]
  },
  {
   "cell_type": "code",
   "execution_count": 20,
   "id": "eee43afc",
   "metadata": {},
   "outputs": [
    {
     "data": {
      "text/plain": [
       "<bound method Index.unique of Index(['Station', 'Date', 'Tmax', 'Tmin', 'Tavg', 'Depart', 'DewPoint',\n",
       "       'WetBulb', 'Heat', 'Cool', 'Sunrise', 'Sunset', 'CodeSum', 'Depth',\n",
       "       'Water1', 'SnowFall', 'PrecipTotal', 'StnPressure', 'SeaLevel',\n",
       "       'ResultSpeed', 'ResultDir', 'AvgSpeed'],\n",
       "      dtype='object')>"
      ]
     },
     "execution_count": 20,
     "metadata": {},
     "output_type": "execute_result"
    }
   ],
   "source": [
    "weather.columns.unique"
   ]
  },
  {
   "cell_type": "markdown",
   "id": "9f2d951a",
   "metadata": {},
   "source": [
    "### We retain only information to do with temperature, rainfall and average wind speed as these variables would most likely affect the puddling of water that will lead to breeding of mosquitoes.\n",
    "Note: We also drop `Heat` and `Cool`, to do with heating and cooling heating days, as these variables are more relevant for calculating energy needs for electrical, natural gas, power, and heating, and air conditioning industries, i.e. not as relevant to risk of mosquito breeding. "
   ]
  },
  {
   "cell_type": "code",
   "execution_count": 21,
   "id": "8958bc92",
   "metadata": {},
   "outputs": [],
   "source": [
    "weather.drop([\"Sunrise\", \"Sunset\", \"CodeSum\", \"Depth\", \"Heat\", \"Cool\",\n",
    "              \"Water1\", \"SnowFall\", \"StnPressure\", \"SeaLevel\", \n",
    "              \"ResultSpeed\", \"ResultDir\"], axis=1, inplace=True)"
   ]
  },
  {
   "cell_type": "markdown",
   "id": "72efd726",
   "metadata": {},
   "source": [
    "### According to [this link](\"https://w2.weather.gov/climate/f6.php\"), it seems like all the missing values are denoted by \"M\". We replace \"M\" with `np.nan` to identify missing values in our data. "
   ]
  },
  {
   "cell_type": "code",
   "execution_count": 22,
   "id": "b71d3b0c",
   "metadata": {},
   "outputs": [],
   "source": [
    "# replace all \"M\" values with np.nan \n",
    "weather[weather==\"M\"]=np.nan"
   ]
  },
  {
   "cell_type": "code",
   "execution_count": 23,
   "id": "d09e9364",
   "metadata": {},
   "outputs": [
    {
     "name": "stdout",
     "output_type": "stream",
     "text": [
      "<class 'pandas.core.frame.DataFrame'>\n",
      "RangeIndex: 2944 entries, 0 to 2943\n",
      "Data columns (total 10 columns):\n",
      " #   Column       Non-Null Count  Dtype \n",
      "---  ------       --------------  ----- \n",
      " 0   Station      2944 non-null   int64 \n",
      " 1   Date         2944 non-null   object\n",
      " 2   Tmax         2944 non-null   int64 \n",
      " 3   Tmin         2944 non-null   int64 \n",
      " 4   Tavg         2933 non-null   object\n",
      " 5   Depart       1472 non-null   object\n",
      " 6   DewPoint     2944 non-null   int64 \n",
      " 7   WetBulb      2940 non-null   object\n",
      " 8   PrecipTotal  2942 non-null   object\n",
      " 9   AvgSpeed     2941 non-null   object\n",
      "dtypes: int64(4), object(6)\n",
      "memory usage: 230.1+ KB\n"
     ]
    }
   ],
   "source": [
    "weather.info()"
   ]
  },
  {
   "cell_type": "markdown",
   "id": "f09f8b31",
   "metadata": {},
   "source": [
    "## Data Cleaning "
   ]
  },
  {
   "cell_type": "markdown",
   "id": "b789ae5c",
   "metadata": {},
   "source": [
    "### We impute missing values for `Tavg` by taking a simple average of `Tmax` and `Tmin`."
   ]
  },
  {
   "cell_type": "code",
   "execution_count": 24,
   "id": "ae72c377",
   "metadata": {
    "scrolled": true
   },
   "outputs": [
    {
     "data": {
      "text/plain": [
       "0    67\n",
       "1    68\n",
       "2    51\n",
       "3    52\n",
       "4    56\n",
       "dtype: int32"
      ]
     },
     "execution_count": 24,
     "metadata": {},
     "output_type": "execute_result"
    }
   ],
   "source": [
    "# take average of max and min temperatures\n",
    "# store value as rounded version and in integer format\n",
    "computed_values = np.ceil((weather[\"Tmax\"] + weather[\"Tmin\"])/2).astype(int)\n",
    "computed_values.head()"
   ]
  },
  {
   "cell_type": "code",
   "execution_count": 25,
   "id": "585d6818",
   "metadata": {},
   "outputs": [
    {
     "data": {
      "text/plain": [
       "0    67\n",
       "1    68\n",
       "2    51\n",
       "3    52\n",
       "4    56\n",
       "Name: Tavg, dtype: object"
      ]
     },
     "execution_count": 25,
     "metadata": {},
     "output_type": "execute_result"
    }
   ],
   "source": [
    "# print sample average temperatures to compare if the computation is valid\n",
    "weather[\"Tavg\"].head()"
   ]
  },
  {
   "cell_type": "code",
   "execution_count": 26,
   "id": "32e28aaf",
   "metadata": {},
   "outputs": [],
   "source": [
    "# fill nan values with computed values \n",
    "weather[\"Tavg\"].fillna(computed_values, inplace=True)"
   ]
  },
  {
   "cell_type": "code",
   "execution_count": 27,
   "id": "91a1179e",
   "metadata": {
    "scrolled": true
   },
   "outputs": [],
   "source": [
    "# save column datatype as integer \n",
    "weather[\"Tavg\"] = weather[\"Tavg\"].astype(int)"
   ]
  },
  {
   "cell_type": "code",
   "execution_count": 28,
   "id": "3332e83b",
   "metadata": {},
   "outputs": [],
   "source": [
    "# now that we have the average temperatures, we can drop the Tmax and Tmin\n",
    "weather.drop([\"Tmax\", \"Tmin\"], axis=1, inplace=True)"
   ]
  },
  {
   "cell_type": "markdown",
   "id": "081fe5bc",
   "metadata": {},
   "source": [
    "### Next, we impute missing values for `Depart` as the values associated with Station 2 are missing.\n",
    "This feature indicates if the temperature is a departure from normal. The difference between average temperature and the 30 year normal temperature for this date. A minus (-) is number of degrees below normal. A zero (0) indicates that the average for that day was the Normal."
   ]
  },
  {
   "cell_type": "code",
   "execution_count": 29,
   "id": "46fb53d3",
   "metadata": {},
   "outputs": [
    {
     "data": {
      "text/html": [
       "<div>\n",
       "<style scoped>\n",
       "    .dataframe tbody tr th:only-of-type {\n",
       "        vertical-align: middle;\n",
       "    }\n",
       "\n",
       "    .dataframe tbody tr th {\n",
       "        vertical-align: top;\n",
       "    }\n",
       "\n",
       "    .dataframe thead th {\n",
       "        text-align: right;\n",
       "    }\n",
       "</style>\n",
       "<table border=\"1\" class=\"dataframe\">\n",
       "  <thead>\n",
       "    <tr style=\"text-align: right;\">\n",
       "      <th></th>\n",
       "      <th>Station</th>\n",
       "      <th>Date</th>\n",
       "      <th>Tavg</th>\n",
       "      <th>Depart</th>\n",
       "    </tr>\n",
       "  </thead>\n",
       "  <tbody>\n",
       "    <tr>\n",
       "      <th>0</th>\n",
       "      <td>1</td>\n",
       "      <td>2007-05-01</td>\n",
       "      <td>67</td>\n",
       "      <td>14</td>\n",
       "    </tr>\n",
       "    <tr>\n",
       "      <th>1</th>\n",
       "      <td>2</td>\n",
       "      <td>2007-05-01</td>\n",
       "      <td>68</td>\n",
       "      <td>NaN</td>\n",
       "    </tr>\n",
       "    <tr>\n",
       "      <th>2</th>\n",
       "      <td>1</td>\n",
       "      <td>2007-05-02</td>\n",
       "      <td>51</td>\n",
       "      <td>-3</td>\n",
       "    </tr>\n",
       "    <tr>\n",
       "      <th>3</th>\n",
       "      <td>2</td>\n",
       "      <td>2007-05-02</td>\n",
       "      <td>52</td>\n",
       "      <td>NaN</td>\n",
       "    </tr>\n",
       "    <tr>\n",
       "      <th>4</th>\n",
       "      <td>1</td>\n",
       "      <td>2007-05-03</td>\n",
       "      <td>56</td>\n",
       "      <td>2</td>\n",
       "    </tr>\n",
       "    <tr>\n",
       "      <th>5</th>\n",
       "      <td>2</td>\n",
       "      <td>2007-05-03</td>\n",
       "      <td>58</td>\n",
       "      <td>NaN</td>\n",
       "    </tr>\n",
       "    <tr>\n",
       "      <th>6</th>\n",
       "      <td>1</td>\n",
       "      <td>2007-05-04</td>\n",
       "      <td>58</td>\n",
       "      <td>4</td>\n",
       "    </tr>\n",
       "    <tr>\n",
       "      <th>7</th>\n",
       "      <td>2</td>\n",
       "      <td>2007-05-04</td>\n",
       "      <td>65</td>\n",
       "      <td>NaN</td>\n",
       "    </tr>\n",
       "    <tr>\n",
       "      <th>8</th>\n",
       "      <td>1</td>\n",
       "      <td>2007-05-05</td>\n",
       "      <td>60</td>\n",
       "      <td>5</td>\n",
       "    </tr>\n",
       "    <tr>\n",
       "      <th>9</th>\n",
       "      <td>2</td>\n",
       "      <td>2007-05-05</td>\n",
       "      <td>60</td>\n",
       "      <td>NaN</td>\n",
       "    </tr>\n",
       "  </tbody>\n",
       "</table>\n",
       "</div>"
      ],
      "text/plain": [
       "   Station        Date  Tavg Depart\n",
       "0        1  2007-05-01    67     14\n",
       "1        2  2007-05-01    68    NaN\n",
       "2        1  2007-05-02    51     -3\n",
       "3        2  2007-05-02    52    NaN\n",
       "4        1  2007-05-03    56      2\n",
       "5        2  2007-05-03    58    NaN\n",
       "6        1  2007-05-04    58      4\n",
       "7        2  2007-05-04    65    NaN\n",
       "8        1  2007-05-05    60      5\n",
       "9        2  2007-05-05    60    NaN"
      ]
     },
     "execution_count": 29,
     "metadata": {},
     "output_type": "execute_result"
    }
   ],
   "source": [
    "# print the first ten samples to observe the trend of missing data\n",
    "weather.iloc[:, 0:4].head(10)"
   ]
  },
  {
   "cell_type": "markdown",
   "id": "44b04083",
   "metadata": {},
   "source": [
    "### As the extent of departure from normal temperature is likely similar at both stations on the same day, we use the `forward fill method` to impute missing values."
   ]
  },
  {
   "cell_type": "code",
   "execution_count": 30,
   "id": "49e40efa",
   "metadata": {},
   "outputs": [],
   "source": [
    "# apply forward fill to impute missing values\n",
    "weather[\"Depart\"].fillna(method=\"ffill\", inplace=True)"
   ]
  },
  {
   "cell_type": "code",
   "execution_count": 31,
   "id": "75a7e337",
   "metadata": {},
   "outputs": [
    {
     "data": {
      "text/html": [
       "<div>\n",
       "<style scoped>\n",
       "    .dataframe tbody tr th:only-of-type {\n",
       "        vertical-align: middle;\n",
       "    }\n",
       "\n",
       "    .dataframe tbody tr th {\n",
       "        vertical-align: top;\n",
       "    }\n",
       "\n",
       "    .dataframe thead th {\n",
       "        text-align: right;\n",
       "    }\n",
       "</style>\n",
       "<table border=\"1\" class=\"dataframe\">\n",
       "  <thead>\n",
       "    <tr style=\"text-align: right;\">\n",
       "      <th></th>\n",
       "      <th>Station</th>\n",
       "      <th>Date</th>\n",
       "      <th>Tavg</th>\n",
       "      <th>Depart</th>\n",
       "    </tr>\n",
       "  </thead>\n",
       "  <tbody>\n",
       "    <tr>\n",
       "      <th>0</th>\n",
       "      <td>1</td>\n",
       "      <td>2007-05-01</td>\n",
       "      <td>67</td>\n",
       "      <td>14</td>\n",
       "    </tr>\n",
       "    <tr>\n",
       "      <th>1</th>\n",
       "      <td>2</td>\n",
       "      <td>2007-05-01</td>\n",
       "      <td>68</td>\n",
       "      <td>14</td>\n",
       "    </tr>\n",
       "    <tr>\n",
       "      <th>2</th>\n",
       "      <td>1</td>\n",
       "      <td>2007-05-02</td>\n",
       "      <td>51</td>\n",
       "      <td>-3</td>\n",
       "    </tr>\n",
       "    <tr>\n",
       "      <th>3</th>\n",
       "      <td>2</td>\n",
       "      <td>2007-05-02</td>\n",
       "      <td>52</td>\n",
       "      <td>-3</td>\n",
       "    </tr>\n",
       "    <tr>\n",
       "      <th>4</th>\n",
       "      <td>1</td>\n",
       "      <td>2007-05-03</td>\n",
       "      <td>56</td>\n",
       "      <td>2</td>\n",
       "    </tr>\n",
       "    <tr>\n",
       "      <th>5</th>\n",
       "      <td>2</td>\n",
       "      <td>2007-05-03</td>\n",
       "      <td>58</td>\n",
       "      <td>2</td>\n",
       "    </tr>\n",
       "    <tr>\n",
       "      <th>6</th>\n",
       "      <td>1</td>\n",
       "      <td>2007-05-04</td>\n",
       "      <td>58</td>\n",
       "      <td>4</td>\n",
       "    </tr>\n",
       "    <tr>\n",
       "      <th>7</th>\n",
       "      <td>2</td>\n",
       "      <td>2007-05-04</td>\n",
       "      <td>65</td>\n",
       "      <td>4</td>\n",
       "    </tr>\n",
       "    <tr>\n",
       "      <th>8</th>\n",
       "      <td>1</td>\n",
       "      <td>2007-05-05</td>\n",
       "      <td>60</td>\n",
       "      <td>5</td>\n",
       "    </tr>\n",
       "    <tr>\n",
       "      <th>9</th>\n",
       "      <td>2</td>\n",
       "      <td>2007-05-05</td>\n",
       "      <td>60</td>\n",
       "      <td>5</td>\n",
       "    </tr>\n",
       "  </tbody>\n",
       "</table>\n",
       "</div>"
      ],
      "text/plain": [
       "   Station        Date  Tavg  Depart\n",
       "0        1  2007-05-01    67      14\n",
       "1        2  2007-05-01    68      14\n",
       "2        1  2007-05-02    51      -3\n",
       "3        2  2007-05-02    52      -3\n",
       "4        1  2007-05-03    56       2\n",
       "5        2  2007-05-03    58       2\n",
       "6        1  2007-05-04    58       4\n",
       "7        2  2007-05-04    65       4\n",
       "8        1  2007-05-05    60       5\n",
       "9        2  2007-05-05    60       5"
      ]
     },
     "execution_count": 31,
     "metadata": {},
     "output_type": "execute_result"
    }
   ],
   "source": [
    "# save column datatype as integer \n",
    "weather[\"Depart\"] = weather[\"Depart\"].astype(int)\n",
    "\n",
    "# print the first ten samples to observe imputed values\n",
    "weather.iloc[:, 0:4].head(10)"
   ]
  },
  {
   "cell_type": "markdown",
   "id": "1f669323",
   "metadata": {},
   "source": [
    "### There are 4 missing values for `WetBulb`. \n",
    "Wet bulb temperature refers to the lowest temperature to which air can be cooled by the evaporation of water into the air at a constant pressure."
   ]
  },
  {
   "cell_type": "code",
   "execution_count": 32,
   "id": "9d133cc4",
   "metadata": {
    "scrolled": true
   },
   "outputs": [
    {
     "data": {
      "text/html": [
       "<div>\n",
       "<style scoped>\n",
       "    .dataframe tbody tr th:only-of-type {\n",
       "        vertical-align: middle;\n",
       "    }\n",
       "\n",
       "    .dataframe tbody tr th {\n",
       "        vertical-align: top;\n",
       "    }\n",
       "\n",
       "    .dataframe thead th {\n",
       "        text-align: right;\n",
       "    }\n",
       "</style>\n",
       "<table border=\"1\" class=\"dataframe\">\n",
       "  <thead>\n",
       "    <tr style=\"text-align: right;\">\n",
       "      <th></th>\n",
       "      <th>Station</th>\n",
       "      <th>Date</th>\n",
       "      <th>Tavg</th>\n",
       "      <th>Depart</th>\n",
       "      <th>DewPoint</th>\n",
       "      <th>WetBulb</th>\n",
       "      <th>PrecipTotal</th>\n",
       "      <th>AvgSpeed</th>\n",
       "    </tr>\n",
       "  </thead>\n",
       "  <tbody>\n",
       "    <tr>\n",
       "      <th>848</th>\n",
       "      <td>1</td>\n",
       "      <td>2009-06-26</td>\n",
       "      <td>78</td>\n",
       "      <td>7</td>\n",
       "      <td>60</td>\n",
       "      <td>NaN</td>\n",
       "      <td>0.00</td>\n",
       "      <td>8.2</td>\n",
       "    </tr>\n",
       "    <tr>\n",
       "      <th>2410</th>\n",
       "      <td>1</td>\n",
       "      <td>2013-08-10</td>\n",
       "      <td>73</td>\n",
       "      <td>0</td>\n",
       "      <td>57</td>\n",
       "      <td>NaN</td>\n",
       "      <td>0.00</td>\n",
       "      <td>6.5</td>\n",
       "    </tr>\n",
       "    <tr>\n",
       "      <th>2412</th>\n",
       "      <td>1</td>\n",
       "      <td>2013-08-11</td>\n",
       "      <td>71</td>\n",
       "      <td>-2</td>\n",
       "      <td>61</td>\n",
       "      <td>NaN</td>\n",
       "      <td>0.01</td>\n",
       "      <td>3.0</td>\n",
       "    </tr>\n",
       "    <tr>\n",
       "      <th>2415</th>\n",
       "      <td>2</td>\n",
       "      <td>2013-08-12</td>\n",
       "      <td>77</td>\n",
       "      <td>2</td>\n",
       "      <td>63</td>\n",
       "      <td>NaN</td>\n",
       "      <td>0.66</td>\n",
       "      <td>7.7</td>\n",
       "    </tr>\n",
       "  </tbody>\n",
       "</table>\n",
       "</div>"
      ],
      "text/plain": [
       "      Station        Date  Tavg  Depart  DewPoint WetBulb PrecipTotal AvgSpeed\n",
       "848         1  2009-06-26    78       7        60     NaN        0.00      8.2\n",
       "2410        1  2013-08-10    73       0        57     NaN        0.00      6.5\n",
       "2412        1  2013-08-11    71      -2        61     NaN        0.01      3.0\n",
       "2415        2  2013-08-12    77       2        63     NaN        0.66      7.7"
      ]
     },
     "execution_count": 32,
     "metadata": {},
     "output_type": "execute_result"
    }
   ],
   "source": [
    "# show rows with missing WetBulb values\n",
    "weather.loc[weather[\"WetBulb\"].isna()]"
   ]
  },
  {
   "cell_type": "markdown",
   "id": "5242b59e",
   "metadata": {},
   "source": [
    "### The `WetBulb` values are similar at both stations on same dates."
   ]
  },
  {
   "cell_type": "code",
   "execution_count": 33,
   "id": "3072eef2",
   "metadata": {
    "scrolled": true
   },
   "outputs": [
    {
     "data": {
      "text/html": [
       "<div>\n",
       "<style scoped>\n",
       "    .dataframe tbody tr th:only-of-type {\n",
       "        vertical-align: middle;\n",
       "    }\n",
       "\n",
       "    .dataframe tbody tr th {\n",
       "        vertical-align: top;\n",
       "    }\n",
       "\n",
       "    .dataframe thead th {\n",
       "        text-align: right;\n",
       "    }\n",
       "</style>\n",
       "<table border=\"1\" class=\"dataframe\">\n",
       "  <thead>\n",
       "    <tr style=\"text-align: right;\">\n",
       "      <th></th>\n",
       "      <th>Station</th>\n",
       "      <th>Date</th>\n",
       "      <th>WetBulb</th>\n",
       "    </tr>\n",
       "  </thead>\n",
       "  <tbody>\n",
       "    <tr>\n",
       "      <th>0</th>\n",
       "      <td>1</td>\n",
       "      <td>2007-05-01</td>\n",
       "      <td>56</td>\n",
       "    </tr>\n",
       "    <tr>\n",
       "      <th>1</th>\n",
       "      <td>2</td>\n",
       "      <td>2007-05-01</td>\n",
       "      <td>57</td>\n",
       "    </tr>\n",
       "    <tr>\n",
       "      <th>2</th>\n",
       "      <td>1</td>\n",
       "      <td>2007-05-02</td>\n",
       "      <td>47</td>\n",
       "    </tr>\n",
       "    <tr>\n",
       "      <th>3</th>\n",
       "      <td>2</td>\n",
       "      <td>2007-05-02</td>\n",
       "      <td>47</td>\n",
       "    </tr>\n",
       "    <tr>\n",
       "      <th>4</th>\n",
       "      <td>1</td>\n",
       "      <td>2007-05-03</td>\n",
       "      <td>48</td>\n",
       "    </tr>\n",
       "    <tr>\n",
       "      <th>5</th>\n",
       "      <td>2</td>\n",
       "      <td>2007-05-03</td>\n",
       "      <td>50</td>\n",
       "    </tr>\n",
       "    <tr>\n",
       "      <th>6</th>\n",
       "      <td>1</td>\n",
       "      <td>2007-05-04</td>\n",
       "      <td>50</td>\n",
       "    </tr>\n",
       "    <tr>\n",
       "      <th>7</th>\n",
       "      <td>2</td>\n",
       "      <td>2007-05-04</td>\n",
       "      <td>50</td>\n",
       "    </tr>\n",
       "    <tr>\n",
       "      <th>8</th>\n",
       "      <td>1</td>\n",
       "      <td>2007-05-05</td>\n",
       "      <td>49</td>\n",
       "    </tr>\n",
       "    <tr>\n",
       "      <th>9</th>\n",
       "      <td>2</td>\n",
       "      <td>2007-05-05</td>\n",
       "      <td>50</td>\n",
       "    </tr>\n",
       "  </tbody>\n",
       "</table>\n",
       "</div>"
      ],
      "text/plain": [
       "   Station        Date WetBulb\n",
       "0        1  2007-05-01      56\n",
       "1        2  2007-05-01      57\n",
       "2        1  2007-05-02      47\n",
       "3        2  2007-05-02      47\n",
       "4        1  2007-05-03      48\n",
       "5        2  2007-05-03      50\n",
       "6        1  2007-05-04      50\n",
       "7        2  2007-05-04      50\n",
       "8        1  2007-05-05      49\n",
       "9        2  2007-05-05      50"
      ]
     },
     "execution_count": 33,
     "metadata": {},
     "output_type": "execute_result"
    }
   ],
   "source": [
    "weather[[\"Station\", \"Date\", \"WetBulb\"]].head(10)"
   ]
  },
  {
   "cell_type": "markdown",
   "id": "4985b688",
   "metadata": {},
   "source": [
    "### Since there are only 4 missing values, we manually use `back fill` and `forward fill` to impute missing values for station 1 and station 2 respectively. "
   ]
  },
  {
   "cell_type": "code",
   "execution_count": 34,
   "id": "70697263",
   "metadata": {
    "scrolled": true
   },
   "outputs": [],
   "source": [
    "# use backfill for station 1's missing values \n",
    "weather.iloc[848,5] = weather.iloc[849,5]\n",
    "weather.iloc[2410,5] = weather.iloc[2411,5]\n",
    "weather.iloc[2412,5] = weather.iloc[2413,5]\n",
    "\n",
    "# use forward fill for station 2's missing values \n",
    "weather.iloc[2415,5] = weather.iloc[2414,5]"
   ]
  },
  {
   "cell_type": "code",
   "execution_count": 35,
   "id": "149124b4",
   "metadata": {},
   "outputs": [],
   "source": [
    "# save column datatype as integer \n",
    "weather[\"WetBulb\"] = weather[\"WetBulb\"].astype(int)"
   ]
  },
  {
   "cell_type": "markdown",
   "id": "981e8d2e",
   "metadata": {},
   "source": [
    "### Given that there are only 2 missing values for `PrecipTotal`, we manually impute using `forward fill`."
   ]
  },
  {
   "cell_type": "code",
   "execution_count": 36,
   "id": "6e062980",
   "metadata": {
    "scrolled": false
   },
   "outputs": [
    {
     "data": {
      "text/html": [
       "<div>\n",
       "<style scoped>\n",
       "    .dataframe tbody tr th:only-of-type {\n",
       "        vertical-align: middle;\n",
       "    }\n",
       "\n",
       "    .dataframe tbody tr th {\n",
       "        vertical-align: top;\n",
       "    }\n",
       "\n",
       "    .dataframe thead th {\n",
       "        text-align: right;\n",
       "    }\n",
       "</style>\n",
       "<table border=\"1\" class=\"dataframe\">\n",
       "  <thead>\n",
       "    <tr style=\"text-align: right;\">\n",
       "      <th></th>\n",
       "      <th>Station</th>\n",
       "      <th>Date</th>\n",
       "      <th>Tavg</th>\n",
       "      <th>Depart</th>\n",
       "      <th>DewPoint</th>\n",
       "      <th>WetBulb</th>\n",
       "      <th>PrecipTotal</th>\n",
       "      <th>AvgSpeed</th>\n",
       "    </tr>\n",
       "  </thead>\n",
       "  <tbody>\n",
       "    <tr>\n",
       "      <th>117</th>\n",
       "      <td>2</td>\n",
       "      <td>2007-06-28</td>\n",
       "      <td>67</td>\n",
       "      <td>-5</td>\n",
       "      <td>56</td>\n",
       "      <td>61</td>\n",
       "      <td>NaN</td>\n",
       "      <td>13.3</td>\n",
       "    </tr>\n",
       "    <tr>\n",
       "      <th>119</th>\n",
       "      <td>2</td>\n",
       "      <td>2007-06-29</td>\n",
       "      <td>64</td>\n",
       "      <td>-8</td>\n",
       "      <td>56</td>\n",
       "      <td>60</td>\n",
       "      <td>NaN</td>\n",
       "      <td>8.2</td>\n",
       "    </tr>\n",
       "  </tbody>\n",
       "</table>\n",
       "</div>"
      ],
      "text/plain": [
       "     Station        Date  Tavg  Depart  DewPoint  WetBulb PrecipTotal AvgSpeed\n",
       "117        2  2007-06-28    67      -5        56       61         NaN     13.3\n",
       "119        2  2007-06-29    64      -8        56       60         NaN      8.2"
      ]
     },
     "execution_count": 36,
     "metadata": {},
     "output_type": "execute_result"
    }
   ],
   "source": [
    "weather[weather[\"PrecipTotal\"].isna()]"
   ]
  },
  {
   "cell_type": "code",
   "execution_count": 37,
   "id": "ae0bf611",
   "metadata": {},
   "outputs": [],
   "source": [
    "# use forward fill for station 2's missing values \n",
    "weather.iloc[117,6] = weather.iloc[116,6]\n",
    "weather.iloc[119,6] = weather.iloc[118,6]"
   ]
  },
  {
   "cell_type": "markdown",
   "id": "79c356ac",
   "metadata": {},
   "source": [
    "### When some precipitation fell but it was not enough to measure, the data is recorded as \"T\". Therefore, we want to replace all these values to 0 to ensure the column only has numerical values.\n"
   ]
  },
  {
   "cell_type": "code",
   "execution_count": 38,
   "id": "d3560ca6",
   "metadata": {},
   "outputs": [],
   "source": [
    "# replace T with 0\n",
    "weather.replace([\"T\", \"  T\"], 0, inplace=True)"
   ]
  },
  {
   "cell_type": "code",
   "execution_count": 39,
   "id": "f77d8850",
   "metadata": {},
   "outputs": [],
   "source": [
    "# save column datatype as integer \n",
    "weather[\"PrecipTotal\"] = weather[\"PrecipTotal\"].astype(float)"
   ]
  },
  {
   "cell_type": "markdown",
   "id": "e0e65bd6",
   "metadata": {},
   "source": [
    "### Lastly, we impute the missing `AvgSpeed` values manually using the `forward fill` method."
   ]
  },
  {
   "cell_type": "code",
   "execution_count": 40,
   "id": "731eb681",
   "metadata": {},
   "outputs": [
    {
     "data": {
      "text/html": [
       "<div>\n",
       "<style scoped>\n",
       "    .dataframe tbody tr th:only-of-type {\n",
       "        vertical-align: middle;\n",
       "    }\n",
       "\n",
       "    .dataframe tbody tr th {\n",
       "        vertical-align: top;\n",
       "    }\n",
       "\n",
       "    .dataframe thead th {\n",
       "        text-align: right;\n",
       "    }\n",
       "</style>\n",
       "<table border=\"1\" class=\"dataframe\">\n",
       "  <thead>\n",
       "    <tr style=\"text-align: right;\">\n",
       "      <th></th>\n",
       "      <th>Station</th>\n",
       "      <th>Date</th>\n",
       "      <th>Tavg</th>\n",
       "      <th>Depart</th>\n",
       "      <th>DewPoint</th>\n",
       "      <th>WetBulb</th>\n",
       "      <th>PrecipTotal</th>\n",
       "      <th>AvgSpeed</th>\n",
       "    </tr>\n",
       "  </thead>\n",
       "  <tbody>\n",
       "    <tr>\n",
       "      <th>87</th>\n",
       "      <td>2</td>\n",
       "      <td>2007-06-13</td>\n",
       "      <td>77</td>\n",
       "      <td>6</td>\n",
       "      <td>53</td>\n",
       "      <td>62</td>\n",
       "      <td>0.0</td>\n",
       "      <td>NaN</td>\n",
       "    </tr>\n",
       "    <tr>\n",
       "      <th>1745</th>\n",
       "      <td>2</td>\n",
       "      <td>2011-09-14</td>\n",
       "      <td>54</td>\n",
       "      <td>-11</td>\n",
       "      <td>45</td>\n",
       "      <td>51</td>\n",
       "      <td>0.0</td>\n",
       "      <td>NaN</td>\n",
       "    </tr>\n",
       "    <tr>\n",
       "      <th>2067</th>\n",
       "      <td>2</td>\n",
       "      <td>2012-08-22</td>\n",
       "      <td>78</td>\n",
       "      <td>-1</td>\n",
       "      <td>51</td>\n",
       "      <td>61</td>\n",
       "      <td>0.0</td>\n",
       "      <td>NaN</td>\n",
       "    </tr>\n",
       "  </tbody>\n",
       "</table>\n",
       "</div>"
      ],
      "text/plain": [
       "      Station        Date  Tavg  Depart  DewPoint  WetBulb  PrecipTotal  \\\n",
       "87          2  2007-06-13    77       6        53       62          0.0   \n",
       "1745        2  2011-09-14    54     -11        45       51          0.0   \n",
       "2067        2  2012-08-22    78      -1        51       61          0.0   \n",
       "\n",
       "     AvgSpeed  \n",
       "87        NaN  \n",
       "1745      NaN  \n",
       "2067      NaN  "
      ]
     },
     "execution_count": 40,
     "metadata": {},
     "output_type": "execute_result"
    }
   ],
   "source": [
    "# show rows with missing WetBulb values\n",
    "weather.loc[weather[\"AvgSpeed\"].isna()]"
   ]
  },
  {
   "cell_type": "code",
   "execution_count": 41,
   "id": "bb04c014",
   "metadata": {},
   "outputs": [],
   "source": [
    "# use forward fill for station 2's missing values \n",
    "weather.iloc[87,7] = weather.iloc[86,7]\n",
    "weather.iloc[1745,7] = weather.iloc[1744,7]\n",
    "weather.iloc[2067,7] = weather.iloc[2066,7]"
   ]
  },
  {
   "cell_type": "code",
   "execution_count": 42,
   "id": "90b15a8a",
   "metadata": {},
   "outputs": [],
   "source": [
    "# save column datatype as integer \n",
    "weather[\"AvgSpeed\"] = weather[\"AvgSpeed\"].astype(float)"
   ]
  },
  {
   "cell_type": "markdown",
   "id": "bc401cf3",
   "metadata": {},
   "source": [
    "## Data Visualization"
   ]
  },
  {
   "cell_type": "code",
   "execution_count": 43,
   "id": "3e37f569",
   "metadata": {
    "scrolled": true
   },
   "outputs": [
    {
     "name": "stdout",
     "output_type": "stream",
     "text": [
      "<class 'pandas.core.frame.DataFrame'>\n",
      "RangeIndex: 2944 entries, 0 to 2943\n",
      "Data columns (total 8 columns):\n",
      " #   Column       Non-Null Count  Dtype  \n",
      "---  ------       --------------  -----  \n",
      " 0   Station      2944 non-null   int64  \n",
      " 1   Date         2944 non-null   object \n",
      " 2   Tavg         2944 non-null   int32  \n",
      " 3   Depart       2944 non-null   int32  \n",
      " 4   DewPoint     2944 non-null   int64  \n",
      " 5   WetBulb      2944 non-null   int32  \n",
      " 6   PrecipTotal  2944 non-null   float64\n",
      " 7   AvgSpeed     2944 non-null   float64\n",
      "dtypes: float64(2), int32(3), int64(2), object(1)\n",
      "memory usage: 149.6+ KB\n"
     ]
    }
   ],
   "source": [
    "# check that dataset is now complete \n",
    "weather.info()"
   ]
  },
  {
   "cell_type": "code",
   "execution_count": 44,
   "id": "befb03a5",
   "metadata": {},
   "outputs": [
    {
     "data": {
      "image/png": "[encoded data removed]",
      "text/plain": [
       "<Figure size 504x360 with 1 Axes>"
      ]
     },
     "metadata": {
      "needs_background": "light"
     },
     "output_type": "display_data"
    },
    {
     "data": {
      "image/png": "[encoded data removed]",
      "text/plain": [
       "<Figure size 504x360 with 1 Axes>"
      ]
     },
     "metadata": {
      "needs_background": "light"
     },
     "output_type": "display_data"
    },
    {
     "data": {
      "image/png": "[encoded data removed]",
      "text/plain": [
       "<Figure size 504x360 with 1 Axes>"
      ]
     },
     "metadata": {
      "needs_background": "light"
     },
     "output_type": "display_data"
    },
    {
     "data": {
      "image/png": "[encoded data removed]",
      "text/plain": [
       "<Figure size 504x360 with 1 Axes>"
      ]
     },
     "metadata": {
      "needs_background": "light"
     },
     "output_type": "display_data"
    },
    {
     "data": {
      "image/png": "[encoded data removed]",
      "text/plain": [
       "<Figure size 504x360 with 1 Axes>"
      ]
     },
     "metadata": {
      "needs_background": "light"
     },
     "output_type": "display_data"
    }
   ],
   "source": [
    "# draw a box plot showing the range of character and word counts for posts in both subreddits\n",
    "fig, ax = plt.subplots(figsize=(7,5))\n",
    "plt.title(\"Temperature range recorded in degree F\")\n",
    "sns.boxplot(y=\"Tavg\", x=\"Station\", data=weather)\n",
    "\n",
    "fig, ax = plt.subplots(figsize=(7,5))\n",
    "plt.title(\"Dewpoint temperature recorded in degree F\")\n",
    "sns.boxplot(y=\"Depart\", x=\"Station\", data=weather)\n",
    "\n",
    "fig, ax = plt.subplots(figsize=(7,5))\n",
    "plt.title(\"Wetbulb temperature recorded in degree F\")\n",
    "sns.boxplot(y=\"WetBulb\", x=\"Station\", data=weather)\n",
    "\n",
    "fig, ax = plt.subplots(figsize=(7,5))\n",
    "plt.title(\"Total precipitation in inches\")\n",
    "sns.boxplot(y=\"PrecipTotal\", x=\"Station\", data=weather)\n",
    "\n",
    "fig, ax = plt.subplots(figsize=(7,5))\n",
    "plt.title(\"Average windspeed in mph\")\n",
    "sns.boxplot(y=\"AvgSpeed\", x=\"Station\", data=weather);"
   ]
  },
  {
   "cell_type": "markdown",
   "id": "c88137f6",
   "metadata": {},
   "source": [
    "# Train Dataset"
   ]
  },
  {
   "cell_type": "code",
   "execution_count": 45,
   "id": "5ae6249d",
   "metadata": {},
   "outputs": [
    {
     "name": "stdout",
     "output_type": "stream",
     "text": [
      "<class 'pandas.core.frame.DataFrame'>\n",
      "RangeIndex: 10506 entries, 0 to 10505\n",
      "Data columns (total 12 columns):\n",
      " #   Column                  Non-Null Count  Dtype  \n",
      "---  ------                  --------------  -----  \n",
      " 0   Date                    10506 non-null  object \n",
      " 1   Address                 10506 non-null  object \n",
      " 2   Species                 10506 non-null  object \n",
      " 3   Block                   10506 non-null  int64  \n",
      " 4   Street                  10506 non-null  object \n",
      " 5   Trap                    10506 non-null  object \n",
      " 6   AddressNumberAndStreet  10506 non-null  object \n",
      " 7   Latitude                10506 non-null  float64\n",
      " 8   Longitude               10506 non-null  float64\n",
      " 9   AddressAccuracy         10506 non-null  int64  \n",
      " 10  NumMosquitos            10506 non-null  int64  \n",
      " 11  WnvPresent              10506 non-null  int64  \n",
      "dtypes: float64(2), int64(4), object(6)\n",
      "memory usage: 985.1+ KB\n"
     ]
    }
   ],
   "source": [
    "# No missing values in train data \n",
    "train.info()"
   ]
  },
  {
   "cell_type": "code",
   "execution_count": 46,
   "id": "08ccfcdf",
   "metadata": {
    "scrolled": false
   },
   "outputs": [
    {
     "data": {
      "text/html": [
       "<div>\n",
       "<style scoped>\n",
       "    .dataframe tbody tr th:only-of-type {\n",
       "        vertical-align: middle;\n",
       "    }\n",
       "\n",
       "    .dataframe tbody tr th {\n",
       "        vertical-align: top;\n",
       "    }\n",
       "\n",
       "    .dataframe thead th {\n",
       "        text-align: right;\n",
       "    }\n",
       "</style>\n",
       "<table border=\"1\" class=\"dataframe\">\n",
       "  <thead>\n",
       "    <tr style=\"text-align: right;\">\n",
       "      <th></th>\n",
       "      <th>Date</th>\n",
       "      <th>Address</th>\n",
       "      <th>Species</th>\n",
       "      <th>Block</th>\n",
       "      <th>Street</th>\n",
       "      <th>Trap</th>\n",
       "      <th>AddressNumberAndStreet</th>\n",
       "      <th>Latitude</th>\n",
       "      <th>Longitude</th>\n",
       "      <th>AddressAccuracy</th>\n",
       "      <th>NumMosquitos</th>\n",
       "      <th>WnvPresent</th>\n",
       "    </tr>\n",
       "  </thead>\n",
       "  <tbody>\n",
       "    <tr>\n",
       "      <th>0</th>\n",
       "      <td>2007-05-29</td>\n",
       "      <td>4100 North Oak Park Avenue, Chicago, IL 60634,...</td>\n",
       "      <td>CULEX PIPIENS/RESTUANS</td>\n",
       "      <td>41</td>\n",
       "      <td>N OAK PARK AVE</td>\n",
       "      <td>T002</td>\n",
       "      <td>4100  N OAK PARK AVE, Chicago, IL</td>\n",
       "      <td>41.95469</td>\n",
       "      <td>-87.800991</td>\n",
       "      <td>9</td>\n",
       "      <td>1</td>\n",
       "      <td>0</td>\n",
       "    </tr>\n",
       "    <tr>\n",
       "      <th>1</th>\n",
       "      <td>2007-05-29</td>\n",
       "      <td>4100 North Oak Park Avenue, Chicago, IL 60634,...</td>\n",
       "      <td>CULEX RESTUANS</td>\n",
       "      <td>41</td>\n",
       "      <td>N OAK PARK AVE</td>\n",
       "      <td>T002</td>\n",
       "      <td>4100  N OAK PARK AVE, Chicago, IL</td>\n",
       "      <td>41.95469</td>\n",
       "      <td>-87.800991</td>\n",
       "      <td>9</td>\n",
       "      <td>1</td>\n",
       "      <td>0</td>\n",
       "    </tr>\n",
       "  </tbody>\n",
       "</table>\n",
       "</div>"
      ],
      "text/plain": [
       "         Date                                            Address  \\\n",
       "0  2007-05-29  4100 North Oak Park Avenue, Chicago, IL 60634,...   \n",
       "1  2007-05-29  4100 North Oak Park Avenue, Chicago, IL 60634,...   \n",
       "\n",
       "                  Species  Block           Street  Trap  \\\n",
       "0  CULEX PIPIENS/RESTUANS     41   N OAK PARK AVE  T002   \n",
       "1          CULEX RESTUANS     41   N OAK PARK AVE  T002   \n",
       "\n",
       "              AddressNumberAndStreet  Latitude  Longitude  AddressAccuracy  \\\n",
       "0  4100  N OAK PARK AVE, Chicago, IL  41.95469 -87.800991                9   \n",
       "1  4100  N OAK PARK AVE, Chicago, IL  41.95469 -87.800991                9   \n",
       "\n",
       "   NumMosquitos  WnvPresent  \n",
       "0             1           0  \n",
       "1             1           0  "
      ]
     },
     "execution_count": 46,
     "metadata": {},
     "output_type": "execute_result"
    }
   ],
   "source": [
    "train.head(2)"
   ]
  },
  {
   "cell_type": "markdown",
   "id": "889d3479",
   "metadata": {},
   "source": [
    "## Dropping Irrelevant Columns for Analysis"
   ]
  },
  {
   "cell_type": "code",
   "execution_count": 47,
   "id": "ea6804ab",
   "metadata": {},
   "outputs": [],
   "source": [
    "train.drop([\"Address\", \"Block\", \"Street\", \"AddressNumberAndStreet\", \"AddressAccuracy\"],\n",
    "          axis=1, inplace=True)"
   ]
  },
  {
   "cell_type": "code",
   "execution_count": 84,
   "id": "541319dd",
   "metadata": {},
   "outputs": [
    {
     "name": "stdout",
     "output_type": "stream",
     "text": [
      "<class 'pandas.core.frame.DataFrame'>\n",
      "RangeIndex: 10506 entries, 0 to 10505\n",
      "Data columns (total 14 columns):\n",
      " #   Column        Non-Null Count  Dtype  \n",
      "---  ------        --------------  -----  \n",
      " 0   Date          10506 non-null  object \n",
      " 1   Species       10506 non-null  object \n",
      " 2   Trap          10506 non-null  object \n",
      " 3   Latitude      10506 non-null  float64\n",
      " 4   Longitude     10506 non-null  float64\n",
      " 5   NumMosquitos  10506 non-null  int64  \n",
      " 6   WnvPresent    10506 non-null  int64  \n",
      " 7   Month         10506 non-null  object \n",
      " 8   PIPIENS       10506 non-null  int64  \n",
      " 9   RESTUANS      10506 non-null  int64  \n",
      " 10  SALINARIUS    10506 non-null  int64  \n",
      " 11  TERRITANS     10506 non-null  int64  \n",
      " 12  TARSALIS      10506 non-null  int64  \n",
      " 13  ERRATICUS     10506 non-null  int64  \n",
      "dtypes: float64(2), int64(8), object(4)\n",
      "memory usage: 1.1+ MB\n"
     ]
    }
   ],
   "source": [
    "train.info()"
   ]
  },
  {
   "cell_type": "markdown",
   "id": "5b906248",
   "metadata": {},
   "source": [
    "### Mosquitoes seem to be collected through May to Oct each year. "
   ]
  },
  {
   "cell_type": "code",
   "execution_count": 56,
   "id": "95c77acf",
   "metadata": {},
   "outputs": [],
   "source": [
    "# create a column with month feature to help with prelim EDA \n",
    "train[\"Month\"] = pd.to_datetime(train[\"Date\"]).apply(lambda x: x.strftime(\"%m\"))"
   ]
  },
  {
   "cell_type": "code",
   "execution_count": 78,
   "id": "fb968593",
   "metadata": {},
   "outputs": [
    {
     "data": {
      "image/png": "[encoded data removed]",
      "text/plain": [
       "<Figure size 432x288 with 1 Axes>"
      ]
     },
     "metadata": {
      "needs_background": "light"
     },
     "output_type": "display_data"
    }
   ],
   "source": [
    "month_with_virus = train.pivot_table(values=['NumMosquitos'], index='Month',\n",
    "                                       columns='WnvPresent', aggfunc='count')\n",
    "\n",
    "# moz = moz.div(moz.sum(1), axis=0)\n",
    "month_with_virus.plot(kind='bar', stacked=True)\n",
    "plt.title(\"Number of Traps with Mosquitoes collected for Virus Testing\")\n",
    "plt.xlabel(\"Month\")\n",
    "plt.xticks(rotation = 360) \n",
    "\n",
    "plt.legend(labels=[\"Without Virus\", \"With Virus\"]);\n",
    "#plt.legend(bbox_to_anchor=(1.05, 1));"
   ]
  },
  {
   "cell_type": "markdown",
   "id": "94f6ef79",
   "metadata": {},
   "source": [
    "### Of all the mosquitoes collected, only those belonging to species groups - `Restuans` or `Pipiens` - had tested positive for the virus in the train dataset."
   ]
  },
  {
   "cell_type": "code",
   "execution_count": 79,
   "id": "52f147ae",
   "metadata": {},
   "outputs": [
    {
     "data": {
      "image/png": "[encoded data removed]",
      "text/plain": [
       "<Figure size 432x288 with 1 Axes>"
      ]
     },
     "metadata": {
      "needs_background": "light"
     },
     "output_type": "display_data"
    }
   ],
   "source": [
    "species_with_virus = train.pivot_table(values=['NumMosquitos'], index='Species',\n",
    "                                       columns='WnvPresent', aggfunc='sum')\n",
    "\n",
    "# moz = moz.div(moz.sum(1), axis=0)\n",
    "species_with_virus.plot(kind='barh', stacked=True)\n",
    "plt.title(\"Number of Mosquitos with and without Virus\")\n",
    "plt.xlabel(\"Number of Mosquitos\")\n",
    "plt.legend(labels=[\"Without Virus\", \"With Virus\"]);\n",
    "#plt.legend(bbox_to_anchor=(1.05, 1));"
   ]
  },
  {
   "cell_type": "markdown",
   "id": "7b15c7cd",
   "metadata": {},
   "source": [
    "## Dummification of Mosquito Species"
   ]
  },
  {
   "cell_type": "code",
   "execution_count": 81,
   "id": "cefcd2be",
   "metadata": {
    "scrolled": false
   },
   "outputs": [
    {
     "data": {
      "text/plain": [
       "array(['CULEX PIPIENS/RESTUANS', 'CULEX RESTUANS', 'CULEX PIPIENS',\n",
       "       'CULEX SALINARIUS', 'CULEX TERRITANS', 'CULEX TARSALIS',\n",
       "       'CULEX ERRATICUS'], dtype=object)"
      ]
     },
     "execution_count": 81,
     "metadata": {},
     "output_type": "execute_result"
    }
   ],
   "source": [
    "# print unique species \n",
    "train[\"Species\"].unique()"
   ]
  },
  {
   "cell_type": "code",
   "execution_count": 82,
   "id": "b56d6d5f",
   "metadata": {},
   "outputs": [],
   "source": [
    "# create loop to dummify the species data\n",
    "species = [\"PIPIENS\", \"RESTUANS\", \"SALINARIUS\", \n",
    "           \"TERRITANS\", \"TARSALIS\", \"ERRATICUS\"]\n",
    "\n",
    "for i in species:\n",
    "    train[i] = 0\n",
    "    for index, row in train.iterrows():\n",
    "        if i in row[\"Species\"]:\n",
    "            train[i][index] = 1 "
   ]
  },
  {
   "cell_type": "code",
   "execution_count": 83,
   "id": "4b1ae985",
   "metadata": {},
   "outputs": [
    {
     "data": {
      "text/plain": [
       "0    0.947554\n",
       "1    0.052446\n",
       "Name: WnvPresent, dtype: float64"
      ]
     },
     "execution_count": 83,
     "metadata": {},
     "output_type": "execute_result"
    }
   ],
   "source": [
    "train[\"WnvPresent\"].value_counts(normalize=True)"
   ]
  }
 ],
 "metadata": {
  "kernelspec": {
   "display_name": "Python 3",
   "language": "python",
   "name": "python3"
  },
  "language_info": {
   "codemirror_mode": {
    "name": "ipython",
    "version": 3
   },
   "file_extension": ".py",
   "mimetype": "text/x-python",
   "name": "python",
   "nbconvert_exporter": "python",
   "pygments_lexer": "ipython3",
   "version": "3.8.8"
  }
 },
 "nbformat": 4,
 "nbformat_minor": 5
}
