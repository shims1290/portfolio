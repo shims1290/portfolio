{
 "cells": [
  {
   "cell_type": "markdown",
   "id": "84e6a2a8",
   "metadata": {},
   "source": [
    "<img src=\"http://imgur.com/1ZcRyrc.png\" style=\"float: left; margin: 20px; height: 55px\">\n",
    "\n",
    "# Project 3 - Web APIs & NLP"
   ]
  },
  {
   "cell_type": "markdown",
   "id": "960ee86a",
   "metadata": {},
   "source": [
    "# 05_Modelling - TF-IDF Vectorization"
   ]
  },
  {
   "cell_type": "markdown",
   "id": "d1419995",
   "metadata": {},
   "source": [
    "## Importing Libraries & Datasets"
   ]
  },
  {
   "cell_type": "code",
   "execution_count": 1,
   "id": "76f993f9",
   "metadata": {},
   "outputs": [],
   "source": [
    "import pandas as pd\n",
    "import numpy as np\n",
    "import matplotlib.pyplot as plt\n",
    "import seaborn as sns\n",
    "\n",
    "from sklearn.linear_model import LogisticRegression\n",
    "from sklearn.naive_bayes import BernoulliNB, MultinomialNB, GaussianNB\n",
    "from sklearn.model_selection import train_test_split, cross_val_score\n",
    "\n",
    "from sklearn import metrics\n",
    "from sklearn.metrics import recall_score, accuracy_score, confusion_matrix, plot_confusion_matrix"
   ]
  },
  {
   "cell_type": "code",
   "execution_count": 2,
   "id": "ecf15b50",
   "metadata": {},
   "outputs": [],
   "source": [
    "tfidf_df = pd.read_csv(\"../data/vectorized/tfidf.csv\")"
   ]
  },
  {
   "cell_type": "markdown",
   "id": "c2d6e835",
   "metadata": {},
   "source": [
    "### Pre-processing: Dummification"
   ]
  },
  {
   "cell_type": "code",
   "execution_count": 3,
   "id": "2889b975",
   "metadata": {},
   "outputs": [
    {
     "data": {
      "text/html": [
       "<div>\n",
       "<style scoped>\n",
       "    .dataframe tbody tr th:only-of-type {\n",
       "        vertical-align: middle;\n",
       "    }\n",
       "\n",
       "    .dataframe tbody tr th {\n",
       "        vertical-align: top;\n",
       "    }\n",
       "\n",
       "    .dataframe thead th {\n",
       "        text-align: right;\n",
       "    }\n",
       "</style>\n",
       "<table border=\"1\" class=\"dataframe\">\n",
       "  <thead>\n",
       "    <tr style=\"text-align: right;\">\n",
       "      <th></th>\n",
       "      <th>subreddit_class</th>\n",
       "      <th>created_utc</th>\n",
       "      <th>text</th>\n",
       "      <th>cleaned_text</th>\n",
       "      <th>cleaned_sentence</th>\n",
       "      <th>char_count</th>\n",
       "      <th>word_count</th>\n",
       "      <th>hour_posted</th>\n",
       "      <th>Unnamed: 8</th>\n",
       "      <th>aa</th>\n",
       "      <th>...</th>\n",
       "      <th>zilliqa</th>\n",
       "      <th>zillows</th>\n",
       "      <th>zim</th>\n",
       "      <th>zinc</th>\n",
       "      <th>zm</th>\n",
       "      <th>zone</th>\n",
       "      <th>zoo</th>\n",
       "      <th>zoom</th>\n",
       "      <th>zooming</th>\n",
       "      <th>zscaler</th>\n",
       "    </tr>\n",
       "  </thead>\n",
       "  <tbody>\n",
       "    <tr>\n",
       "      <th>0</th>\n",
       "      <td>1</td>\n",
       "      <td>1626851004</td>\n",
       "      <td>Advise on Long Term Stock? I am earning very l...</td>\n",
       "      <td>['advise', 'long', 'term', 'stock', 'earning',...</td>\n",
       "      <td>advise long term stock earning little moment w...</td>\n",
       "      <td>297</td>\n",
       "      <td>59</td>\n",
       "      <td>7</td>\n",
       "      <td>0.0</td>\n",
       "      <td>0.0</td>\n",
       "      <td>...</td>\n",
       "      <td>0.0</td>\n",
       "      <td>0.0</td>\n",
       "      <td>0.0</td>\n",
       "      <td>0.0</td>\n",
       "      <td>0.0</td>\n",
       "      <td>0.0</td>\n",
       "      <td>0.0</td>\n",
       "      <td>0.0</td>\n",
       "      <td>0.0</td>\n",
       "      <td>0.0</td>\n",
       "    </tr>\n",
       "    <tr>\n",
       "      <th>1</th>\n",
       "      <td>1</td>\n",
       "      <td>1626847423</td>\n",
       "      <td>Dad told me to sell on Monday when the market ...</td>\n",
       "      <td>['dad', 'told', 'sell', 'monday', 'market', 'r...</td>\n",
       "      <td>dad told sell monday market red bc already pro...</td>\n",
       "      <td>680</td>\n",
       "      <td>140</td>\n",
       "      <td>6</td>\n",
       "      <td>0.0</td>\n",
       "      <td>0.0</td>\n",
       "      <td>...</td>\n",
       "      <td>0.0</td>\n",
       "      <td>0.0</td>\n",
       "      <td>0.0</td>\n",
       "      <td>0.0</td>\n",
       "      <td>0.0</td>\n",
       "      <td>0.0</td>\n",
       "      <td>0.0</td>\n",
       "      <td>0.0</td>\n",
       "      <td>0.0</td>\n",
       "      <td>0.0</td>\n",
       "    </tr>\n",
       "    <tr>\n",
       "      <th>2</th>\n",
       "      <td>1</td>\n",
       "      <td>1626846017</td>\n",
       "      <td>Merger/accusation question about a game co. An...</td>\n",
       "      <td>['mergeaccusation', 'question', 'game', 'co', ...</td>\n",
       "      <td>mergeaccusation question game co theater co re...</td>\n",
       "      <td>451</td>\n",
       "      <td>85</td>\n",
       "      <td>5</td>\n",
       "      <td>0.0</td>\n",
       "      <td>0.0</td>\n",
       "      <td>...</td>\n",
       "      <td>0.0</td>\n",
       "      <td>0.0</td>\n",
       "      <td>0.0</td>\n",
       "      <td>0.0</td>\n",
       "      <td>0.0</td>\n",
       "      <td>0.0</td>\n",
       "      <td>0.0</td>\n",
       "      <td>0.0</td>\n",
       "      <td>0.0</td>\n",
       "      <td>0.0</td>\n",
       "    </tr>\n",
       "    <tr>\n",
       "      <th>3</th>\n",
       "      <td>1</td>\n",
       "      <td>1626845812</td>\n",
       "      <td>Best Software to Track Trades and Create Repor...</td>\n",
       "      <td>['best', 'software', 'track', 'trade', 'create...</td>\n",
       "      <td>best software track trade create report hi im ...</td>\n",
       "      <td>1088</td>\n",
       "      <td>204</td>\n",
       "      <td>5</td>\n",
       "      <td>0.0</td>\n",
       "      <td>0.0</td>\n",
       "      <td>...</td>\n",
       "      <td>0.0</td>\n",
       "      <td>0.0</td>\n",
       "      <td>0.0</td>\n",
       "      <td>0.0</td>\n",
       "      <td>0.0</td>\n",
       "      <td>0.0</td>\n",
       "      <td>0.0</td>\n",
       "      <td>0.0</td>\n",
       "      <td>0.0</td>\n",
       "      <td>0.0</td>\n",
       "    </tr>\n",
       "    <tr>\n",
       "      <th>4</th>\n",
       "      <td>1</td>\n",
       "      <td>1626840162</td>\n",
       "      <td>After Driving My Friends Tesla, Here Are My Th...</td>\n",
       "      <td>['driving', 'friend', 'tesla', 'thought', 'bul...</td>\n",
       "      <td>driving friend tesla thought bullish tesla im ...</td>\n",
       "      <td>663</td>\n",
       "      <td>137</td>\n",
       "      <td>4</td>\n",
       "      <td>0.0</td>\n",
       "      <td>0.0</td>\n",
       "      <td>...</td>\n",
       "      <td>0.0</td>\n",
       "      <td>0.0</td>\n",
       "      <td>0.0</td>\n",
       "      <td>0.0</td>\n",
       "      <td>0.0</td>\n",
       "      <td>0.0</td>\n",
       "      <td>0.0</td>\n",
       "      <td>0.0</td>\n",
       "      <td>0.0</td>\n",
       "      <td>0.0</td>\n",
       "    </tr>\n",
       "  </tbody>\n",
       "</table>\n",
       "<p>5 rows × 10280 columns</p>\n",
       "</div>"
      ],
      "text/plain": [
       "   subreddit_class  created_utc  \\\n",
       "0                1   1626851004   \n",
       "1                1   1626847423   \n",
       "2                1   1626846017   \n",
       "3                1   1626845812   \n",
       "4                1   1626840162   \n",
       "\n",
       "                                                text  \\\n",
       "0  Advise on Long Term Stock? I am earning very l...   \n",
       "1  Dad told me to sell on Monday when the market ...   \n",
       "2  Merger/accusation question about a game co. An...   \n",
       "3  Best Software to Track Trades and Create Repor...   \n",
       "4  After Driving My Friends Tesla, Here Are My Th...   \n",
       "\n",
       "                                        cleaned_text  \\\n",
       "0  ['advise', 'long', 'term', 'stock', 'earning',...   \n",
       "1  ['dad', 'told', 'sell', 'monday', 'market', 'r...   \n",
       "2  ['mergeaccusation', 'question', 'game', 'co', ...   \n",
       "3  ['best', 'software', 'track', 'trade', 'create...   \n",
       "4  ['driving', 'friend', 'tesla', 'thought', 'bul...   \n",
       "\n",
       "                                    cleaned_sentence  char_count  word_count  \\\n",
       "0  advise long term stock earning little moment w...         297          59   \n",
       "1  dad told sell monday market red bc already pro...         680         140   \n",
       "2  mergeaccusation question game co theater co re...         451          85   \n",
       "3  best software track trade create report hi im ...        1088         204   \n",
       "4  driving friend tesla thought bullish tesla im ...         663         137   \n",
       "\n",
       "   hour_posted  Unnamed: 8   aa  ...  zilliqa  zillows  zim  zinc   zm  zone  \\\n",
       "0            7         0.0  0.0  ...      0.0      0.0  0.0   0.0  0.0   0.0   \n",
       "1            6         0.0  0.0  ...      0.0      0.0  0.0   0.0  0.0   0.0   \n",
       "2            5         0.0  0.0  ...      0.0      0.0  0.0   0.0  0.0   0.0   \n",
       "3            5         0.0  0.0  ...      0.0      0.0  0.0   0.0  0.0   0.0   \n",
       "4            4         0.0  0.0  ...      0.0      0.0  0.0   0.0  0.0   0.0   \n",
       "\n",
       "   zoo  zoom  zooming  zscaler  \n",
       "0  0.0   0.0      0.0      0.0  \n",
       "1  0.0   0.0      0.0      0.0  \n",
       "2  0.0   0.0      0.0      0.0  \n",
       "3  0.0   0.0      0.0      0.0  \n",
       "4  0.0   0.0      0.0      0.0  \n",
       "\n",
       "[5 rows x 10280 columns]"
      ]
     },
     "execution_count": 3,
     "metadata": {},
     "output_type": "execute_result"
    }
   ],
   "source": [
    "# dummify target variable: 1 = stocks, 0 = cryptocurrency\n",
    "dummify = {\"stocks\":1, \"CryptoCurrency\":0}\n",
    "tfidf_df[\"subreddit_class\"] = tfidf_df[\"subreddit_class\"].map(dummify)\n",
    "tfidf_df.head()"
   ]
  },
  {
   "cell_type": "code",
   "execution_count": 4,
   "id": "9bfe6b0e",
   "metadata": {},
   "outputs": [
    {
     "name": "stdout",
     "output_type": "stream",
     "text": [
      "(3400, 10272)\n",
      "(3400,)\n"
     ]
    }
   ],
   "source": [
    "# setting up the IVs and DV for modelling\n",
    "X = tfidf_df.iloc[:, 8::]\n",
    "y = tfidf_df[\"subreddit_class\"]\n",
    "print(X.shape)\n",
    "print(y.shape)"
   ]
  },
  {
   "cell_type": "markdown",
   "id": "a6b80c68",
   "metadata": {},
   "source": [
    "### Train-Test Split"
   ]
  },
  {
   "cell_type": "code",
   "execution_count": 5,
   "id": "7459af10",
   "metadata": {},
   "outputs": [],
   "source": [
    "# shuffle dataset, set test size as 30% per industry norm\n",
    "# stratify the train-test split based on target variable\n",
    "X_train, X_test, y_train, y_test = train_test_split(X, y,\n",
    "                                                    test_size=0.3,\n",
    "                                                    stratify=y, random_state=42)"
   ]
  },
  {
   "cell_type": "code",
   "execution_count": 6,
   "id": "a5293ef0",
   "metadata": {},
   "outputs": [
    {
     "name": "stdout",
     "output_type": "stream",
     "text": [
      "(2380, 10272)\n",
      "(2380,)\n",
      "(1020, 10272)\n",
      "(1020,)\n"
     ]
    }
   ],
   "source": [
    "print(X_train.shape)\n",
    "print(y_train.shape)\n",
    "print(X_test.shape)\n",
    "print(y_test.shape)"
   ]
  },
  {
   "cell_type": "markdown",
   "id": "0ffbcbe6",
   "metadata": {},
   "source": [
    "## Baseline Model\n",
    "### The baseline accuracy of the null model is 50%. To do better, our model must yield higher accuracy score."
   ]
  },
  {
   "cell_type": "code",
   "execution_count": 7,
   "id": "0d1a8a28",
   "metadata": {},
   "outputs": [
    {
     "data": {
      "text/plain": [
       "0    0.5\n",
       "1    0.5\n",
       "Name: subreddit_class, dtype: float64"
      ]
     },
     "execution_count": 7,
     "metadata": {},
     "output_type": "execute_result"
    }
   ],
   "source": [
    "y_test.value_counts(normalize=True)"
   ]
  },
  {
   "cell_type": "markdown",
   "id": "93a20dcd",
   "metadata": {},
   "source": [
    "## Model using  `Tf-idfVectorizer` and `Naive Bayes`"
   ]
  },
  {
   "cell_type": "markdown",
   "id": "b24f58cb",
   "metadata": {},
   "source": [
    "### Using Bernoulli Naive Bayes to predict classification"
   ]
  },
  {
   "cell_type": "code",
   "execution_count": 8,
   "id": "353e0642",
   "metadata": {},
   "outputs": [
    {
     "name": "stdout",
     "output_type": "stream",
     "text": [
      "BernoulliNB(binarize=True)\n",
      "cv score:  0.5\n",
      "accuracy score:  0.5\n",
      "recall/sensitivity score:  0.0\n"
     ]
    }
   ],
   "source": [
    "# converts X-column data i.e. count frequencies to binary format\n",
    "# values less than or equal to default threshold value = 0.0 is mapped to 0, else to 1. \n",
    "BernNB = BernoulliNB(binarize=True)\n",
    "BernNB.fit(X_train, y_train)\n",
    "print(BernNB)\n",
    "\n",
    "# print cross-validation score\n",
    "print(\"cv score: \", cross_val_score(BernNB, X_train, y_train, cv=5).mean())\n",
    "\n",
    "# predicts y values using BernNB & print accuracy and recall score for prediction on classification\n",
    "y_pred = BernNB.predict(X_test)\n",
    "print(\"accuracy score: \", accuracy_score(y_test, y_pred))\n",
    "print(\"recall/sensitivity score: \", recall_score(y_test, y_pred))"
   ]
  },
  {
   "cell_type": "markdown",
   "id": "e2dff267",
   "metadata": {},
   "source": [
    "### Using Multinomial Naive Bayes to predict classification"
   ]
  },
  {
   "cell_type": "code",
   "execution_count": 9,
   "id": "ec4a2dac",
   "metadata": {
    "scrolled": true
   },
   "outputs": [
    {
     "name": "stdout",
     "output_type": "stream",
     "text": [
      "MultinomialNB()\n",
      "cv score:  0.9512605042016806\n",
      "accuracy score:  0.9519607843137254\n",
      "recall/sensitivity score:  0.9156862745098039\n"
     ]
    }
   ],
   "source": [
    "# fit the model based on train datasets \n",
    "MultiNB = MultinomialNB()\n",
    "MultiNB.fit(X_train, y_train)\n",
    "print(MultiNB)\n",
    "\n",
    "# print cross-validation score\n",
    "print(\"cv score: \", cross_val_score(MultiNB, X_train, y_train, cv=5).mean())\n",
    "\n",
    "# predicts y values using MultinomialNB & print accuracy and recall score\n",
    "y_pred = MultiNB.predict(X_test)\n",
    "print(\"accuracy score: \", accuracy_score(y_test, y_pred))\n",
    "print(\"recall/sensitivity score: \", recall_score(y_test, y_pred))"
   ]
  },
  {
   "cell_type": "markdown",
   "id": "2f64ef93",
   "metadata": {},
   "source": [
    "### Using Gaussian Naive Bayes to predict classification"
   ]
  },
  {
   "cell_type": "code",
   "execution_count": 10,
   "id": "62519848",
   "metadata": {},
   "outputs": [
    {
     "name": "stdout",
     "output_type": "stream",
     "text": [
      "GaussianNB()\n",
      "cv score:  0.8012605042016807\n",
      "accuracy score:  0.7941176470588235\n",
      "recall/sensitivity score:  0.792156862745098\n"
     ]
    }
   ],
   "source": [
    "# fit the model based on train datasets \n",
    "GausNB = GaussianNB()\n",
    "GausNB.fit(X_train, y_train)\n",
    "print(GausNB)\n",
    "\n",
    "# print cross-validation score\n",
    "print(\"cv score: \", cross_val_score(GausNB, X_train, y_train, cv=5).mean())\n",
    "\n",
    "# predicts y values using MultinomialNB & print accuracy and recall score\n",
    "y_pred = GausNB.predict(X_test)\n",
    "print(\"accuracy score: \", accuracy_score(y_test, y_pred))\n",
    "print(\"recall/sensitivity score: \", recall_score(y_test, y_pred))"
   ]
  },
  {
   "cell_type": "markdown",
   "id": "b37a1372",
   "metadata": {},
   "source": [
    "### The Multinomial Naive Bayes model has the best scores among all Naive Bayes models:\n",
    "- **Accuracy score > 0.95** (i.e. > baseline, Gaussian NB and Bernoulli NB); and\n",
    "- **Sensitivity score > 0.91** (i.e. > Gaussian NB and Bernoulli NB)."
   ]
  },
  {
   "cell_type": "markdown",
   "id": "7f5e1bd9",
   "metadata": {},
   "source": [
    "## Model using `Tf-idfVectorizer` and `LogisticRegression`"
   ]
  },
  {
   "cell_type": "code",
   "execution_count": 11,
   "id": "7309637a",
   "metadata": {
    "scrolled": true
   },
   "outputs": [
    {
     "name": "stdout",
     "output_type": "stream",
     "text": [
      "LogisticRegression(random_state=42)\n",
      "cv score:  0.9634453781512604\n",
      "accuracy score:  0.9558823529411765\n",
      "recall/sensitivity score:  0.9647058823529412\n"
     ]
    }
   ],
   "source": [
    "# fit the model based on train datasets \n",
    "logreg = LogisticRegression(random_state=42)\n",
    "logreg.fit(X_train, y_train)\n",
    "print(logreg)\n",
    "\n",
    "# print cross-validation score\n",
    "print(\"cv score: \", cross_val_score(logreg, X_train, y_train, cv=5).mean())\n",
    "\n",
    "# predicts y values using LogisticRegression & print accuracy score\n",
    "y_pred = logreg.predict(X_test)\n",
    "print(\"accuracy score: \", accuracy_score(y_test, y_pred))\n",
    "print(\"recall/sensitivity score: \",  recall_score(y_test, y_pred))"
   ]
  },
  {
   "cell_type": "markdown",
   "id": "e0cb2da8",
   "metadata": {},
   "source": [
    "## Using the Td-idf vectorization method, the Logistic Regression model produces higher accuracy and sensitivity scores than the Multinomial Naive Bayes model. "
   ]
  },
  {
   "cell_type": "code",
   "execution_count": 12,
   "id": "e447f2d3",
   "metadata": {},
   "outputs": [
    {
     "data": {
      "image/png": "[encoded data removed]",
      "text/plain": [
       "<Figure size 720x720 with 2 Axes>"
      ]
     },
     "metadata": {
      "needs_background": "light"
     },
     "output_type": "display_data"
    }
   ],
   "source": [
    "# we proceed to generate confusion matrix for the Logistic Regression model\n",
    "cm = confusion_matrix(y_test, y_pred)\n",
    "\n",
    "# create modified labels for confusion matrix\n",
    "modified_cm = []\n",
    "\n",
    "for index,value in enumerate(cm):\n",
    "    if index == 0:\n",
    "        modified_cm.append(['TN = ' + str(value[0]), 'FP = ' + str(value[1])])\n",
    "    if index == 1:\n",
    "        modified_cm.append(['FN = ' + str(value[0]), 'TP = ' + str(value[1])])   \n",
    "\n",
    "# plot it!\n",
    "plt.figure(figsize=(10,10))\n",
    "ax = sns.heatmap(cm, annot=np.array(modified_cm),\n",
    "            fmt=\"\", annot_kws={\"size\": 20},\n",
    "            linewidths=.5,\n",
    "            square = True,\n",
    "            cmap = 'Blues')\n",
    "\n",
    "plt.title(\"Confusion Matrix for LogisticRegression Model (td-idf)\"+ \"\\n\"\n",
    "          + 'CV Score: {0:.5f}'.format(cross_val_score(logreg, X_train, y_train, cv=5).mean()) + \"\\n\"\n",
    "          + 'Accuracy Score: {0:.5f}'.format(accuracy_score(y_test, y_pred)) + \"\\n\"\n",
    "          + 'Recall Score: {0:.5f}'.format(recall_score(y_test, y_pred)), \n",
    "          size = 18) \n",
    "plt.ylabel('Actual subreddit', fontsize = 17)\n",
    "plt.xlabel('Predicted subreddit', fontsize = 17)\n",
    "ax.set_xticklabels([\"r/CryptoCurrency\", \"r/stocks\"], fontsize = 14)\n",
    "ax.set_yticklabels([\"r/CryptoCurrency\", \"r/stocks\"], fontsize = 14, rotation = 0)\n",
    "\n",
    "plt.savefig('../image/tfidf-cm.png');"
   ]
  }
 ],
 "metadata": {
  "kernelspec": {
   "display_name": "Python 3",
   "language": "python",
   "name": "python3"
  },
  "language_info": {
   "codemirror_mode": {
    "name": "ipython",
    "version": 3
   },
   "file_extension": ".py",
   "mimetype": "text/x-python",
   "name": "python",
   "nbconvert_exporter": "python",
   "pygments_lexer": "ipython3",
   "version": "3.8.8"
  }
 },
 "nbformat": 4,
 "nbformat_minor": 5
}
