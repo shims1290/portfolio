{
 "cells": [
  {
   "cell_type": "markdown",
   "id": "84e6a2a8",
   "metadata": {},
   "source": [
    "<img src=\"http://imgur.com/1ZcRyrc.png\" style=\"float: left; margin: 20px; height: 55px\">\n",
    "\n",
    "# Project 3 - Web APIs & NLP"
   ]
  },
  {
   "cell_type": "markdown",
   "id": "4435b964",
   "metadata": {},
   "source": [
    "# 06_Model Evaluation, Findings & Recommendations"
   ]
  },
  {
   "cell_type": "markdown",
   "id": "d1419995",
   "metadata": {},
   "source": [
    "## Importing Libraries"
   ]
  },
  {
   "cell_type": "code",
   "execution_count": 1,
   "id": "76f993f9",
   "metadata": {},
   "outputs": [],
   "source": [
    "import pandas as pd\n",
    "import numpy as np\n",
    "import matplotlib.pyplot as plt\n",
    "import seaborn as sns\n",
    "\n",
    "from sklearn.linear_model import LogisticRegression\n",
    "from sklearn.naive_bayes import MultinomialNB\n",
    "from sklearn.pipeline import Pipeline\n",
    "from sklearn.model_selection import train_test_split, GridSearchCV\n",
    "from sklearn.feature_extraction.text import TfidfVectorizer\n",
    "from sklearn.compose import ColumnTransformer\n",
    "\n",
    "import re\n",
    "import string\n",
    "import nltk\n",
    "stopwords = nltk.corpus.stopwords.words(\"english\")\n",
    "wn = nltk.WordNetLemmatizer()\n",
    "\n",
    "from sklearn import metrics\n",
    "from sklearn.metrics import classification_report\n",
    "from sklearn.metrics import confusion_matrix, plot_confusion_matrix\n",
    "from sklearn.metrics import precision_score, recall_score, accuracy_score"
   ]
  },
  {
   "cell_type": "markdown",
   "id": "ebe1d4a1",
   "metadata": {},
   "source": [
    "## Model Selection"
   ]
  },
  {
   "cell_type": "markdown",
   "id": "af4a0887",
   "metadata": {},
   "source": [
    "## Recap: Model Scores"
   ]
  },
  {
   "cell_type": "markdown",
   "id": "863ec939",
   "metadata": {},
   "source": [
    "\n",
    "\n",
    "\n",
    "LogReg x Count             |  LogReg x Tf-idf\n",
    ":-------------------------:|:-------------------------:\n",
    "<img src=\"../image/count_cm.png\" style=\"width:40em\" /> | <img src=\"../image/tfidf-cm.png\" style=\"width:40em\" />"
   ]
  },
  {
   "cell_type": "markdown",
   "id": "ab877d8c",
   "metadata": {},
   "source": [
    "### Based on above, the logistic regression model with tf-idf vectorization yields better results as: \n",
    "\n",
    "- It has a higher recall score (0.964, compared to 0.959) and fewer false negatives (18, compared to 21)\n",
    "- While the accuracy score of the `LogReg x Count` model is higher, its cross validation (CV) score is lower. This suggests that the accuracy score will be higher on average if we go with the `LogReg x Tf-idf model`.\n",
    "\n",
    "### Given these, we proceed with the `LogReg x Tf-idf` model."
   ]
  },
  {
   "cell_type": "markdown",
   "id": "7f46c589",
   "metadata": {},
   "source": [
    "## Model Hyperparameter Tuning \n",
    "Now that we have chosen the model and the vectorization method, we can proceed to tune the hyperparameters for even better model performance."
   ]
  },
  {
   "cell_type": "markdown",
   "id": "ca45aac0",
   "metadata": {},
   "source": [
    "### Import Data "
   ]
  },
  {
   "cell_type": "code",
   "execution_count": 2,
   "id": "d72a5d03",
   "metadata": {},
   "outputs": [],
   "source": [
    "data_1 = pd.read_csv(\"../data/vectorized/tfidf.csv\")"
   ]
  },
  {
   "cell_type": "code",
   "execution_count": 3,
   "id": "ecf15b50",
   "metadata": {},
   "outputs": [
    {
     "data": {
      "text/html": [
       "<div>\n",
       "<style scoped>\n",
       "    .dataframe tbody tr th:only-of-type {\n",
       "        vertical-align: middle;\n",
       "    }\n",
       "\n",
       "    .dataframe tbody tr th {\n",
       "        vertical-align: top;\n",
       "    }\n",
       "\n",
       "    .dataframe thead th {\n",
       "        text-align: right;\n",
       "    }\n",
       "</style>\n",
       "<table border=\"1\" class=\"dataframe\">\n",
       "  <thead>\n",
       "    <tr style=\"text-align: right;\">\n",
       "      <th></th>\n",
       "      <th>subreddit_class</th>\n",
       "      <th>text</th>\n",
       "    </tr>\n",
       "  </thead>\n",
       "  <tbody>\n",
       "    <tr>\n",
       "      <th>0</th>\n",
       "      <td>stocks</td>\n",
       "      <td>Advise on Long Term Stock? I am earning very l...</td>\n",
       "    </tr>\n",
       "    <tr>\n",
       "      <th>1</th>\n",
       "      <td>stocks</td>\n",
       "      <td>Dad told me to sell on Monday when the market ...</td>\n",
       "    </tr>\n",
       "    <tr>\n",
       "      <th>2</th>\n",
       "      <td>stocks</td>\n",
       "      <td>Merger/accusation question about a game co. An...</td>\n",
       "    </tr>\n",
       "    <tr>\n",
       "      <th>3</th>\n",
       "      <td>stocks</td>\n",
       "      <td>Best Software to Track Trades and Create Repor...</td>\n",
       "    </tr>\n",
       "    <tr>\n",
       "      <th>4</th>\n",
       "      <td>stocks</td>\n",
       "      <td>After Driving My Friends Tesla, Here Are My Th...</td>\n",
       "    </tr>\n",
       "  </tbody>\n",
       "</table>\n",
       "</div>"
      ],
      "text/plain": [
       "  subreddit_class                                               text\n",
       "0          stocks  Advise on Long Term Stock? I am earning very l...\n",
       "1          stocks  Dad told me to sell on Monday when the market ...\n",
       "2          stocks  Merger/accusation question about a game co. An...\n",
       "3          stocks  Best Software to Track Trades and Create Repor...\n",
       "4          stocks  After Driving My Friends Tesla, Here Are My Th..."
      ]
     },
     "execution_count": 3,
     "metadata": {},
     "output_type": "execute_result"
    }
   ],
   "source": [
    "# create dataframe with only relevant columns for modelling\n",
    "data = data_1[[\"subreddit_class\", \"text\"]]\n",
    "data.head()"
   ]
  },
  {
   "cell_type": "markdown",
   "id": "4bcde516",
   "metadata": {},
   "source": [
    "### Pre-processing: Dummification of target variable "
   ]
  },
  {
   "cell_type": "code",
   "execution_count": 4,
   "id": "2889b975",
   "metadata": {},
   "outputs": [
    {
     "name": "stderr",
     "output_type": "stream",
     "text": [
      "<ipython-input-4-93913a3f4e9f>:3: SettingWithCopyWarning: \n",
      "A value is trying to be set on a copy of a slice from a DataFrame.\n",
      "Try using .loc[row_indexer,col_indexer] = value instead\n",
      "\n",
      "See the caveats in the documentation: https://pandas.pydata.org/pandas-docs/stable/user_guide/indexing.html#returning-a-view-versus-a-copy\n",
      "  data[\"subreddit_class\"] = data[\"subreddit_class\"].map(dummify);\n"
     ]
    },
    {
     "data": {
      "text/plain": [
       "0    1700\n",
       "1    1700\n",
       "Name: subreddit_class, dtype: int64"
      ]
     },
     "execution_count": 4,
     "metadata": {},
     "output_type": "execute_result"
    }
   ],
   "source": [
    "# dummify target variable: 1 = stocks, 0 = cryptocurrency\n",
    "dummify = {\"stocks\":1, \"CryptoCurrency\":0}\n",
    "data[\"subreddit_class\"] = data[\"subreddit_class\"].map(dummify);\n",
    "data[\"subreddit_class\"].value_counts()"
   ]
  },
  {
   "cell_type": "markdown",
   "id": "a027e083",
   "metadata": {},
   "source": [
    "### Setting up the IVs and DV for modelling"
   ]
  },
  {
   "cell_type": "code",
   "execution_count": 5,
   "id": "87f8f7ca",
   "metadata": {},
   "outputs": [
    {
     "name": "stdout",
     "output_type": "stream",
     "text": [
      "(3400,)\n",
      "(3400,)\n"
     ]
    }
   ],
   "source": [
    "# we exclude the hours_dummy feature from our model as we do not want to vectorise these fields \n",
    "X = data[\"text\"]\n",
    "y = data[\"subreddit_class\"]\n",
    "print(X.shape)\n",
    "print(y.shape)"
   ]
  },
  {
   "cell_type": "markdown",
   "id": "a6b80c68",
   "metadata": {},
   "source": [
    "### Train-Test Split"
   ]
  },
  {
   "cell_type": "code",
   "execution_count": 6,
   "id": "7459af10",
   "metadata": {},
   "outputs": [],
   "source": [
    "# shuffle dataset, set test size as 30% per industry norm\n",
    "# stratify the train-test split based on target variable\n",
    "X_train, X_test, y_train, y_test = train_test_split(X, y,\n",
    "                                                    test_size=0.3,\n",
    "                                                    stratify=y, random_state=42)"
   ]
  },
  {
   "cell_type": "code",
   "execution_count": 7,
   "id": "a5293ef0",
   "metadata": {},
   "outputs": [
    {
     "name": "stdout",
     "output_type": "stream",
     "text": [
      "(2380,)\n",
      "(2380,)\n",
      "(1020,)\n",
      "(1020,)\n"
     ]
    }
   ],
   "source": [
    "print(X_train.shape)\n",
    "print(y_train.shape)\n",
    "print(X_test.shape)\n",
    "print(y_test.shape)"
   ]
  },
  {
   "cell_type": "markdown",
   "id": "c3040999",
   "metadata": {},
   "source": [
    "### Pre-processing: Clean, remove punctuations/stopwords, tokenize and lemmatize "
   ]
  },
  {
   "cell_type": "code",
   "execution_count": 8,
   "id": "ec1ccd23",
   "metadata": {},
   "outputs": [],
   "source": [
    "# define function to clean the original text \n",
    "def clean_text(text):\n",
    "    \n",
    "    # remove unicode characters \n",
    "    text = text.encode('ascii', 'ignore').decode()\n",
    "    \n",
    "    # remove references to subreddits, e.g. \"r/\"WallStreetBets, numbers and http links\n",
    "    text= re.sub(r\"r/\", \"\", text)\n",
    "    text = re.sub(r\"\\w*\\d+\\w*\", \"\", text)\n",
    "    text= re.sub(r\"http\\S+\", \"\", text)\n",
    "\n",
    "    # remove punctuations, tokenize, remove stopwords and lemmatize \n",
    "    ## we use lemmatization instead of stemming as it tends to be more accurate\n",
    "    text = \"\".join([word.lower() for word in text if word not in string.punctuation])\n",
    "    tokens = re.split('\\W+', text) \n",
    "    text = [wn.lemmatize(word) for word in tokens if word not in stopwords]\n",
    "\n",
    "    return text"
   ]
  },
  {
   "cell_type": "markdown",
   "id": "9028e668",
   "metadata": {},
   "source": [
    "### Hyperparameter Tuning using GridSearchCV"
   ]
  },
  {
   "cell_type": "code",
   "execution_count": 9,
   "id": "2d937577",
   "metadata": {},
   "outputs": [],
   "source": [
    "# set a pipeline up with two stages:\n",
    "# 1. Tf-idfVectorizer (transformer)\n",
    "# 2. Logistic Regression (estimator)\n",
    "\n",
    "pipe = Pipeline([\n",
    "    ('tf_idf', TfidfVectorizer(analyzer=clean_text)),\n",
    "    ('logreg', LogisticRegression(max_iter=10_000))\n",
    "])"
   ]
  },
  {
   "cell_type": "code",
   "execution_count": 10,
   "id": "c76640d5",
   "metadata": {},
   "outputs": [],
   "source": [
    "# use GridCV to search over the following values of hyperparameters:\n",
    "# Maximum number of features fit: 4000, 5000, 6_000\n",
    "# Minimum number of documents needed to include token: 1, 2, 3\n",
    "# Maximum number of documents needed to include token: 70%, 75%, 80%, 85%, 90%\n",
    "# Check (individual tokens) and also check (individual tokens and 2-grams).\n",
    "\n",
    "pipe_params = {\n",
    "    'tf_idf__max_features': [4_000, 5_000, 6_000],\n",
    "    'tf_idf__min_df': [1, 2, 3],\n",
    "    'tf_idf__max_df': [.7, .75, .8, .85,.9, .95],\n",
    "}\n",
    "\n",
    "# Instantiate GridSearchCV.\n",
    "gs = GridSearchCV(pipe, \n",
    "                  param_grid=pipe_params, \n",
    "                  cv=5) # 5-fold cross-validation."
   ]
  },
  {
   "cell_type": "code",
   "execution_count": 11,
   "id": "1026abc1",
   "metadata": {},
   "outputs": [
    {
     "data": {
      "text/plain": [
       "GridSearchCV(cv=5,\n",
       "             estimator=Pipeline(steps=[('tf_idf',\n",
       "                                        TfidfVectorizer(analyzer=<function clean_text at 0x000001D42C7D00D0>)),\n",
       "                                       ('logreg',\n",
       "                                        LogisticRegression(max_iter=10000))]),\n",
       "             param_grid={'tf_idf__max_df': [0.7, 0.75, 0.8, 0.85, 0.9, 0.95],\n",
       "                         'tf_idf__max_features': [4000, 5000, 6000],\n",
       "                         'tf_idf__min_df': [1, 2, 3]})"
      ]
     },
     "execution_count": 11,
     "metadata": {},
     "output_type": "execute_result"
    }
   ],
   "source": [
    "# fit GridSearch to training data\n",
    "gs.fit(X_train, y_train)"
   ]
  },
  {
   "cell_type": "code",
   "execution_count": 12,
   "id": "96543d01",
   "metadata": {},
   "outputs": [
    {
     "name": "stdout",
     "output_type": "stream",
     "text": [
      "mean cv score of the best estimator:  0.9634453781512604\n",
      "accuracy score on train set:  0.9882352941176471\n",
      "accuracy score on test set:  0.961764705882353\n"
     ]
    }
   ],
   "source": [
    "# mean cross-validated score of the best_estimator\n",
    "print(\"mean cv score of the best estimator: \", gs.best_score_) \n",
    "\n",
    "# score model on training set\n",
    "print(\"accuracy score on train set: \", gs.score(X_train, y_train))\n",
    "\n",
    "# score model on testing set\n",
    "print(\"accuracy score on test set: \", gs.score(X_test, y_test))"
   ]
  },
  {
   "cell_type": "code",
   "execution_count": 13,
   "id": "2d8205fd",
   "metadata": {},
   "outputs": [
    {
     "data": {
      "text/plain": [
       "{'tf_idf__max_df': 0.7, 'tf_idf__max_features': 5000, 'tf_idf__min_df': 3}"
      ]
     },
     "execution_count": 13,
     "metadata": {},
     "output_type": "execute_result"
    }
   ],
   "source": [
    "# find out what's the best parameters for tf-idf vectorization\n",
    "gs.best_params_"
   ]
  },
  {
   "cell_type": "markdown",
   "id": "9969002f",
   "metadata": {},
   "source": [
    "### Model fitting on the best parameters for vectorization"
   ]
  },
  {
   "cell_type": "code",
   "execution_count": 14,
   "id": "040edcb3",
   "metadata": {},
   "outputs": [],
   "source": [
    "# instantiate a TF-IDFVectorizer, include clean_text function as the analyzer\n",
    "# apply optimal settings based on GridSearchCV\n",
    "tfidf_vect = TfidfVectorizer(analyzer=clean_text, min_df=3, max_df=0.7, max_features=5_000)\n",
    "X_tfidf = tfidf_vect.fit_transform(data['text'])"
   ]
  },
  {
   "cell_type": "code",
   "execution_count": 15,
   "id": "fae5704c",
   "metadata": {},
   "outputs": [
    {
     "data": {
      "text/html": [
       "<div>\n",
       "<style scoped>\n",
       "    .dataframe tbody tr th:only-of-type {\n",
       "        vertical-align: middle;\n",
       "    }\n",
       "\n",
       "    .dataframe tbody tr th {\n",
       "        vertical-align: top;\n",
       "    }\n",
       "\n",
       "    .dataframe thead th {\n",
       "        text-align: right;\n",
       "    }\n",
       "</style>\n",
       "<table border=\"1\" class=\"dataframe\">\n",
       "  <thead>\n",
       "    <tr style=\"text-align: right;\">\n",
       "      <th></th>\n",
       "      <th></th>\n",
       "      <th>aaii</th>\n",
       "      <th>aapl</th>\n",
       "      <th>aave</th>\n",
       "      <th>abandoned</th>\n",
       "      <th>abc</th>\n",
       "      <th>ability</th>\n",
       "      <th>able</th>\n",
       "      <th>aboard</th>\n",
       "      <th>abroad</th>\n",
       "      <th>...</th>\n",
       "      <th>ytd</th>\n",
       "      <th>yuan</th>\n",
       "      <th>yup</th>\n",
       "      <th>z</th>\n",
       "      <th>zacks</th>\n",
       "      <th>zealand</th>\n",
       "      <th>zen</th>\n",
       "      <th>zero</th>\n",
       "      <th>zoom</th>\n",
       "      <th>zscaler</th>\n",
       "    </tr>\n",
       "  </thead>\n",
       "  <tbody>\n",
       "    <tr>\n",
       "      <th>0</th>\n",
       "      <td>0.0</td>\n",
       "      <td>0.0</td>\n",
       "      <td>0.000000</td>\n",
       "      <td>0.0</td>\n",
       "      <td>0.0</td>\n",
       "      <td>0.0</td>\n",
       "      <td>0.0</td>\n",
       "      <td>0.0</td>\n",
       "      <td>0.0</td>\n",
       "      <td>0.0</td>\n",
       "      <td>...</td>\n",
       "      <td>0.0</td>\n",
       "      <td>0.0</td>\n",
       "      <td>0.0</td>\n",
       "      <td>0.0</td>\n",
       "      <td>0.0</td>\n",
       "      <td>0.0</td>\n",
       "      <td>0.0</td>\n",
       "      <td>0.0</td>\n",
       "      <td>0.0</td>\n",
       "      <td>0.0</td>\n",
       "    </tr>\n",
       "    <tr>\n",
       "      <th>1</th>\n",
       "      <td>0.0</td>\n",
       "      <td>0.0</td>\n",
       "      <td>0.482017</td>\n",
       "      <td>0.0</td>\n",
       "      <td>0.0</td>\n",
       "      <td>0.0</td>\n",
       "      <td>0.0</td>\n",
       "      <td>0.0</td>\n",
       "      <td>0.0</td>\n",
       "      <td>0.0</td>\n",
       "      <td>...</td>\n",
       "      <td>0.0</td>\n",
       "      <td>0.0</td>\n",
       "      <td>0.0</td>\n",
       "      <td>0.0</td>\n",
       "      <td>0.0</td>\n",
       "      <td>0.0</td>\n",
       "      <td>0.0</td>\n",
       "      <td>0.0</td>\n",
       "      <td>0.0</td>\n",
       "      <td>0.0</td>\n",
       "    </tr>\n",
       "    <tr>\n",
       "      <th>2</th>\n",
       "      <td>0.0</td>\n",
       "      <td>0.0</td>\n",
       "      <td>0.000000</td>\n",
       "      <td>0.0</td>\n",
       "      <td>0.0</td>\n",
       "      <td>0.0</td>\n",
       "      <td>0.0</td>\n",
       "      <td>0.0</td>\n",
       "      <td>0.0</td>\n",
       "      <td>0.0</td>\n",
       "      <td>...</td>\n",
       "      <td>0.0</td>\n",
       "      <td>0.0</td>\n",
       "      <td>0.0</td>\n",
       "      <td>0.0</td>\n",
       "      <td>0.0</td>\n",
       "      <td>0.0</td>\n",
       "      <td>0.0</td>\n",
       "      <td>0.0</td>\n",
       "      <td>0.0</td>\n",
       "      <td>0.0</td>\n",
       "    </tr>\n",
       "    <tr>\n",
       "      <th>3</th>\n",
       "      <td>0.0</td>\n",
       "      <td>0.0</td>\n",
       "      <td>0.000000</td>\n",
       "      <td>0.0</td>\n",
       "      <td>0.0</td>\n",
       "      <td>0.0</td>\n",
       "      <td>0.0</td>\n",
       "      <td>0.0</td>\n",
       "      <td>0.0</td>\n",
       "      <td>0.0</td>\n",
       "      <td>...</td>\n",
       "      <td>0.0</td>\n",
       "      <td>0.0</td>\n",
       "      <td>0.0</td>\n",
       "      <td>0.0</td>\n",
       "      <td>0.0</td>\n",
       "      <td>0.0</td>\n",
       "      <td>0.0</td>\n",
       "      <td>0.0</td>\n",
       "      <td>0.0</td>\n",
       "      <td>0.0</td>\n",
       "    </tr>\n",
       "    <tr>\n",
       "      <th>4</th>\n",
       "      <td>0.0</td>\n",
       "      <td>0.0</td>\n",
       "      <td>0.000000</td>\n",
       "      <td>0.0</td>\n",
       "      <td>0.0</td>\n",
       "      <td>0.0</td>\n",
       "      <td>0.0</td>\n",
       "      <td>0.0</td>\n",
       "      <td>0.0</td>\n",
       "      <td>0.0</td>\n",
       "      <td>...</td>\n",
       "      <td>0.0</td>\n",
       "      <td>0.0</td>\n",
       "      <td>0.0</td>\n",
       "      <td>0.0</td>\n",
       "      <td>0.0</td>\n",
       "      <td>0.0</td>\n",
       "      <td>0.0</td>\n",
       "      <td>0.0</td>\n",
       "      <td>0.0</td>\n",
       "      <td>0.0</td>\n",
       "    </tr>\n",
       "  </tbody>\n",
       "</table>\n",
       "<p>5 rows × 5000 columns</p>\n",
       "</div>"
      ],
      "text/plain": [
       "        aaii      aapl  aave  abandoned  abc  ability  able  aboard  abroad  \\\n",
       "0  0.0   0.0  0.000000   0.0        0.0  0.0      0.0   0.0     0.0     0.0   \n",
       "1  0.0   0.0  0.482017   0.0        0.0  0.0      0.0   0.0     0.0     0.0   \n",
       "2  0.0   0.0  0.000000   0.0        0.0  0.0      0.0   0.0     0.0     0.0   \n",
       "3  0.0   0.0  0.000000   0.0        0.0  0.0      0.0   0.0     0.0     0.0   \n",
       "4  0.0   0.0  0.000000   0.0        0.0  0.0      0.0   0.0     0.0     0.0   \n",
       "\n",
       "   ...  ytd  yuan  yup    z  zacks  zealand  zen  zero  zoom  zscaler  \n",
       "0  ...  0.0   0.0  0.0  0.0    0.0      0.0  0.0   0.0   0.0      0.0  \n",
       "1  ...  0.0   0.0  0.0  0.0    0.0      0.0  0.0   0.0   0.0      0.0  \n",
       "2  ...  0.0   0.0  0.0  0.0    0.0      0.0  0.0   0.0   0.0      0.0  \n",
       "3  ...  0.0   0.0  0.0  0.0    0.0      0.0  0.0   0.0   0.0      0.0  \n",
       "4  ...  0.0   0.0  0.0  0.0    0.0      0.0  0.0   0.0   0.0      0.0  \n",
       "\n",
       "[5 rows x 5000 columns]"
      ]
     },
     "execution_count": 15,
     "metadata": {},
     "output_type": "execute_result"
    }
   ],
   "source": [
    "# we expand sparse matrix out to a collection of arrays and store it in a data frame\n",
    "tfidf_df = pd.DataFrame(X_tfidf.toarray())\n",
    "tfidf_df.columns = tfidf_vect.get_feature_names()\n",
    "tfidf_df.head()"
   ]
  },
  {
   "cell_type": "code",
   "execution_count": 16,
   "id": "7ad4ebb5",
   "metadata": {},
   "outputs": [
    {
     "name": "stdout",
     "output_type": "stream",
     "text": [
      "(3400, 5000)\n",
      "(3400,)\n"
     ]
    }
   ],
   "source": [
    "# setting up the IVs and DV for modelling\n",
    "X = tfidf_df\n",
    "y = data[\"subreddit_class\"]\n",
    "print(X.shape)\n",
    "print(y.shape)"
   ]
  },
  {
   "cell_type": "code",
   "execution_count": 17,
   "id": "49338a72",
   "metadata": {},
   "outputs": [],
   "source": [
    "# shuffle dataset, set test size as 30% per industry norm\n",
    "# stratify the train-test split based on target variable \n",
    "X_train, X_test, y_train, y_test = train_test_split(X, y,\n",
    "                                                    test_size=0.3,\n",
    "                                                    stratify=y, random_state=42)"
   ]
  },
  {
   "cell_type": "code",
   "execution_count": 18,
   "id": "a9513de3",
   "metadata": {},
   "outputs": [
    {
     "name": "stdout",
     "output_type": "stream",
     "text": [
      "LogisticRegression(max_iter=10000, penalty='l1', random_state=42,\n",
      "                   solver='liblinear')\n",
      "--------------------------------------------------\n",
      "train accuracy score:  0.9525210084033613\n",
      "test accuracy score:  0.95\n",
      "recall/sensitivity score:  0.9803921568627451\n"
     ]
    }
   ],
   "source": [
    "# fit the model based on train data\n",
    "# set hyperparameters for LogisticRegression \n",
    "# apply l1 penalty as it produces better scores than l2 penalty \n",
    "# use liblinear solver (good for small dataset)\n",
    "\n",
    "logreg = LogisticRegression(max_iter=10_000, penalty='l1', solver='liblinear', random_state=42)\n",
    "logreg.fit(X_train, y_train)\n",
    "print(logreg)\n",
    "print(\"-\"*50)\n",
    "\n",
    "# predicts y values using LogisticRegression & print accuracy score\n",
    "y_pred = logreg.predict(X_test)\n",
    "print(\"train accuracy score: \", logreg.score(X_train, y_train))\n",
    "print(\"test accuracy score: \", accuracy_score(y_test, y_pred))\n",
    "print(\"recall/sensitivity score: \",  recall_score(y_test, y_pred))"
   ]
  },
  {
   "cell_type": "markdown",
   "id": "7f270847",
   "metadata": {},
   "source": [
    "## Model Evaluation"
   ]
  },
  {
   "cell_type": "markdown",
   "id": "e8a8c820",
   "metadata": {},
   "source": [
    "### The model performance is strong with 95% accuracy score (higher than 50% for the baseline model) and a relatively high recall or sensitive score of 98%.\n",
    "\n",
    "- 95% accuracy score: This means out of 100 subreddit posts, the model makes an accurate prediction for 95 posts. \n",
    "- 98% sensitivity score: This means that when the model is given 100 r/stocks subreddits, it is able to correctly label 98 posts as belonging to r/stocks (i.e. low classification error for posts that truly belong to the subreddit of interest)."
   ]
  },
  {
   "cell_type": "code",
   "execution_count": 19,
   "id": "98cee046",
   "metadata": {
    "scrolled": true
   },
   "outputs": [
    {
     "name": "stdout",
     "output_type": "stream",
     "text": [
      "              precision    recall  f1-score   support\n",
      "\n",
      "           0       0.98      0.92      0.95       510\n",
      "           1       0.92      0.98      0.95       510\n",
      "\n",
      "    accuracy                           0.95      1020\n",
      "   macro avg       0.95      0.95      0.95      1020\n",
      "weighted avg       0.95      0.95      0.95      1020\n",
      "\n"
     ]
    }
   ],
   "source": [
    "# generate classification report\n",
    "print(classification_report(y_test, y_pred))"
   ]
  },
  {
   "cell_type": "markdown",
   "id": "b4c8f994",
   "metadata": {},
   "source": [
    "#### Recap on Classification Metrics Formula\n",
    "* Accuracy = True Predictions / Total Predictions\n",
    "* Precision = True Positives / (True Positives + False Positives)\n",
    "* Recall = True Positives / (True Positives + False Negatives)\n",
    "* F1-Score  = Weighted Average of Precision and Recall\n",
    "    * Offers a better overall measure of performance\n",
    "* Support = True Positives (or True Negatives) that lie in that class"
   ]
  },
  {
   "cell_type": "markdown",
   "id": "2ab5c5a3",
   "metadata": {},
   "source": [
    "### The confusion matrix below provides a more granular visualization of the model outcome:\n",
    "Out of 1,020 observations (i.e. subreddit posts), the model yielded:\n",
    "- 469 True Negatives (actual Crypto posts labelled (or predicted) under r/CryptoCurrency)\n",
    "- 41 False Negatives (actual Crypto posts labelled under r/stocks)\n",
    "- 500 True Positives (actual stocks posts labelled under r/stocks)\n",
    "- 10 False Positives (actual stocks posts labelled under r/CryptoCurrency)\n",
    "\n",
    "This is encouraging as the number of false positives is relatively low (~2% chance of misclassification)."
   ]
  },
  {
   "cell_type": "code",
   "execution_count": 20,
   "id": "14ce9452",
   "metadata": {},
   "outputs": [
    {
     "data": {
      "image/png": "[encoded data removed]",
      "text/plain": [
       "<Figure size 720x720 with 2 Axes>"
      ]
     },
     "metadata": {
      "needs_background": "light"
     },
     "output_type": "display_data"
    }
   ],
   "source": [
    "# generate confusion matrix\n",
    "cm = confusion_matrix(y_test, y_pred)\n",
    "\n",
    "# create modified labels for confusion matrix\n",
    "modified_cm = []\n",
    "\n",
    "for index,value in enumerate(cm):\n",
    "    if index == 0:\n",
    "        modified_cm.append(['TN = ' + str(value[0]), 'FP = ' + str(value[1])])\n",
    "    if index == 1:\n",
    "        modified_cm.append(['FN = ' + str(value[0]), 'TP = ' + str(value[1])])   \n",
    "\n",
    "# plot it!\n",
    "plt.figure(figsize=(10,10))\n",
    "ax = sns.heatmap(cm, annot=np.array(modified_cm),\n",
    "            fmt=\"\", annot_kws={\"size\": 20},\n",
    "            linewidths=.5,\n",
    "            square = True,\n",
    "            cmap = 'Blues')\n",
    "\n",
    "plt.title(\"Confusion Matrix for Logistic Regression Model (TF-IDF)\"+ \"\\n\"\n",
    "          + 'Accuracy Score: {0:.5f}'.format(accuracy_score(y_test, y_pred)) + \"\\n\"\n",
    "          + 'Recall Score: {0:.5f}'.format(recall_score(y_test, y_pred)), \n",
    "          size = 18)\n",
    "plt.ylabel('Actual subreddit', fontsize = 17)\n",
    "plt.xlabel('Predicted subreddit', fontsize = 17)\n",
    "ax.set_xticklabels([\"r/CryptoCurrency\", \"r/stocks\"], fontsize = 14)\n",
    "ax.set_yticklabels([\"r/CryptoCurrency\", \"r/stocks\"], fontsize = 14, rotation = 0);"
   ]
  },
  {
   "cell_type": "markdown",
   "id": "9565832a",
   "metadata": {},
   "source": [
    "## Findings"
   ]
  },
  {
   "cell_type": "markdown",
   "id": "d5ef2278",
   "metadata": {},
   "source": [
    "We can obtain further insights and findings by drawing a bar plot to spotlight the features (i.e. words) that are among the strong predictors for the classification/ labelling exercise. This allows us to learn what are the keywords that are most helpful in identifying the membership of a post to the subreddit of interest."
   ]
  },
  {
   "cell_type": "markdown",
   "id": "ba6b25e9",
   "metadata": {},
   "source": [
    "### We can capitalise on the model findings to share top \"keywords\" with the moderators from the large subreddit communities so that they can use the AutoModerator bot to set posting rules. \n",
    "\n",
    "For example, they can:\n",
    "- Require all posts in r/stocks to include either \"stocks\", \"company\" or \"share\" (top 3 keywords) and/or\n",
    "- Restrict r/stocks members from posting contents with reference to \"crypto\", \"coin\" (top keywords not related to r/stocks community)"
   ]
  },
  {
   "cell_type": "code",
   "execution_count": 21,
   "id": "ae5a65e3",
   "metadata": {
    "scrolled": true
   },
   "outputs": [],
   "source": [
    "# flatten the coefficients into a single array\n",
    "coef_array = np.ravel(logreg.coef_)\n",
    "\n",
    "# zip the feature names and coefficients for attribution and store data in data frame\n",
    "coef = list(zip(tfidf_df.columns, coef_array))\n",
    "coef_df = pd.DataFrame(coef, columns=[\"word\",\"coefficient\"])\n",
    "\n",
    "# create a new column to measure magnitude/ size of coefficients without considering whether it is +ve/-ve\n",
    "coef_df[\"abs_coefficient\"] = abs(coef_df[\"coefficient\"])\n",
    "coef_df.set_index(\"word\", inplace=True)"
   ]
  },
  {
   "cell_type": "code",
   "execution_count": 22,
   "id": "f22725e7",
   "metadata": {
    "scrolled": false
   },
   "outputs": [
    {
     "data": {
      "image/png": "[encoded data removed]",
      "text/plain": [
       "<Figure size 1080x504 with 1 Axes>"
      ]
     },
     "metadata": {
      "needs_background": "light"
     },
     "output_type": "display_data"
    }
   ],
   "source": [
    "plt.title(\"Keywords for the classification exercise\", fontsize=15)\n",
    "coef_df.sort_values(by=[\"abs_coefficient\"], ascending=False)[\"coefficient\"].head(20).plot.bar(figsize=(15, 7))\n",
    "plt.ylabel(\"magnitude of coefficients\");"
   ]
  },
  {
   "cell_type": "code",
   "execution_count": 23,
   "id": "d9913917",
   "metadata": {},
   "outputs": [
    {
     "data": {
      "image/png": "[encoded data removed]",
      "text/plain": [
       "<Figure size 1080x504 with 1 Axes>"
      ]
     },
     "metadata": {
      "needs_background": "light"
     },
     "output_type": "display_data"
    }
   ],
   "source": [
    "plt.title(\"Top 20 keywords in r/stocks\", fontsize=15)\n",
    "coef_df[\"coefficient\"].sort_values(ascending=False).head(20).plot.bar(figsize=(15, 7))\n",
    "plt.ylabel(\"magnitude of coefficients\");"
   ]
  },
  {
   "cell_type": "code",
   "execution_count": 24,
   "id": "df514644",
   "metadata": {},
   "outputs": [
    {
     "data": {
      "image/png": "[encoded data removed]",
      "text/plain": [
       "<Figure size 1080x504 with 1 Axes>"
      ]
     },
     "metadata": {
      "needs_background": "light"
     },
     "output_type": "display_data"
    }
   ],
   "source": [
    "plt.title(\"Top 20 keywords in r/CryptoCurrency\", fontsize=15)\n",
    "coef_df[\"coefficient\"].sort_values().head(20).plot.bar(figsize=(15, 7))\n",
    "plt.ylabel(\"magnitude of coefficients\");"
   ]
  },
  {
   "cell_type": "markdown",
   "id": "be24cec3",
   "metadata": {},
   "source": [
    "## Recommendations\n",
    "\n",
    "1) **Deploy the model for testing with live data** to optimise contents for relevance. Given the strong performance of the model (95% accuracy score and 98% sensitivity score), the team can stand to benefit from deploying the model for pilot testing on the reddit platform.  \n",
    "\n",
    "2) **Flag posts classified as irrelevant for moderators' assessment**. There is a risk of incurring user frustrations if the subreddit members' relevant posts become removed as a result of the model misclassification. To minimize wrongful post(s) removal, we can instead use the model's recommendation to flag possibly misclassified posts for the moderators' consideration. This will help the moderators save time as they do not need to closely screen all the posts; they can just focus on reviewing the posts that the model has flagged. \n",
    "\n",
    "3) **Share keywords insights with the moderators**. This can help moderators set rules for content posting using the AutoModerator to ensure irrelevant topics will not be posted within the community. "
   ]
  },
  {
   "cell_type": "markdown",
   "id": "cb2a578d",
   "metadata": {},
   "source": [
    "### Next Steps\n",
    "\n",
    "In future, the team can extend on this project to:\n",
    "\n",
    "- Collect data samples across a longer time (e.g. the past year) for training and model optimisation to pre-empt risk that the topics of discussion and keywords may change across different times of the year \n",
    "- Train and further optimise the model for production across more subreddit communities \n",
    "- Train the data using irrelevant posts from more than one source"
   ]
  }
 ],
 "metadata": {
  "kernelspec": {
   "display_name": "Python 3",
   "language": "python",
   "name": "python3"
  },
  "language_info": {
   "codemirror_mode": {
    "name": "ipython",
    "version": 3
   },
   "file_extension": ".py",
   "mimetype": "text/x-python",
   "name": "python",
   "nbconvert_exporter": "python",
   "pygments_lexer": "ipython3",
   "version": "3.8.8"
  }
 },
 "nbformat": 4,
 "nbformat_minor": 5
}
