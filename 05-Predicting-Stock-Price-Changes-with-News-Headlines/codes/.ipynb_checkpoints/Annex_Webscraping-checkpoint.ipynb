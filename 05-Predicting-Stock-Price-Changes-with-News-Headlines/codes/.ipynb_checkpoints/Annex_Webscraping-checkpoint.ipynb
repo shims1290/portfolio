{
 "cells": [
  {
   "cell_type": "markdown",
   "id": "6141c2de",
   "metadata": {},
   "source": [
    "<img src=\"http://imgur.com/1ZcRyrc.png\" style=\"float: left; margin: 20px; height: 55px\" width=\"50\">\n",
    "\n",
    "# Capstone Project: Predicting Stock Price Changes of  Healthcare Companies based on News Headlines"
   ]
  },
  {
   "cell_type": "markdown",
   "id": "a088cc58",
   "metadata": {},
   "source": [
    "### Import Libraries"
   ]
  },
  {
   "cell_type": "code",
   "execution_count": 143,
   "id": "7e5f3c2a",
   "metadata": {},
   "outputs": [],
   "source": [
    "import pandas as pd\n",
    "import datetime\n",
    "import requests\n",
    "import re\n",
    "import time\n",
    "import numpy as np\n",
    "from bs4 import BeautifulSoup\n",
    "\n",
    "pd.set_option('display.max.columns', None)\n",
    "pd.set_option('display.max.colwidth', 100)"
   ]
  },
  {
   "cell_type": "markdown",
   "id": "43a5f745",
   "metadata": {},
   "source": [
    "### Write functions to support webscraping from Reuters"
   ]
  },
  {
   "cell_type": "code",
   "execution_count": 2,
   "id": "96364b83",
   "metadata": {},
   "outputs": [],
   "source": [
    "# Write function to extract information from Reuters website in preferred format\n",
    "def get_headlines(links_site):\n",
    "    \n",
    "    # Scrape the html of the site\n",
    "    resp = requests.get(links_site)\n",
    " \n",
    "    if not resp.ok:\n",
    "        return None\n",
    " \n",
    "    html = resp.content\n",
    "    s = str(html)\n",
    "    \n",
    "    # Extract raw data\n",
    "    headlines = re.findall(r'headline: \"(.*?)\",', s)\n",
    "    dates = re.findall(r'date: \"(.*?)\",', s)\n",
    "    links = re.findall(r'href: \"(.*?)\",',s)\n",
    "\n",
    "    ### Format headlines, links and time\n",
    "    \n",
    "    # Eliminate HTML tags from headline\n",
    "    headlines = [re.sub('<[^<]+?>', '',item) for item in headlines]\n",
    "    \n",
    "    # Edit links\n",
    "    prefix = 'https://www.reuters.com'\n",
    "    links = [prefix + x for x in links]\n",
    "    \n",
    "    # Reformat time\n",
    "    dates_stripped = [date.split(\" \") for date in dates]\n",
    "\n",
    "    index1 = 0\n",
    "    \n",
    "    while (index1 < len(dates)):\n",
    "        \n",
    "        # Extract raw time and convert\n",
    "        year = dates_stripped[index1][2]\n",
    "        rawmonth = dates_stripped[index1][0]\n",
    "        raw_day = dates_stripped[index1][1]\n",
    "        month = time.strptime(rawmonth,\"%B\").tm_mon\n",
    "        day = raw_day.split(\",\")[0]\n",
    "        \n",
    "        dates[index1] = str(year)+\"-\"+str(month)+\"-\"+str(day)\n",
    "        \n",
    "        index1 = index1+1\n",
    "    \n",
    "    dataframe = pd.DataFrame({'dates':dates,'headlines':headlines,'links':links, 'article_content':''})\n",
    "\n",
    "    return dataframe"
   ]
  },
  {
   "cell_type": "code",
   "execution_count": 3,
   "id": "bcb3549a",
   "metadata": {},
   "outputs": [],
   "source": [
    "# Write function to scrape news info from reuters \n",
    "def scrape_reuters(query):\n",
    "    \n",
    "    index = 1\n",
    "    all_news = pd.DataFrame(columns=['dates', 'headlines', 'links', 'article_content'])\n",
    " \n",
    "    # Loop through subsequent Reuters pages\n",
    "    for i in range(500):\n",
    "        site = ('https://www.reuters.com/assets/searchArticleLoadMoreJson?blob=' + query \n",
    "                + '&bigOrSmall=big&articleWithBlog=true&sortBy=relevance&dateRange=all&numResultsToShow=100&pn='+ \n",
    "                str(i) + '&callback=addMoreNewsResults')\n",
    "        \n",
    "        current_site_news = get_headlines(site)\n",
    "        all_news = pd.concat([all_news,current_site_news], ignore_index=True)\n",
    "        time.sleep(2)\n",
    "        i += 1\n",
    "        \n",
    "    # scrape 10 years' worth of news \n",
    "    all_news = all_news[(all_news['dates'] > '2011-01-01')].sort_values(\"dates\")\n",
    "    \n",
    "    # drop duplicates of same article \n",
    "    all_news.drop_duplicates(subset=['links'], inplace=True, ignore_index=True)\n",
    "    \n",
    "    # extract article contents from article links\n",
    "    for i in range(0, len(all_news)):\n",
    "        url = all_news[\"links\"][i]\n",
    "        resp = requests.get(url)\n",
    "        soup = BeautifulSoup(resp.content, 'lxml')\n",
    "        container = soup.findAll(\"p\", {\"class\": \"Paragraph-paragraph-2Bgue ArticleBody-para-TD_9x\"})            \n",
    "        container1 = soup.findAll(\"p\", {\"class\": \"Text__text___3eVx1j Text__dark-grey___AS2I_p Text__regular___Bh17t- Text__large___1i0u1F Body__base___25kqPt Body__large_body___3g04wK ArticleBody__element___3UrnEs\"})            \n",
    "        \n",
    "        for p in range(0, len(container)):\n",
    "            text = []\n",
    "            para = [container[p].text]\n",
    "            text = \" \".join(text + para)\n",
    "            all_news[\"article_content\"][i] = \"\".join(all_news[\"article_content\"][i] + text)\n",
    "            p += 1\n",
    "        \n",
    "        for c in range(0, len(container1)):\n",
    "            text = []\n",
    "            para = [container1[c].text]\n",
    "            text = \" \".join(text + para)\n",
    "            all_news[\"article_content\"][i] = \"\".join(all_news[\"article_content\"][i] + text)\n",
    "            c += 1\n",
    "        \n",
    "    return all_news"
   ]
  },
  {
   "cell_type": "markdown",
   "id": "acbf214f",
   "metadata": {},
   "source": [
    "### Webscraping for news related to Pfizer [NYSE: PFE]"
   ]
  },
  {
   "cell_type": "code",
   "execution_count": 4,
   "id": "7d54997c",
   "metadata": {
    "scrolled": true
   },
   "outputs": [],
   "source": [
    "# scrape news related to pfizer \n",
    "news = scrape_reuters(\"pfizer\")"
   ]
  },
  {
   "cell_type": "code",
   "execution_count": 5,
   "id": "ccef3af8",
   "metadata": {},
   "outputs": [
    {
     "data": {
      "text/plain": [
       "8817"
      ]
     },
     "execution_count": 5,
     "metadata": {},
     "output_type": "execute_result"
    }
   ],
   "source": [
    "# show the number of news headlines scraped\n",
    "len(news)"
   ]
  },
  {
   "cell_type": "code",
   "execution_count": 11,
   "id": "624ccffc",
   "metadata": {
    "scrolled": false
   },
   "outputs": [
    {
     "data": {
      "text/html": [
       "<div>\n",
       "<style scoped>\n",
       "    .dataframe tbody tr th:only-of-type {\n",
       "        vertical-align: middle;\n",
       "    }\n",
       "\n",
       "    .dataframe tbody tr th {\n",
       "        vertical-align: top;\n",
       "    }\n",
       "\n",
       "    .dataframe thead th {\n",
       "        text-align: right;\n",
       "    }\n",
       "</style>\n",
       "<table border=\"1\" class=\"dataframe\">\n",
       "  <thead>\n",
       "    <tr style=\"text-align: right;\">\n",
       "      <th></th>\n",
       "      <th>dates</th>\n",
       "      <th>headlines</th>\n",
       "      <th>links</th>\n",
       "      <th>article_content</th>\n",
       "    </tr>\n",
       "  </thead>\n",
       "  <tbody>\n",
       "    <tr>\n",
       "      <th>0</th>\n",
       "      <td>2012-1-13</td>\n",
       "      <td>Nestle declines comment on Pfizer unit bid report</td>\n",
       "      <td>https://www.reuters.com/article/idUSWEA7960201...</td>\n",
       "      <td>ZURICH, Jan 13 (Reuters) - Nestle, the world’...</td>\n",
       "    </tr>\n",
       "    <tr>\n",
       "      <th>1</th>\n",
       "      <td>2012-1-13</td>\n",
       "      <td>Nestle declines comment on Pfizer unit bid report</td>\n",
       "      <td>https://www.reuters.com/article/idUSTRE80C0IM2...</td>\n",
       "      <td>ZURICH (Reuters) - Nestle NESN.VX, the world'...</td>\n",
       "    </tr>\n",
       "    <tr>\n",
       "      <th>2</th>\n",
       "      <td>2012-1-27</td>\n",
       "      <td>US FDA approves Pfizer\\'s Inlyta for kidney ca...</td>\n",
       "      <td>https://www.reuters.com/article/idUSTRE80Q25F2...</td>\n",
       "      <td>WASHINGTON (Reuters) - Pfizer’s Inlyta drug f...</td>\n",
       "    </tr>\n",
       "    <tr>\n",
       "      <th>3</th>\n",
       "      <td>2012-1-27</td>\n",
       "      <td>US FDA approves Pfizer\\'s Inlyta for kidney ca...</td>\n",
       "      <td>https://www.reuters.com/article/idUSTRE80Q1OD2...</td>\n",
       "      <td>WASHINGTON (Reuters) - Pfizer’s Inlyta drug f...</td>\n",
       "    </tr>\n",
       "    <tr>\n",
       "      <th>4</th>\n",
       "      <td>2012-1-28</td>\n",
       "      <td>India\\'s Pfizer Oct-Dec net profit at 482.8 ml...</td>\n",
       "      <td>https://www.reuters.com/article/idUSL4E8CS03Z2...</td>\n",
       "      <td></td>\n",
       "    </tr>\n",
       "    <tr>\n",
       "      <th>5</th>\n",
       "      <td>2012-1-31</td>\n",
       "      <td>Generics take toll on Pfizer, Lilly profits</td>\n",
       "      <td>https://www.reuters.com/article/idUSTRE80U1BD2...</td>\n",
       "      <td>(Reuters) - Competition from low-cost generic...</td>\n",
       "    </tr>\n",
       "    <tr>\n",
       "      <th>6</th>\n",
       "      <td>2012-1-31</td>\n",
       "      <td>Pfizer trims 2012 view, citing stronger dollar</td>\n",
       "      <td>https://www.reuters.com/article/idUSTRE80U0V32...</td>\n",
       "      <td>(Reuters) - Pfizer Inc PFE.N reported sharply...</td>\n",
       "    </tr>\n",
       "    <tr>\n",
       "      <th>7</th>\n",
       "      <td>2012-10-04</td>\n",
       "      <td>Trial suggests Prevnar may also protect ages 1...</td>\n",
       "      <td>https://www.reuters.com/article/idUSBRE8930Q62...</td>\n",
       "      <td>(Reuters) - Pfizer Inc said a late-stage tria...</td>\n",
       "    </tr>\n",
       "    <tr>\n",
       "      <th>8</th>\n",
       "      <td>2012-10-04</td>\n",
       "      <td>UPDATE 2-Trial suggests Prevnar may also prote...</td>\n",
       "      <td>https://www.reuters.com/article/idUSL3E8L45JE2...</td>\n",
       "      <td>Oct 4 (Reuters) - Pfizer Inc said a late-stag...</td>\n",
       "    </tr>\n",
       "    <tr>\n",
       "      <th>9</th>\n",
       "      <td>2012-10-04</td>\n",
       "      <td>Pfizer\\'s Prevenar 13 vaccine meets trial goal</td>\n",
       "      <td>https://www.reuters.com/article/idUSL3E8L45BL2...</td>\n",
       "      <td>Oct 4 (Reuters) - Pfizer Inc said a late-stag...</td>\n",
       "    </tr>\n",
       "  </tbody>\n",
       "</table>\n",
       "</div>"
      ],
      "text/plain": [
       "        dates                                          headlines  \\\n",
       "0   2012-1-13  Nestle declines comment on Pfizer unit bid report   \n",
       "1   2012-1-13  Nestle declines comment on Pfizer unit bid report   \n",
       "2   2012-1-27  US FDA approves Pfizer\\'s Inlyta for kidney ca...   \n",
       "3   2012-1-27  US FDA approves Pfizer\\'s Inlyta for kidney ca...   \n",
       "4   2012-1-28  India\\'s Pfizer Oct-Dec net profit at 482.8 ml...   \n",
       "5   2012-1-31        Generics take toll on Pfizer, Lilly profits   \n",
       "6   2012-1-31     Pfizer trims 2012 view, citing stronger dollar   \n",
       "7  2012-10-04  Trial suggests Prevnar may also protect ages 1...   \n",
       "8  2012-10-04  UPDATE 2-Trial suggests Prevnar may also prote...   \n",
       "9  2012-10-04     Pfizer\\'s Prevenar 13 vaccine meets trial goal   \n",
       "\n",
       "                                               links  \\\n",
       "0  https://www.reuters.com/article/idUSWEA7960201...   \n",
       "1  https://www.reuters.com/article/idUSTRE80C0IM2...   \n",
       "2  https://www.reuters.com/article/idUSTRE80Q25F2...   \n",
       "3  https://www.reuters.com/article/idUSTRE80Q1OD2...   \n",
       "4  https://www.reuters.com/article/idUSL4E8CS03Z2...   \n",
       "5  https://www.reuters.com/article/idUSTRE80U1BD2...   \n",
       "6  https://www.reuters.com/article/idUSTRE80U0V32...   \n",
       "7  https://www.reuters.com/article/idUSBRE8930Q62...   \n",
       "8  https://www.reuters.com/article/idUSL3E8L45JE2...   \n",
       "9  https://www.reuters.com/article/idUSL3E8L45BL2...   \n",
       "\n",
       "                                     article_content  \n",
       "0   ZURICH, Jan 13 (Reuters) - Nestle, the world’...  \n",
       "1   ZURICH (Reuters) - Nestle NESN.VX, the world'...  \n",
       "2   WASHINGTON (Reuters) - Pfizer’s Inlyta drug f...  \n",
       "3   WASHINGTON (Reuters) - Pfizer’s Inlyta drug f...  \n",
       "4                                                     \n",
       "5   (Reuters) - Competition from low-cost generic...  \n",
       "6   (Reuters) - Pfizer Inc PFE.N reported sharply...  \n",
       "7   (Reuters) - Pfizer Inc said a late-stage tria...  \n",
       "8   Oct 4 (Reuters) - Pfizer Inc said a late-stag...  \n",
       "9   Oct 4 (Reuters) - Pfizer Inc said a late-stag...  "
      ]
     },
     "execution_count": 11,
     "metadata": {},
     "output_type": "execute_result"
    }
   ],
   "source": [
    "news.head(10)"
   ]
  },
  {
   "cell_type": "code",
   "execution_count": 12,
   "id": "fe08b80b",
   "metadata": {
    "scrolled": false
   },
   "outputs": [
    {
     "name": "stdout",
     "output_type": "stream",
     "text": [
      "<class 'pandas.core.frame.DataFrame'>\n",
      "RangeIndex: 8817 entries, 0 to 8816\n",
      "Data columns (total 4 columns):\n",
      " #   Column           Non-Null Count  Dtype \n",
      "---  ------           --------------  ----- \n",
      " 0   dates            8817 non-null   object\n",
      " 1   headlines        8817 non-null   object\n",
      " 2   links            8817 non-null   object\n",
      " 3   article_content  8817 non-null   object\n",
      "dtypes: object(4)\n",
      "memory usage: 275.7+ KB\n"
     ]
    }
   ],
   "source": [
    "news.info(20)"
   ]
  },
  {
   "cell_type": "markdown",
   "id": "211b1e9e",
   "metadata": {},
   "source": [
    "### Removal of Duplicated News Updates"
   ]
  },
  {
   "cell_type": "code",
   "execution_count": 50,
   "id": "f66bbf79",
   "metadata": {},
   "outputs": [],
   "source": [
    "def clean_updates(text):\n",
    "    text = re.sub(r'UPDATE 1-', '', text)\n",
    "    text = re.sub(r'UPDATE 2-', '', text)\n",
    "    text = re.sub(r'UPDATE 3-', '', text)\n",
    "    text = re.sub(r'UPDATE 4-', '', text)\n",
    "    text = re.sub(r'BRIEF-', '', text)\n",
    "    return text"
   ]
  },
  {
   "cell_type": "code",
   "execution_count": 51,
   "id": "56eefd32",
   "metadata": {},
   "outputs": [],
   "source": [
    "news['headlines'] = news['headlines'].apply(clean_updates)"
   ]
  },
  {
   "cell_type": "code",
   "execution_count": 52,
   "id": "f91ff673",
   "metadata": {},
   "outputs": [
    {
     "data": {
      "text/plain": [
       "0     Nestle declines comment on Pfizer unit bid report\n",
       "1     US FDA approves Pfizer\\'s Inlyta for kidney ca...\n",
       "2           Generics take toll on Pfizer, Lilly profits\n",
       "3        Pfizer trims 2012 view, citing stronger dollar\n",
       "4     Trial suggests Prevnar may also protect ages 1...\n",
       "5        Pfizer\\'s Prevenar 13 vaccine meets trial goal\n",
       "6     Pfizer to appeal India decision to revoke canc...\n",
       "7     Pfizer to pay $164 million in investor lawsuit...\n",
       "8     Pfizer agrees to $164 mln settlement of Celebr...\n",
       "9     Pfizer to pay $164 mln in investor lawsuit ove...\n",
       "10    Pfizer says pain drug as safe as rival pills i...\n",
       "11    Pfizer kidney cancer drug fails as initial tre...\n",
       "12    Pfizer to buy maker of attention-deficit drug ...\n",
       "13    Pfizer to buy maker of attention-deficit drug ...\n",
       "14    Pfizer lung cancer drug gets conditional EU ap...\n",
       "15    Pfizer reschedules issuance of third quarter 2...\n",
       "16    Shionogi to take 10 pct stake in GSK, Pfizer H...\n",
       "17    Pfizer sales weak on vaccine, emerging markets...\n",
       "18    Pfizer says to make \\\\\"go or no go\\\\\" decision...\n",
       "19    Pfizer sees emerging market sales rising in \\\\...\n",
       "20       Pfizer down 2.1 pct in premarket after results\n",
       "21    Pfizer quarterly revenue fall far short of for...\n",
       "22    Nestle: Pfizer baby food deal cleared by Chine...\n",
       "23    Nestle says Pfizer baby food deal cleared by C...\n",
       "24    Experimental Pfizer cholesterol drug promising...\n",
       "25    FDA approves Pfizer drug to treat rheumatoid a...\n",
       "26    Pfizer arthritis drug wins approval, ready to ...\n",
       "27    Pfizer arthritis drug wins approval, to challe...\n",
       "28    Pfizer returns EU selling rights on Auxilium h...\n",
       "29    Pfizer expects generic competition in Canada a...\n",
       "Name: headlines, dtype: object"
      ]
     },
     "execution_count": 52,
     "metadata": {},
     "output_type": "execute_result"
    }
   ],
   "source": [
    "news.headlines.head(30)"
   ]
  },
  {
   "cell_type": "code",
   "execution_count": 53,
   "id": "bd1a7bd8",
   "metadata": {},
   "outputs": [],
   "source": [
    "# drop duplicates of same article with different headlines \n",
    "news.drop_duplicates(subset=['headlines'], ignore_index=True, inplace=True)"
   ]
  },
  {
   "cell_type": "code",
   "execution_count": 54,
   "id": "c65cd90c",
   "metadata": {},
   "outputs": [],
   "source": [
    "# drop rows with no article contents scraped\n",
    "news = news[news['article_content'] != ' ']"
   ]
  },
  {
   "cell_type": "code",
   "execution_count": 109,
   "id": "f5dfcedd",
   "metadata": {},
   "outputs": [
    {
     "data": {
      "text/html": [
       "<div>\n",
       "<style scoped>\n",
       "    .dataframe tbody tr th:only-of-type {\n",
       "        vertical-align: middle;\n",
       "    }\n",
       "\n",
       "    .dataframe tbody tr th {\n",
       "        vertical-align: top;\n",
       "    }\n",
       "\n",
       "    .dataframe thead th {\n",
       "        text-align: right;\n",
       "    }\n",
       "</style>\n",
       "<table border=\"1\" class=\"dataframe\">\n",
       "  <thead>\n",
       "    <tr style=\"text-align: right;\">\n",
       "      <th></th>\n",
       "      <th>dates</th>\n",
       "      <th>headlines</th>\n",
       "      <th>links</th>\n",
       "      <th>article_content</th>\n",
       "    </tr>\n",
       "  </thead>\n",
       "  <tbody>\n",
       "    <tr>\n",
       "      <th>0</th>\n",
       "      <td>2012-1-13</td>\n",
       "      <td>Nestle declines comment on Pfizer unit bid report</td>\n",
       "      <td>https://www.reuters.com/article/idUSWEA7960201...</td>\n",
       "      <td>ZURICH, Jan 13 (Reuters) - Nestle, the world’...</td>\n",
       "    </tr>\n",
       "    <tr>\n",
       "      <th>1</th>\n",
       "      <td>2012-1-27</td>\n",
       "      <td>US FDA approves Pfizer\\'s Inlyta for kidney ca...</td>\n",
       "      <td>https://www.reuters.com/article/idUSTRE80Q25F2...</td>\n",
       "      <td>WASHINGTON (Reuters) - Pfizer’s Inlyta drug f...</td>\n",
       "    </tr>\n",
       "    <tr>\n",
       "      <th>2</th>\n",
       "      <td>2012-1-31</td>\n",
       "      <td>Generics take toll on Pfizer, Lilly profits</td>\n",
       "      <td>https://www.reuters.com/article/idUSTRE80U1BD2...</td>\n",
       "      <td>(Reuters) - Competition from low-cost generic...</td>\n",
       "    </tr>\n",
       "    <tr>\n",
       "      <th>3</th>\n",
       "      <td>2012-1-31</td>\n",
       "      <td>Pfizer trims 2012 view, citing stronger dollar</td>\n",
       "      <td>https://www.reuters.com/article/idUSTRE80U0V32...</td>\n",
       "      <td>(Reuters) - Pfizer Inc PFE.N reported sharply...</td>\n",
       "    </tr>\n",
       "    <tr>\n",
       "      <th>4</th>\n",
       "      <td>2012-10-04</td>\n",
       "      <td>Trial suggests Prevnar may also protect ages 1...</td>\n",
       "      <td>https://www.reuters.com/article/idUSBRE8930Q62...</td>\n",
       "      <td>(Reuters) - Pfizer Inc said a late-stage tria...</td>\n",
       "    </tr>\n",
       "    <tr>\n",
       "      <th>5</th>\n",
       "      <td>2012-10-04</td>\n",
       "      <td>Pfizer\\'s Prevenar 13 vaccine meets trial goal</td>\n",
       "      <td>https://www.reuters.com/article/idUSL3E8L45BL2...</td>\n",
       "      <td>Oct 4 (Reuters) - Pfizer Inc said a late-stag...</td>\n",
       "    </tr>\n",
       "    <tr>\n",
       "      <th>6</th>\n",
       "      <td>2012-10-05</td>\n",
       "      <td>Pfizer to appeal India decision to revoke canc...</td>\n",
       "      <td>https://www.reuters.com/article/idUSBRE89408D2...</td>\n",
       "      <td>MUMBAI (Reuters) - Pfizer Ltd, the India unit...</td>\n",
       "    </tr>\n",
       "    <tr>\n",
       "      <th>7</th>\n",
       "      <td>2012-10-09</td>\n",
       "      <td>Pfizer to pay $164 million in investor lawsuit...</td>\n",
       "      <td>https://www.reuters.com/article/idUSBRE8981F72...</td>\n",
       "      <td>(Reuters) - Pfizer Inc has agreed to pay $164...</td>\n",
       "    </tr>\n",
       "    <tr>\n",
       "      <th>8</th>\n",
       "      <td>2012-10-09</td>\n",
       "      <td>Pfizer agrees to $164 mln settlement of Celebr...</td>\n",
       "      <td>https://www.reuters.com/article/idUSWEN7642201...</td>\n",
       "      <td>Oct 9 (Reuters) - Pfizer Inc : * Says has agr...</td>\n",
       "    </tr>\n",
       "    <tr>\n",
       "      <th>9</th>\n",
       "      <td>2012-10-09</td>\n",
       "      <td>Pfizer to pay $164 mln in investor lawsuit ove...</td>\n",
       "      <td>https://www.reuters.com/article/idUSL1E8L9KJJ2...</td>\n",
       "      <td>* Agrees to settlement of Celebrex securities...</td>\n",
       "    </tr>\n",
       "  </tbody>\n",
       "</table>\n",
       "</div>"
      ],
      "text/plain": [
       "        dates                                          headlines  \\\n",
       "0   2012-1-13  Nestle declines comment on Pfizer unit bid report   \n",
       "1   2012-1-27  US FDA approves Pfizer\\'s Inlyta for kidney ca...   \n",
       "2   2012-1-31        Generics take toll on Pfizer, Lilly profits   \n",
       "3   2012-1-31     Pfizer trims 2012 view, citing stronger dollar   \n",
       "4  2012-10-04  Trial suggests Prevnar may also protect ages 1...   \n",
       "5  2012-10-04     Pfizer\\'s Prevenar 13 vaccine meets trial goal   \n",
       "6  2012-10-05  Pfizer to appeal India decision to revoke canc...   \n",
       "7  2012-10-09  Pfizer to pay $164 million in investor lawsuit...   \n",
       "8  2012-10-09  Pfizer agrees to $164 mln settlement of Celebr...   \n",
       "9  2012-10-09  Pfizer to pay $164 mln in investor lawsuit ove...   \n",
       "\n",
       "                                               links  \\\n",
       "0  https://www.reuters.com/article/idUSWEA7960201...   \n",
       "1  https://www.reuters.com/article/idUSTRE80Q25F2...   \n",
       "2  https://www.reuters.com/article/idUSTRE80U1BD2...   \n",
       "3  https://www.reuters.com/article/idUSTRE80U0V32...   \n",
       "4  https://www.reuters.com/article/idUSBRE8930Q62...   \n",
       "5  https://www.reuters.com/article/idUSL3E8L45BL2...   \n",
       "6  https://www.reuters.com/article/idUSBRE89408D2...   \n",
       "7  https://www.reuters.com/article/idUSBRE8981F72...   \n",
       "8  https://www.reuters.com/article/idUSWEN7642201...   \n",
       "9  https://www.reuters.com/article/idUSL1E8L9KJJ2...   \n",
       "\n",
       "                                     article_content  \n",
       "0   ZURICH, Jan 13 (Reuters) - Nestle, the world’...  \n",
       "1   WASHINGTON (Reuters) - Pfizer’s Inlyta drug f...  \n",
       "2   (Reuters) - Competition from low-cost generic...  \n",
       "3   (Reuters) - Pfizer Inc PFE.N reported sharply...  \n",
       "4   (Reuters) - Pfizer Inc said a late-stage tria...  \n",
       "5   Oct 4 (Reuters) - Pfizer Inc said a late-stag...  \n",
       "6   MUMBAI (Reuters) - Pfizer Ltd, the India unit...  \n",
       "7   (Reuters) - Pfizer Inc has agreed to pay $164...  \n",
       "8   Oct 9 (Reuters) - Pfizer Inc : * Says has agr...  \n",
       "9   * Agrees to settlement of Celebrex securities...  "
      ]
     },
     "execution_count": 109,
     "metadata": {},
     "output_type": "execute_result"
    }
   ],
   "source": [
    "news.head(10)"
   ]
  },
  {
   "cell_type": "code",
   "execution_count": 73,
   "id": "e74d3d56",
   "metadata": {},
   "outputs": [],
   "source": [
    "# export merged dataset to csv for further data cleaning & EDA \n",
    "news.to_csv(\"../assets/scraped_news.csv\", index=False)"
   ]
  }
 ],
 "metadata": {
  "kernelspec": {
   "display_name": "Python 3",
   "language": "python",
   "name": "python3"
  },
  "language_info": {
   "codemirror_mode": {
    "name": "ipython",
    "version": 3
   },
   "file_extension": ".py",
   "mimetype": "text/x-python",
   "name": "python",
   "nbconvert_exporter": "python",
   "pygments_lexer": "ipython3",
   "version": "3.8.8"
  }
 },
 "nbformat": 4,
 "nbformat_minor": 5
}
