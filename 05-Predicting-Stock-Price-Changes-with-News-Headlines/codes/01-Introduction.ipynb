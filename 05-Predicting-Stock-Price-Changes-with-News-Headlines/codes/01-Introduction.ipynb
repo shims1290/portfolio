{
 "cells": [
  {
   "cell_type": "markdown",
   "id": "879720e1",
   "metadata": {},
   "source": [
    "<img src=\"http://imgur.com/1ZcRyrc.png\" style=\"float: left; margin: 20px; height: 55px\" width=\"50\">\n",
    "\n",
    "# Capstone Project: Predicting Stock Price Changes of  Healthcare Companies based on News Headlines"
   ]
  },
  {
   "cell_type": "markdown",
   "id": "d9b80767",
   "metadata": {},
   "source": [
    "### Contents:\n",
    "#### Part 1 of 3\n",
    "- [Executive Summary](#Executive-Summary)\n",
    "- [Problem Statement](#Problem-Statement)\n",
    "- [Background](#Background)\n",
    "- [Data](#Data)\n",
    "- Data Munging\n",
    "- Exploratory Data Analysis & Visualisation\n",
    "- Pre-Processing & Modelling\n",
    "- Results & Analysis\n",
    "- Recommendations & Conclusions\n",
    "- References\n",
    "\n",
    "Other Notebooks: [Part 2 of 3](02-Data-Munging-and-EDA.ipynb) | [Part 3 of 3](03-Model-&-Analysis.ipynb) | [Annex - News WebScraping](Annex_Webscraping.ipynb) | [Annex - Further Scraping & Cleaning](Annex_Webscraping_and_Cleaning_Headlines.ipynb)"
   ]
  },
  {
   "cell_type": "markdown",
   "id": "9a7865c2",
   "metadata": {},
   "source": [
    "## Executive Summary"
   ]
  },
  {
   "cell_type": "markdown",
   "id": "31dc1b9d",
   "metadata": {},
   "source": [
    "#### Introduction \n",
    "Investing in healthcare companies is hard. Apart from understanding finance, a healthcare/ biotech investor/ trader also needs to understand the drug development process, the commercial applications of the cutting-edge scientific technologies and the regulatory frameworks/ processes that affect a drug's journey from lab to shelf. To bridge the knowledge gap and make healthcare investing more accessible for the layperson, this Natural Language Processing (NLP) project seeks to study whether and how news headlines affect healthcare company's stock prices. \n",
    "\n",
    "#### Approach \n",
    "I scraped news and stock information related to 8 healthcare companies (Abbvie, Amgen, Biogen, Eli Lilly, Gilead, Merck, Pfizer, Regeneron) from Reuters and AlphaVantage API respectively. After data cleaning and aggregation, the data set contains 2,924 observations (ranging from Jan 2012 to Nov 2019) of daily stock closing price information alongside the relevant news headlines reported (trading days without news reporting are excluded from the dataset). Given this data set, I trained a supervised classification model to predict whether the stock price will increase or decrease by more than 1.31% (P75 of daily stock price changes) given a particular headline. \n",
    "\n",
    "Using the following vectorizers and estimators, I was able to achieve the following results using PyCaret's model comparison function:\n",
    "\n",
    "|S/N|Model|Vectorizer|N-Gram|Accuracy|AUC|Recall|Precision|F1|\n",
    "|:---|---:|:---:|:---:|:---:|:---:|:---:|:---:|:---:|\n",
    "|1|Light Gradient Boosting Machine|Count|1-gram|0.764|0.625|0.248|0.549|0.339|\n",
    "|2|Logistic Regression|Count|1-gram|0.764|0.651|0.307|0.529|0.386|\n",
    "|3|Gradient Boosting Classifier|Count|2-gram|0.747|0.560|0.068|0.663|0.120|\n",
    "|4|Logistic Regression|Count|2-gram|0.745|0.594|0.165|0.516|0.247|\n",
    "|5|Gradient Boosting Classifier|Count|3-gram|0.749|0.522|0.046|0.496|0.084|\n",
    "|6|Logistic Regression|Count|3-gram|0.747|0.538|0.060|0.493|0.106|\n",
    "|**7**|**Logistic Regression**|**Tf-idf**|**1-gram**|**0.758**|**0.654**|**0.117**|**0.672**|**0.199**|\n",
    "|8|K Neighbors Classifier|Tf-idf|1-gram|0.748|0.568|0.114|0.577|0.187|\n",
    "|9|Logistic Regression|Tf-idf|2-gram|0.766|0.600|0.043|0.636|0.079|\n",
    "|10|Gradient Boosting Classifier|Tf-idf|2-gram|0.764|0.600|0.080|0.524|0.135|\n",
    "|11|Logistic Regression|Tf-idf|3-gram|0.748|0.570|0.006|0.150|0.011|\n",
    "|12|Ada Boosting Classifier|Tf-idf|3-gram|0.748|0.533|0.066|0.511|0.116|\n",
    "\n",
    "#### Final Model & Results \n",
    "\n",
    "I chose to further train and tune the **1-gram count-vectorized logistic regression model** because it had the highest precision score and the accuracy and AUC scores were among the highest (i.e. fifth and second highest respectively). The final results are presented in the images below.\n",
    "\n",
    "Confusion Matrix           |  AUC ROC\n",
    ":-------------------------:|:-------------------------:\n",
    "<img src=\"../images/cm.png\" alt=\"drawing\" width=\"500\"/> |  <img src=\"../images/rocauc.png\" alt=\"drawing\" width=\"500\"/>\n",
    "\n",
    "The model had an accuracy score of 0.77, a ROC AUC score of 0.642 and a 0.75 precision score. While the precision score was high, it was obtained at the expense of a lower recall score of 0.12. This means the model will be relatively good at predicting when a 'price-shocking' news headline. However, it is prone to classify many other news headlines which are price shockers as non-price shockers. This may lead to traders missing out on news events that would affect the stock prices significantly. \n",
    "\n",
    "Taking a closer look at the feature importances, I cannot find any discernable trends or patterns for single words that were indicative of an impending price shock. However, when we look at the three-word phrases, we see that features that affect prices more significantly tended to be related to financial reporting (i.e. quarterly profits/ sales reporting) or mid-stage to late-stage study/trial. Interestingly, the final announcement of the FDA/commission approval or success reported at late stage study tended to not lead to large changes in stock prices. This suggests that there may be some truth to the saying that traders 'buy the rumor, and sell the news' in the biotech or healthcare industry. Traders/investors may have already placed their bets or made their trade assessments based on interim updates on the companies' clinical trial results. While the final approval by regulatory bodies is a significant milestone for the healthcare companies, it may not lead to a significant jump in stock prices as the expected approval was already priced in by the trade activities before the actual announcement. \n",
    "\n",
    "|Phrases associated with Price Jumps     |     \n",
    "|:-------------------------:|\n",
    "<img src=\"../images/price_jump.png\" alt=\"drawing\" width=\"700\"/> |  \n",
    "\n",
    "\n",
    "|Phrases not associated with Price Jumps |\n",
    "|:-------------------------:|\n",
    "<img src=\"../images/price_constant.png\" alt=\"drawing\" width=\"700\"/>|\n",
    "\n",
    "\n",
    "#### Conclusions \n",
    "\n",
    "1. News headlines can be used to predict changes to stock prices. The tf-idf logistic regression model is able to achieve > 70% accuracy and precision scores, and > 60% AUC ROC score.   \n",
    "\n",
    "2. The release of positive/ negative news may not necessarily lead to a jump in stock prices. From this modelling experience, we learn that the announcement of significant milestones (such as FDA approval) may not lead to significant stock price changes.  \n",
    "\n",
    "#### Recommendations for Future Projects to Improve Use Case and Model Performance\n",
    "   - Aggregate news headlines from more sources (e.g. Financial Times, Seeking Alpha) for analysis\n",
    "   - Beyond headlines, there is also an opportunity to study how the long-form texts from news articles affect stock prices\n",
    "   - Aggregate news headlines for more healthcare, pharmaceutical or biotech companies for analysis"
   ]
  },
  {
   "cell_type": "markdown",
   "id": "525ccf6c",
   "metadata": {},
   "source": [
    "## Background"
   ]
  },
  {
   "cell_type": "markdown",
   "id": "a8381775",
   "metadata": {},
   "source": [
    "Efficient market hypothesis states that asset prices typically incorporate all available information. By extension, we can expect positive and negative news about a company to respectively drive its stock prices up and down. However, [Chan (2003)](https://www.researchgate.net/publication/222535436_Stock_Price_Reaction_to_News_and_No-News_Drift_and_Reversal_after_Headlines) found evidence of post-news drift, which supported the idea that investors underreact to information, especially after bad news. This is as opposed to a price jump and faster stock price adjustment to new information. Traders' varied responses to news add to the complexity in predicting the effect of news report on company's stock prices. \n",
    "\n",
    "The fact that some traders [\"buy the rumor, sell the news\"](https://www.investopedia.com/terms/n/news-trader.asp) further compounds the problem as rumors would have one effect on a stock's price while the actual news can have the opposite effect. Some traders would focus on trading in the time leading up to the news or immediately after, when the market is still reacting to the news. This leads to 'unintuitive' outcomes for the uninitated, i.e. a company's stock price would fall when faced with the release of a good news.  \n",
    "\n",
    "**For laypersons looking to start investing in stocks, 2 key questions prevail:**\n",
    "> 1) Can news headlines be relied on to predict stock price movements?  \n",
    "> 2) Does the release of positive/negative news result in a respective increase/decrease in stock price?   "
   ]
  },
  {
   "cell_type": "markdown",
   "id": "223b4084",
   "metadata": {},
   "source": [
    "## A Deep Dive in Healthcare / Biotech Stocks - Why?"
   ]
  },
  {
   "cell_type": "markdown",
   "id": "7feb339f",
   "metadata": {},
   "source": [
    "#### Tremendous Growth in Value and Potential \n",
    "\n",
    "Over the last two years, we have seen how biotech/ healthcare companies, such as Moderna and Pfizer, have played a key role in our fight against the global COVID-19 pandemic. The development of vaccines and therapeutics is highly valued by society - for instance, the value of moderna stocks increase by over 2,000% in the past 5 years. \n",
    "\n",
    "<img src=\"../images/moderna.png\" alt=\"drawing\" width=\"350\"/>\n",
    "\n",
    "Overtime, healthcare companies have grown tremendous value. In some instances, they have outperformed the S&P500, which saw an ~3,600% all-time increase in value since start:\n",
    "\n",
    "![six_coys](../images/companies_chart.png)\n",
    "\n",
    "#### Knowledge Gap\n",
    "\n",
    "However, investing in healthcare companies is hard. Apart from having a good understanding of finance, a healthcare/ biotech investor also needs to have a good understanding of the drug development process, commercial implications of the cutting-edge scientific technologies presented by the companies and also, the regulatory frameworks/ processes that affect a drug's journey from lab to shelf."
   ]
  },
  {
   "cell_type": "markdown",
   "id": "b53f0d56",
   "metadata": {},
   "source": [
    "## Problem Statement"
   ]
  },
  {
   "cell_type": "markdown",
   "id": "2aadad06",
   "metadata": {},
   "source": [
    "This NLP project seeks to derive insights to help the layperson understand whether we can use news headlines to predict the stock price changes of healthcare and biotech companies. Specifically, we seek to identify news headlines that may cause the stock prices to increase/decrease by more than 1.31% (P75 of daily stock price changes) compared to the previous day's closing stock prices (after adjustment for S&P500 price changes). \n",
    "\n",
    "I assess the performance of this supervised classification model based on the following metrics:\n",
    "\n",
    "|Requirements|Rationale|Data Science Metric|\n",
    "|:---|:---|:---|\n",
    "|Strong predictive powers| Effective use of past data points for predictions|Receiver Operating Characteristic Area Under Curve (ROC AUC)|\n",
    "|Ability to accurately associate news headlines with states of price changes|Reliable prediction of whether a headline is going to cause large changes in stock prices|Accuracy Score|\n",
    "|Ability to accurately predict news headlines would cause price shocks|Precise prediction of price shocks|Precision Score|\n",
    "\n",
    "In addition, I will also study if any particular words/ phrases in the headlines may be indicative/ commonly associated with large stock price movements. "
   ]
  },
  {
   "cell_type": "markdown",
   "id": "824c0c89",
   "metadata": {},
   "source": [
    "## Data"
   ]
  },
  {
   "cell_type": "markdown",
   "id": "23dd24ba",
   "metadata": {},
   "source": [
    "#### Data Source and Date Range\n",
    "The news headlines data are directly webscraped from [Reuters](https://www.reuters.com/) and the historical stock prices data are scraped via the [Alpha Vantage API](https://www.alphavantage.co/documentation/). The merged dataset contains news headlines, where available, and stocks data from Jan 2012 to Nov 2019*. \n",
    "\n",
    "\\* News data in 2020 and 2021 were scraped, but not included within the dataset for supervised learning as the high frequency and extraordinary reporting on COVID-19 pandemic will likely introduce noise and bias the analysis.\n",
    "\n",
    "#### Daily Tracking of News and Stocks Data \n",
    "As Reuters is only one of the many news sources that can influence trading outcomes, it might not be effective to predict how headlines can influence stock prices on an intraday basis as the dataset is not comprehensive in terms of all possible news coverage. As such, I have chosen to use historical daily time series stock data (adjusted for stock splits, etc.) as opposed to historical intraday time series stocks data for modelling and stock price predictions. \n",
    "\n",
    "Additionally, it is common that important market moves (e.g. press releases) usually take place outside the regular trading sessions of the NYSE (i.e., 9:30am to 4:00pm EST). A majority of important economic releases are issued at 8:30 a.m. EST, one hour before the New York market opens. Market reaction to the data can cause substantial price moves and set the trading tone for the entire day [(Source)](https://www.investopedia.com/articles/investing/050313/activities-you-can-take-advantage-premarket-and-afterhours-trading-sessions.asp). As such, it seems more appropriate to track stock price changes on a daily rather than intraday basis. \n",
    "\n",
    "#### Data Dictionary for [Cleaned Dataset](../assets/cleaned_data.csv)\n",
    "|Feature|Type|Description|\n",
    "|:---|:---:|:---|\n",
    "|date|*integer*|Date during which the stock and news information was pulled.| \n",
    "|adjusted_abs|*float*|Absolute percentage change for the adjusted closing price of the stock with respect to the previous trading day. Adjustments were made to account for stock splits, dividends and price changes relative to S&P500 price changes.| \n",
    "|adj_direction|*string*|Either `positive`, `negative` or `constant` to denote the directionality of the stock price changes.| \n",
    "|cleaned|*string*|Daily news headlines from Reuters pertaining to the particular ticker concatenated into one single string.| \n",
    "|headline_word|*integer*|Word count of the number of words in the news headlines.| \n",
    "|dict_score|*integer*|Score to denote the news sentiment for healthcare domain. Negative values are assigned to bad news (e.g. failed trial) and positive values are assigned to good news (e.g. fda approval). The scoring is done based on a [dictionary](../assets/dict.csv) that was manually created to label news event as either positive or negative.|\n",
    "|target_var|*integer*|Classification label: **1** denotes when stock prices changed by more than 1.31% (P75), **0** for otherwise.|\n",
    "\n",
    "#### [For Reference] Raw Datasets - Scraped News\n",
    "- [Abbvie](../assets/scraped_news_abbvie.csv)\n",
    "- [Amgen](../assets/scraped_news_amgen.csv)\n",
    "- [Biogen](../assets/scraped_news_biogen.csv)\n",
    "- [Eli Lilly](../assets/scraped_news_lilly.csv)\n",
    "- [Gilead](../assets/scraped_news_gilead.csv)\n",
    "- [Merck](../assets/scraped_news_merck.csv)\n",
    "- [Pfizer](../assets/scraped_news.csv)\n",
    "- [Regeneron](../assets/scraped_news_regeneron.csv)\n",
    "- [Merged](../assets/merged_headlines.csv)"
   ]
  }
 ],
 "metadata": {
  "kernelspec": {
   "display_name": "Python 3",
   "language": "python",
   "name": "python3"
  },
  "language_info": {
   "codemirror_mode": {
    "name": "ipython",
    "version": 3
   },
   "file_extension": ".py",
   "mimetype": "text/x-python",
   "name": "python",
   "nbconvert_exporter": "python",
   "pygments_lexer": "ipython3",
   "version": "3.8.8"
  }
 },
 "nbformat": 4,
 "nbformat_minor": 5
}
