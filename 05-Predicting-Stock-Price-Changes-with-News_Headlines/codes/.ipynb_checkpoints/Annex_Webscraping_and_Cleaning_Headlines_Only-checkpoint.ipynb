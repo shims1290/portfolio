{
 "cells": [
  {
   "cell_type": "markdown",
   "id": "6141c2de",
   "metadata": {},
   "source": [
    "<img src=\"http://imgur.com/1ZcRyrc.png\" style=\"float: left; margin: 20px; height: 55px\">\n",
    "\n",
    "# Capstone Project: Predicting Stock Price Changes based on News"
   ]
  },
  {
   "cell_type": "markdown",
   "id": "a088cc58",
   "metadata": {},
   "source": [
    "### Import Libraries"
   ]
  },
  {
   "cell_type": "code",
   "execution_count": 1,
   "id": "7e5f3c2a",
   "metadata": {},
   "outputs": [],
   "source": [
    "import pandas as pd\n",
    "import datetime\n",
    "import requests\n",
    "import re\n",
    "import time\n",
    "import numpy as np\n",
    "from bs4 import BeautifulSoup\n",
    "\n",
    "pd.set_option('display.max.columns', None)\n",
    "pd.set_option('display.max.colwidth', 100)"
   ]
  },
  {
   "cell_type": "markdown",
   "id": "931c7cd1",
   "metadata": {},
   "source": [
    "### Basic Data Cleaning and Aggregation by Unique Dates"
   ]
  },
  {
   "cell_type": "code",
   "execution_count": 2,
   "id": "7ca4aa9a",
   "metadata": {},
   "outputs": [],
   "source": [
    "# import scraped data & retain only news text\n",
    "pfizer = pd.read_csv(\"../assets/scraped_news.csv\")\n",
    "pfizer.drop(columns=['links'], inplace=True)"
   ]
  },
  {
   "cell_type": "code",
   "execution_count": 3,
   "id": "4c6cb95b",
   "metadata": {},
   "outputs": [
    {
     "data": {
      "text/html": [
       "<div>\n",
       "<style scoped>\n",
       "    .dataframe tbody tr th:only-of-type {\n",
       "        vertical-align: middle;\n",
       "    }\n",
       "\n",
       "    .dataframe tbody tr th {\n",
       "        vertical-align: top;\n",
       "    }\n",
       "\n",
       "    .dataframe thead th {\n",
       "        text-align: right;\n",
       "    }\n",
       "</style>\n",
       "<table border=\"1\" class=\"dataframe\">\n",
       "  <thead>\n",
       "    <tr style=\"text-align: right;\">\n",
       "      <th></th>\n",
       "      <th>dates</th>\n",
       "      <th>headlines</th>\n",
       "      <th>article_content</th>\n",
       "    </tr>\n",
       "  </thead>\n",
       "  <tbody>\n",
       "    <tr>\n",
       "      <th>0</th>\n",
       "      <td>2012-1-13</td>\n",
       "      <td>Nestle declines comment on Pfizer unit bid report</td>\n",
       "      <td>ZURICH, Jan 13 (Reuters) - Nestle, the world’s biggest food group, declined to comment on a rep...</td>\n",
       "    </tr>\n",
       "    <tr>\n",
       "      <th>1</th>\n",
       "      <td>2012-1-27</td>\n",
       "      <td>US FDA approves Pfizer\\'s Inlyta for kidney cancer</td>\n",
       "      <td>WASHINGTON (Reuters) - Pfizer’s Inlyta drug for patients with advanced kidney cancer won approv...</td>\n",
       "    </tr>\n",
       "    <tr>\n",
       "      <th>2</th>\n",
       "      <td>2012-1-31</td>\n",
       "      <td>Generics take toll on Pfizer, Lilly profits</td>\n",
       "      <td>(Reuters) - Competition from low-cost generic drugs squeezed quarterly profits at Pfizer Inc PF...</td>\n",
       "    </tr>\n",
       "    <tr>\n",
       "      <th>3</th>\n",
       "      <td>2012-1-31</td>\n",
       "      <td>Pfizer trims 2012 view, citing stronger dollar</td>\n",
       "      <td>(Reuters) - Pfizer Inc PFE.N reported sharply lower quarterly earnings, hurt by generic forms o...</td>\n",
       "    </tr>\n",
       "    <tr>\n",
       "      <th>4</th>\n",
       "      <td>2012-10-04</td>\n",
       "      <td>Trial suggests Prevnar may also protect ages 18-49</td>\n",
       "      <td>(Reuters) - Pfizer Inc said a late-stage trial of its vaccine to protect against pneumococcal b...</td>\n",
       "    </tr>\n",
       "  </tbody>\n",
       "</table>\n",
       "</div>"
      ],
      "text/plain": [
       "        dates                                           headlines  \\\n",
       "0   2012-1-13   Nestle declines comment on Pfizer unit bid report   \n",
       "1   2012-1-27  US FDA approves Pfizer\\'s Inlyta for kidney cancer   \n",
       "2   2012-1-31         Generics take toll on Pfizer, Lilly profits   \n",
       "3   2012-1-31      Pfizer trims 2012 view, citing stronger dollar   \n",
       "4  2012-10-04  Trial suggests Prevnar may also protect ages 18-49   \n",
       "\n",
       "                                                                                       article_content  \n",
       "0   ZURICH, Jan 13 (Reuters) - Nestle, the world’s biggest food group, declined to comment on a rep...  \n",
       "1   WASHINGTON (Reuters) - Pfizer’s Inlyta drug for patients with advanced kidney cancer won approv...  \n",
       "2   (Reuters) - Competition from low-cost generic drugs squeezed quarterly profits at Pfizer Inc PF...  \n",
       "3   (Reuters) - Pfizer Inc PFE.N reported sharply lower quarterly earnings, hurt by generic forms o...  \n",
       "4   (Reuters) - Pfizer Inc said a late-stage trial of its vaccine to protect against pneumococcal b...  "
      ]
     },
     "execution_count": 3,
     "metadata": {},
     "output_type": "execute_result"
    }
   ],
   "source": [
    "pfizer.head()"
   ]
  },
  {
   "cell_type": "code",
   "execution_count": 4,
   "id": "2e58a9a0",
   "metadata": {},
   "outputs": [],
   "source": [
    "# create function to remove Country, Date and (Reuters) tags \n",
    "def remove_artcicle_tags(text):\n",
    "    for t in text:\n",
    "        t = re.findall(r'^.*\\(\\w+\\) - (.*)', text)\n",
    "    return t"
   ]
  },
  {
   "cell_type": "code",
   "execution_count": null,
   "id": "8e6929c8",
   "metadata": {
    "scrolled": true
   },
   "outputs": [],
   "source": [
    "# apply above function and print new df.head()\n",
    "pfizer['article_content'] = pfizer['article_content'].apply(remove_artcicle_tags)\n",
    "print(df.head())"
   ]
  },
  {
   "cell_type": "code",
   "execution_count": null,
   "id": "0e4b158f",
   "metadata": {},
   "outputs": [],
   "source": [
    "# create new column to concatenate all text info\n",
    "pfizer['news_text'] = pfizer['headlines'] + \" \" + pfizer['article_content'].astype(str)"
   ]
  },
  {
   "cell_type": "code",
   "execution_count": null,
   "id": "af7a849f",
   "metadata": {},
   "outputs": [],
   "source": [
    "# print sample to check that the concantenation worked \n",
    "pfizer['news_text'][0]"
   ]
  },
  {
   "cell_type": "code",
   "execution_count": null,
   "id": "dd405a35",
   "metadata": {},
   "outputs": [],
   "source": [
    "# create a function to check if company is mentioned in the news report at all\n",
    "def company_in_text(text, company):\n",
    "    if company in text.lower():\n",
    "        return 1\n",
    "    else:\n",
    "        return 0"
   ]
  },
  {
   "cell_type": "code",
   "execution_count": null,
   "id": "354e430a",
   "metadata": {},
   "outputs": [],
   "source": [
    "# apply function to create feature column\n",
    "pfizer['mentioned'] = pfizer['news_text'].apply(lambda x: company_in_text(x, \"pfizer\"))"
   ]
  },
  {
   "cell_type": "code",
   "execution_count": null,
   "id": "04805d27",
   "metadata": {
    "scrolled": true
   },
   "outputs": [],
   "source": [
    "# show sample articles where the company was not mentioned at all\n",
    "pfizer[pfizer['mentioned']==0].tail()"
   ]
  },
  {
   "cell_type": "code",
   "execution_count": null,
   "id": "2bf0771e",
   "metadata": {},
   "outputs": [],
   "source": [
    "# print an example of the text\n",
    "print(pfizer['news_text'][6094])"
   ]
  },
  {
   "cell_type": "code",
   "execution_count": null,
   "id": "0eca7f62",
   "metadata": {},
   "outputs": [],
   "source": [
    "# we remove articles with no mention of the company in our dataset\n",
    "pfizer = pfizer[pfizer['mentioned']==1]"
   ]
  },
  {
   "cell_type": "code",
   "execution_count": null,
   "id": "72a4aae6",
   "metadata": {},
   "outputs": [],
   "source": [
    "pfizer.head()"
   ]
  },
  {
   "cell_type": "code",
   "execution_count": null,
   "id": "55c2257d",
   "metadata": {},
   "outputs": [],
   "source": [
    "# count number of news each day\n",
    "news_volume = pfizer.groupby('dates').size()\n",
    "news_volume.head()"
   ]
  },
  {
   "cell_type": "code",
   "execution_count": null,
   "id": "8351f18f",
   "metadata": {},
   "outputs": [],
   "source": [
    "# group headlines together such that each day will only be recorded as one observation\n",
    "agg_text = pfizer.groupby('dates')['news_text'].apply(list)\n",
    "agg_df = pd.DataFrame({'text':agg_text, 'news_count':news_volume})\n",
    "    \n",
    "# set the date index in a particular format \n",
    "agg_df.index = pd.to_datetime(agg_df.index,format=\"%Y-%m-%d\")"
   ]
  },
  {
   "cell_type": "code",
   "execution_count": null,
   "id": "22cec70c",
   "metadata": {
    "scrolled": true
   },
   "outputs": [],
   "source": [
    "agg_df.info()"
   ]
  },
  {
   "cell_type": "code",
   "execution_count": null,
   "id": "f95effc6",
   "metadata": {
    "scrolled": true
   },
   "outputs": [],
   "source": [
    "agg_df.head()"
   ]
  },
  {
   "cell_type": "markdown",
   "id": "2ee6f973",
   "metadata": {},
   "source": [
    "### Webscraping for stocks data using the Alpha Vantage API"
   ]
  },
  {
   "cell_type": "code",
   "execution_count": null,
   "id": "54f273bc",
   "metadata": {},
   "outputs": [],
   "source": [
    "def scrape_stocks(ticker):\n",
    "    \n",
    "    # pull API request\n",
    "    url = ('https://www.alphavantage.co/query?function=TIME_SERIES_DAILY_ADJUSTED&symbol=' + ticker + \n",
    "           '&outputsize=full&apikey=4ALQKUAMC2QCOZW9')\n",
    "    r = requests.get(url)\n",
    "    data = r.json()\n",
    "    \n",
    "    # save data in panda dataframe\n",
    "    df = pd.DataFrame(data[\"Time Series (Daily)\"])\n",
    "    df = df.T\n",
    "    \n",
    "    # grab only stocks data between 01 Jan 2011 and 31 August 2021\n",
    "    df = df.loc['2021-08-31':'2012-01-10']\n",
    "    \n",
    "    # keep only relevant data columns (i.e. adjusted close price and volume)\n",
    "    df = df.iloc[:, 4:6]\n",
    "    \n",
    "    # rename column names \n",
    "    df.rename(columns={\"5. adjusted close\": \"close_price\",\n",
    "                       \"6. volume\": \"trading_volume\" }, inplace=True)\n",
    "    \n",
    "    # change datatype from string to float\n",
    "    for column in df.columns:\n",
    "        df[column] = pd.to_numeric(df[column])\n",
    "        \n",
    "    # set the date index in standard format \n",
    "    df.index = pd.to_datetime(df.index,format=\"%Y-%m-%d\")\n",
    "    df.sort_index(inplace=True)\n",
    "    df['date'] = pd.to_datetime(df.index,format=\"%Y-%m-%d\")\n",
    "    \n",
    "    # rename column names \n",
    "    df['pct_px_change'] = (df['close_price'].pct_change()) * 100\n",
    "    df['abs_pct_change'] = abs((df['close_price'].pct_change()) * 100)\n",
    "        \n",
    "    return df "
   ]
  },
  {
   "cell_type": "code",
   "execution_count": null,
   "id": "005914f5",
   "metadata": {},
   "outputs": [],
   "source": [
    "# scrape relevant stocks data\n",
    "pfe = scrape_stocks('pfe')"
   ]
  },
  {
   "cell_type": "code",
   "execution_count": null,
   "id": "111230b2",
   "metadata": {},
   "outputs": [],
   "source": [
    "pfe.head()"
   ]
  },
  {
   "cell_type": "code",
   "execution_count": null,
   "id": "feea8515",
   "metadata": {},
   "outputs": [],
   "source": [
    "# write loop to create new variable to record price changes over 5 days and store info in new dataframe\n",
    "pct_px_change_5d = []\n",
    "abs_pct_px_change_5d = []\n",
    "date = []\n",
    "\n",
    "for i in range(0, 2422):\n",
    "    d = pfe['date'][i]\n",
    "    px = (pfe['close_price'][i+5] - pfe['close_price'][i]) / pfe['close_price'][i] * 100\n",
    "    date.append(d)\n",
    "    pct_px_change_5d.append(px)\n",
    "    abs_pct_px_change_5d.append(abs(px))\n",
    "        \n",
    "df2 = pd.DataFrame({'date':date, '5d_change':pct_px_change_5d, '5d_abs':abs_pct_px_change_5d})"
   ]
  },
  {
   "cell_type": "code",
   "execution_count": null,
   "id": "2c2fc1e1",
   "metadata": {
    "scrolled": true
   },
   "outputs": [],
   "source": [
    "df2.head()"
   ]
  },
  {
   "cell_type": "code",
   "execution_count": null,
   "id": "d7e7a329",
   "metadata": {
    "scrolled": false
   },
   "outputs": [],
   "source": [
    "# merge both dataframes\n",
    "merged_df = pfe.merge(df2, on=\"date\")"
   ]
  },
  {
   "cell_type": "code",
   "execution_count": null,
   "id": "5a56f357",
   "metadata": {},
   "outputs": [],
   "source": [
    "merged_df"
   ]
  },
  {
   "cell_type": "code",
   "execution_count": null,
   "id": "019b5dc0",
   "metadata": {},
   "outputs": [],
   "source": [
    "# create date column so that the news data can be merged with the stock ticker data\n",
    "agg_df['date'] = pd.to_datetime(agg_df.index,format=\"%Y-%m-%d\")"
   ]
  },
  {
   "cell_type": "code",
   "execution_count": null,
   "id": "4c09005a",
   "metadata": {},
   "outputs": [],
   "source": [
    "# merge news & stocks data\n",
    "pfizer = merged_df.merge(agg_df, on=\"date\")"
   ]
  },
  {
   "cell_type": "code",
   "execution_count": null,
   "id": "7a42cf56",
   "metadata": {},
   "outputs": [],
   "source": [
    "pfizer = pfizer.dropna()"
   ]
  },
  {
   "cell_type": "markdown",
   "id": "c9f3cdbf",
   "metadata": {},
   "source": [
    "### Repeat the same steps for the other companies' data"
   ]
  },
  {
   "cell_type": "code",
   "execution_count": null,
   "id": "616c1303",
   "metadata": {},
   "outputs": [],
   "source": [
    "def clean_and_merge(news, company, ticker):\n",
    "    \n",
    "    news['headlines'] = news['headlines'].apply(clean_updates)\n",
    "    news.drop_duplicates(subset=['headlines'], ignore_index=True, inplace=True)\n",
    "    news.drop(columns=['links'], inplace=True)\n",
    "    news['article_content'] = news['article_content'].apply(remove_artcicle_tags)\n",
    "    news ['news_text'] = news ['headlines'] + \" \" + news ['article_content'].astype(str)\n",
    "    news['mentioned'] = news['news_text'].apply(lambda x: company_in_text(x, company))\n",
    "    news = news[news['mentioned']==1]\n",
    "    news_volume = news.groupby('dates').size()\n",
    "    agg_text = news.groupby('dates')['news_text'].apply(list)\n",
    "    agg_df = pd.DataFrame({'text':agg_text, 'news_count':news_volume})\n",
    "    agg_df['date'] = pd.to_datetime(agg_df.index,format=\"%Y-%m-%d\")\n",
    "    \n",
    "    df = scrape_stocks(ticker)\n",
    "    pct_px_change_5d = []\n",
    "    abs_pct_px_change_5d = []\n",
    "    date = []\n",
    "    x = len(df) - 5\n",
    "\n",
    "    for i in range(0, x):\n",
    "        d = df['date'][i]\n",
    "        px = (df['close_price'][i+5] - df['close_price'][i]) / df['close_price'][i] * 100\n",
    "        date.append(d)\n",
    "        pct_px_change_5d.append(px)\n",
    "        abs_pct_px_change_5d.append(abs(px))\n",
    "        \n",
    "    df2 = pd.DataFrame({'date':date, '5d_change':pct_px_change_5d, '5d_abs':abs_pct_px_change_5d})\n",
    "    \n",
    "    merged_df = df.merge(df2, on=\"date\")\n",
    "    data = merged_df.merge(agg_df, on=\"date\")\n",
    "    \n",
    "    return data"
   ]
  },
  {
   "cell_type": "markdown",
   "id": "f3bdbeed",
   "metadata": {},
   "source": [
    "### Biogen [NASDAQ: BIIB]"
   ]
  },
  {
   "cell_type": "code",
   "execution_count": null,
   "id": "a6d6be3d",
   "metadata": {},
   "outputs": [],
   "source": [
    "df = pd.read_csv(\"../assets/scraped_news_biogen.csv\")"
   ]
  },
  {
   "cell_type": "code",
   "execution_count": null,
   "id": "c31aefb7",
   "metadata": {},
   "outputs": [],
   "source": [
    "biogen = clean_and_merge(df, \"biogen\", \"biib\")"
   ]
  },
  {
   "cell_type": "code",
   "execution_count": null,
   "id": "9deb4753",
   "metadata": {},
   "outputs": [],
   "source": [
    "biogen.head()"
   ]
  },
  {
   "cell_type": "markdown",
   "id": "930d8df8",
   "metadata": {},
   "source": [
    "### Amgen [NASDAQ: AMGN]"
   ]
  },
  {
   "cell_type": "code",
   "execution_count": null,
   "id": "e4914523",
   "metadata": {},
   "outputs": [],
   "source": [
    "df = pd.read_csv(\"../assets/scraped_news_amgen.csv\")"
   ]
  },
  {
   "cell_type": "code",
   "execution_count": null,
   "id": "98249d1a",
   "metadata": {},
   "outputs": [],
   "source": [
    "amgen = clean_and_merge(df, \"amgen\", \"amgn\")"
   ]
  },
  {
   "cell_type": "code",
   "execution_count": null,
   "id": "682b2606",
   "metadata": {},
   "outputs": [],
   "source": [
    "amgen.head()"
   ]
  },
  {
   "cell_type": "markdown",
   "id": "01a662b1",
   "metadata": {},
   "source": [
    "### AbbVie [NYSE: ABBV]"
   ]
  },
  {
   "cell_type": "code",
   "execution_count": null,
   "id": "6aa9cddb",
   "metadata": {},
   "outputs": [],
   "source": [
    "df = pd.read_csv(\"../assets/scraped_news_abbvie.csv\")"
   ]
  },
  {
   "cell_type": "code",
   "execution_count": null,
   "id": "6ad93bb5",
   "metadata": {},
   "outputs": [],
   "source": [
    "abbvie = clean_and_merge(df, \"abbvie\", \"abbv\")"
   ]
  },
  {
   "cell_type": "code",
   "execution_count": null,
   "id": "89eff27a",
   "metadata": {},
   "outputs": [],
   "source": [
    "abbvie.head()"
   ]
  },
  {
   "cell_type": "markdown",
   "id": "7539edde",
   "metadata": {},
   "source": [
    "### Gilead [NASDAQ: GILD]"
   ]
  },
  {
   "cell_type": "code",
   "execution_count": null,
   "id": "372fd190",
   "metadata": {},
   "outputs": [],
   "source": [
    "df = pd.read_csv(\"../assets/scraped_news_gilead.csv\")"
   ]
  },
  {
   "cell_type": "code",
   "execution_count": null,
   "id": "43e3cd8b",
   "metadata": {},
   "outputs": [],
   "source": [
    "gilead = clean_and_merge(df, \"gilead\", \"gild\")"
   ]
  },
  {
   "cell_type": "code",
   "execution_count": null,
   "id": "f906abed",
   "metadata": {},
   "outputs": [],
   "source": [
    "gilead.head()"
   ]
  },
  {
   "cell_type": "markdown",
   "id": "3ee36181",
   "metadata": {},
   "source": [
    "### Merck [NYSE: MRK]"
   ]
  },
  {
   "cell_type": "code",
   "execution_count": null,
   "id": "2da80a7d",
   "metadata": {},
   "outputs": [],
   "source": [
    "df = pd.read_csv(\"../assets/scraped_news_merck.csv\")"
   ]
  },
  {
   "cell_type": "code",
   "execution_count": null,
   "id": "e4269800",
   "metadata": {},
   "outputs": [],
   "source": [
    "merck = clean_and_merge(df, \"merck\", \"mrk\")"
   ]
  },
  {
   "cell_type": "code",
   "execution_count": null,
   "id": "4717b484",
   "metadata": {},
   "outputs": [],
   "source": [
    "merck.head()"
   ]
  },
  {
   "cell_type": "markdown",
   "id": "02c7ccff",
   "metadata": {},
   "source": [
    "### Eli Lilly [NYSE: LLY]"
   ]
  },
  {
   "cell_type": "code",
   "execution_count": null,
   "id": "8167f578",
   "metadata": {},
   "outputs": [],
   "source": [
    "df = pd.read_csv(\"../assets/scraped_news_lilly.csv\")"
   ]
  },
  {
   "cell_type": "code",
   "execution_count": null,
   "id": "3db5c6b2",
   "metadata": {},
   "outputs": [],
   "source": [
    "lilly = clean_and_merge(df, \"lilly\", \"lly\")"
   ]
  },
  {
   "cell_type": "code",
   "execution_count": null,
   "id": "443519aa",
   "metadata": {},
   "outputs": [],
   "source": [
    "lilly.head()"
   ]
  },
  {
   "cell_type": "markdown",
   "id": "b6bc4abb",
   "metadata": {},
   "source": [
    "### Regeneron Pharmaceuticals [NASDAQ: REGN]"
   ]
  },
  {
   "cell_type": "code",
   "execution_count": null,
   "id": "7e156549",
   "metadata": {},
   "outputs": [],
   "source": [
    "df = pd.read_csv(\"../assets/scraped_news_regeneron.csv\")"
   ]
  },
  {
   "cell_type": "code",
   "execution_count": null,
   "id": "2bc2434f",
   "metadata": {},
   "outputs": [],
   "source": [
    "regeneron = clean_and_merge(df, \"regeneron\", \"regn\")"
   ]
  },
  {
   "cell_type": "code",
   "execution_count": null,
   "id": "8b9f773d",
   "metadata": {},
   "outputs": [],
   "source": [
    "regeneron.head()"
   ]
  },
  {
   "cell_type": "markdown",
   "id": "22d6aabf",
   "metadata": {},
   "source": [
    "### Merge dataframes"
   ]
  },
  {
   "cell_type": "code",
   "execution_count": null,
   "id": "c730bfdc",
   "metadata": {},
   "outputs": [],
   "source": [
    "merged = pd.concat([pfizer, biogen, amgen, abbvie, gilead, lilly, merck, regeneron])"
   ]
  },
  {
   "cell_type": "code",
   "execution_count": null,
   "id": "7deecb51",
   "metadata": {},
   "outputs": [],
   "source": [
    "merged.head()"
   ]
  },
  {
   "cell_type": "code",
   "execution_count": null,
   "id": "92d3e173",
   "metadata": {},
   "outputs": [],
   "source": [
    "merged.info()"
   ]
  },
  {
   "cell_type": "code",
   "execution_count": null,
   "id": "8b89e100",
   "metadata": {},
   "outputs": [],
   "source": [
    "# export merged dataset to csv \n",
    "merged.to_csv(\"../assets/merged.csv\", index=False)"
   ]
  }
 ],
 "metadata": {
  "kernelspec": {
   "display_name": "Python 3",
   "language": "python",
   "name": "python3"
  },
  "language_info": {
   "codemirror_mode": {
    "name": "ipython",
    "version": 3
   },
   "file_extension": ".py",
   "mimetype": "text/x-python",
   "name": "python",
   "nbconvert_exporter": "python",
   "pygments_lexer": "ipython3",
   "version": "3.8.8"
  }
 },
 "nbformat": 4,
 "nbformat_minor": 5
}
